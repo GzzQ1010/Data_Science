{
 "cells": [
  {
   "cell_type": "markdown",
   "metadata": {
    "colab_type": "text",
    "id": "eicR8JWRsiGS"
   },
   "source": [
    "## 1. List, tuple, string:\n",
    "\n",
    "Here we are going to talk about list, tuple, and have another look at string.\n",
    "Those three objects are similar, but :\n",
    "\n",
    "\n",
    "\n",
    "1.   string only contains characters.\n",
    "2.   string and tuple are immutable.\n",
    "3.   List is mutable.\n",
    "4.  They can be transformed to each type (when requires are met).\n",
    "\n"
   ]
  },
  {
   "cell_type": "markdown",
   "metadata": {
    "colab_type": "text",
    "id": "3GKOLZGxWZ3V"
   },
   "source": [
    "### 1.1 List\n",
    "\n",
    "#### 1.1.1 List can include different types objects:"
   ]
  },
  {
   "cell_type": "code",
   "execution_count": 116,
   "metadata": {
    "colab": {
     "base_uri": "https://localhost:8080/",
     "height": 35
    },
    "colab_type": "code",
    "executionInfo": {
     "elapsed": 240,
     "status": "ok",
     "timestamp": 1564964720651,
     "user": {
      "displayName": "Ruikang Wang",
      "photoUrl": "https://lh6.googleusercontent.com/-sxpbEWf-1Ng/AAAAAAAAAAI/AAAAAAAAAJ4/3m9qUw3an_4/s64/photo.jpg",
      "userId": "10914323651690992949"
     },
     "user_tz": 240
    },
    "id": "UVlLIeuJWXta",
    "outputId": "8c26e3f7-6231-4c1f-9142-e6722d4fb03a"
   },
   "outputs": [
    {
     "data": {
      "text/plain": [
       "[1, 'character', <function print>, [1, 2, 3]]"
      ]
     },
     "execution_count": 116,
     "metadata": {},
     "output_type": "execute_result"
    }
   ],
   "source": [
    "hybridList = [1,'character', print, [1,2,3]]\n",
    "hybridList"
   ]
  },
  {
   "cell_type": "code",
   "execution_count": 117,
   "metadata": {},
   "outputs": [
    {
     "data": {
      "text/plain": [
       "builtin_function_or_method"
      ]
     },
     "execution_count": 117,
     "metadata": {},
     "output_type": "execute_result"
    }
   ],
   "source": [
    "type(print)"
   ]
  },
  {
   "cell_type": "code",
   "execution_count": 118,
   "metadata": {},
   "outputs": [
    {
     "data": {
      "text/plain": [
       "list"
      ]
     },
     "execution_count": 118,
     "metadata": {},
     "output_type": "execute_result"
    }
   ],
   "source": [
    "type(hybridList)"
   ]
  },
  {
   "cell_type": "code",
   "execution_count": 120,
   "metadata": {},
   "outputs": [
    {
     "data": {
      "text/plain": [
       "10"
      ]
     },
     "execution_count": 120,
     "metadata": {},
     "output_type": "execute_result"
    }
   ],
   "source": [
    "len('helloworld')"
   ]
  },
  {
   "cell_type": "code",
   "execution_count": 121,
   "metadata": {},
   "outputs": [
    {
     "data": {
      "text/plain": [
       "4"
      ]
     },
     "execution_count": 121,
     "metadata": {},
     "output_type": "execute_result"
    }
   ],
   "source": [
    "len(hybridList)"
   ]
  },
  {
   "cell_type": "code",
   "execution_count": 122,
   "metadata": {},
   "outputs": [
    {
     "data": {
      "text/plain": [
       "True"
      ]
     },
     "execution_count": 122,
     "metadata": {},
     "output_type": "execute_result"
    }
   ],
   "source": [
    "print in hybridList"
   ]
  },
  {
   "cell_type": "code",
   "execution_count": 125,
   "metadata": {},
   "outputs": [
    {
     "data": {
      "text/plain": [
       "True"
      ]
     },
     "execution_count": 125,
     "metadata": {},
     "output_type": "execute_result"
    }
   ],
   "source": [
    "[1,2,3] in hybridList"
   ]
  },
  {
   "cell_type": "code",
   "execution_count": 126,
   "metadata": {},
   "outputs": [
    {
     "data": {
      "text/plain": [
       "True"
      ]
     },
     "execution_count": 126,
     "metadata": {},
     "output_type": "execute_result"
    }
   ],
   "source": [
    "'character' in hybridList"
   ]
  },
  {
   "cell_type": "code",
   "execution_count": 127,
   "metadata": {},
   "outputs": [
    {
     "data": {
      "text/plain": [
       "False"
      ]
     },
     "execution_count": 127,
     "metadata": {},
     "output_type": "execute_result"
    }
   ],
   "source": [
    "2 in hybridList"
   ]
  },
  {
   "cell_type": "markdown",
   "metadata": {
    "colab_type": "text",
    "id": "PGqeJRKbWmfm"
   },
   "source": [
    "#### 1.1.2 List elements are called by index, from 0:"
   ]
  },
  {
   "cell_type": "code",
   "execution_count": 128,
   "metadata": {
    "colab": {
     "base_uri": "https://localhost:8080/",
     "height": 35
    },
    "colab_type": "code",
    "executionInfo": {
     "elapsed": 206,
     "status": "ok",
     "timestamp": 1564963578492,
     "user": {
      "displayName": "Ruikang Wang",
      "photoUrl": "https://lh6.googleusercontent.com/-sxpbEWf-1Ng/AAAAAAAAAAI/AAAAAAAAAJ4/3m9qUw3an_4/s64/photo.jpg",
      "userId": "10914323651690992949"
     },
     "user_tz": 240
    },
    "id": "SDW_3FdYWtyq",
    "outputId": "007046ae-b819-48e0-e35a-11d810b8076a"
   },
   "outputs": [
    {
     "data": {
      "text/plain": [
       "1"
      ]
     },
     "execution_count": 128,
     "metadata": {},
     "output_type": "execute_result"
    }
   ],
   "source": [
    "hybridList[0]"
   ]
  },
  {
   "cell_type": "code",
   "execution_count": 129,
   "metadata": {
    "colab": {
     "base_uri": "https://localhost:8080/",
     "height": 35
    },
    "colab_type": "code",
    "executionInfo": {
     "elapsed": 252,
     "status": "ok",
     "timestamp": 1564964730838,
     "user": {
      "displayName": "Ruikang Wang",
      "photoUrl": "https://lh6.googleusercontent.com/-sxpbEWf-1Ng/AAAAAAAAAAI/AAAAAAAAAJ4/3m9qUw3an_4/s64/photo.jpg",
      "userId": "10914323651690992949"
     },
     "user_tz": 240
    },
    "id": "Yo0E0SpROVEZ",
    "outputId": "1b3a25f8-ef08-461a-bc54-7afd6e5c8714"
   },
   "outputs": [
    {
     "data": {
      "text/plain": [
       "<function print>"
      ]
     },
     "execution_count": 129,
     "metadata": {},
     "output_type": "execute_result"
    }
   ],
   "source": [
    "hybridList[2]"
   ]
  },
  {
   "cell_type": "code",
   "execution_count": 130,
   "metadata": {},
   "outputs": [
    {
     "data": {
      "text/plain": [
       "['character', <function print>]"
      ]
     },
     "execution_count": 130,
     "metadata": {},
     "output_type": "execute_result"
    }
   ],
   "source": [
    "hybridList[1:3]"
   ]
  },
  {
   "cell_type": "code",
   "execution_count": 132,
   "metadata": {},
   "outputs": [
    {
     "data": {
      "text/plain": [
       "[1, 'character', <function print>, [1, 2, 3]]"
      ]
     },
     "execution_count": 132,
     "metadata": {},
     "output_type": "execute_result"
    }
   ],
   "source": [
    "hybridList"
   ]
  },
  {
   "cell_type": "code",
   "execution_count": 139,
   "metadata": {
    "colab": {
     "base_uri": "https://localhost:8080/",
     "height": 35
    },
    "colab_type": "code",
    "executionInfo": {
     "elapsed": 172,
     "status": "ok",
     "timestamp": 1564963581587,
     "user": {
      "displayName": "Ruikang Wang",
      "photoUrl": "https://lh6.googleusercontent.com/-sxpbEWf-1Ng/AAAAAAAAAAI/AAAAAAAAAJ4/3m9qUw3an_4/s64/photo.jpg",
      "userId": "10914323651690992949"
     },
     "user_tz": 240
    },
    "id": "CljH-h-3Wvul",
    "outputId": "250f3a19-2fd8-407d-9d15-3f15d6f7578f"
   },
   "outputs": [
    {
     "data": {
      "text/plain": [
       "[1, 2, 3]"
      ]
     },
     "execution_count": 139,
     "metadata": {},
     "output_type": "execute_result"
    }
   ],
   "source": [
    "## And we can also use negative indices to slide from the last element\n",
    "hybridList[-1]"
   ]
  },
  {
   "cell_type": "code",
   "execution_count": 138,
   "metadata": {
    "colab": {
     "base_uri": "https://localhost:8080/",
     "height": 35
    },
    "colab_type": "code",
    "executionInfo": {
     "elapsed": 211,
     "status": "ok",
     "timestamp": 1564963584441,
     "user": {
      "displayName": "Ruikang Wang",
      "photoUrl": "https://lh6.googleusercontent.com/-sxpbEWf-1Ng/AAAAAAAAAAI/AAAAAAAAAJ4/3m9qUw3an_4/s64/photo.jpg",
      "userId": "10914323651690992949"
     },
     "user_tz": 240
    },
    "id": "4TVigFZzOoMz",
    "outputId": "f4597f2a-117d-44c3-d973-f9a8797c262f"
   },
   "outputs": [
    {
     "data": {
      "text/plain": [
       "[1, 2, 3]"
      ]
     },
     "execution_count": 138,
     "metadata": {},
     "output_type": "execute_result"
    }
   ],
   "source": [
    "hybridList[::-1][0]"
   ]
  },
  {
   "cell_type": "code",
   "execution_count": 141,
   "metadata": {},
   "outputs": [
    {
     "data": {
      "text/plain": [
       "[1, 'character', <function print>, [1, 2, 3]]"
      ]
     },
     "execution_count": 141,
     "metadata": {},
     "output_type": "execute_result"
    }
   ],
   "source": [
    "hybridList[:]"
   ]
  },
  {
   "cell_type": "markdown",
   "metadata": {
    "colab_type": "text",
    "id": "TDAN3FtDW7mW"
   },
   "source": [
    "#### 1.1.3 We can change element in a certain list, by assigning values:"
   ]
  },
  {
   "cell_type": "code",
   "execution_count": 143,
   "metadata": {
    "colab": {
     "base_uri": "https://localhost:8080/",
     "height": 35
    },
    "colab_type": "code",
    "executionInfo": {
     "elapsed": 190,
     "status": "ok",
     "timestamp": 1564963586777,
     "user": {
      "displayName": "Ruikang Wang",
      "photoUrl": "https://lh6.googleusercontent.com/-sxpbEWf-1Ng/AAAAAAAAAAI/AAAAAAAAAJ4/3m9qUw3an_4/s64/photo.jpg",
      "userId": "10914323651690992949"
     },
     "user_tz": 240
    },
    "id": "CP9lkIw5XC7q",
    "outputId": "1aa5c4da-2be0-4dd5-cb4a-8b78aa6b8ed7"
   },
   "outputs": [
    {
     "data": {
      "text/plain": [
       "[1, 'character', <function print>, [1, 2, 3]]"
      ]
     },
     "execution_count": 143,
     "metadata": {},
     "output_type": "execute_result"
    }
   ],
   "source": [
    "hybridList"
   ]
  },
  {
   "cell_type": "code",
   "execution_count": 145,
   "metadata": {
    "colab": {
     "base_uri": "https://localhost:8080/",
     "height": 35
    },
    "colab_type": "code",
    "executionInfo": {
     "elapsed": 180,
     "status": "ok",
     "timestamp": 1564963588606,
     "user": {
      "displayName": "Ruikang Wang",
      "photoUrl": "https://lh6.googleusercontent.com/-sxpbEWf-1Ng/AAAAAAAAAAI/AAAAAAAAAJ4/3m9qUw3an_4/s64/photo.jpg",
      "userId": "10914323651690992949"
     },
     "user_tz": 240
    },
    "id": "gipDRI9RW6r8",
    "outputId": "8405e02a-2205-47e4-be02-1a987cfc19e1"
   },
   "outputs": [
    {
     "data": {
      "text/plain": [
       "[1, 'Hello World', <function print>, [1, 2, 3]]"
      ]
     },
     "execution_count": 145,
     "metadata": {},
     "output_type": "execute_result"
    }
   ],
   "source": [
    "hybridList[1] = 'Hello World'\n",
    "hybridList"
   ]
  },
  {
   "cell_type": "markdown",
   "metadata": {
    "colab_type": "text",
    "id": "D5FNW9vWbn4F"
   },
   "source": [
    "#### 1.1.4 Add elements to list:"
   ]
  },
  {
   "cell_type": "code",
   "execution_count": 146,
   "metadata": {
    "colab": {
     "base_uri": "https://localhost:8080/",
     "height": 35
    },
    "colab_type": "code",
    "executionInfo": {
     "elapsed": 206,
     "status": "ok",
     "timestamp": 1564963597720,
     "user": {
      "displayName": "Ruikang Wang",
      "photoUrl": "https://lh6.googleusercontent.com/-sxpbEWf-1Ng/AAAAAAAAAAI/AAAAAAAAAJ4/3m9qUw3an_4/s64/photo.jpg",
      "userId": "10914323651690992949"
     },
     "user_tz": 240
    },
    "id": "pD2BCoLkbqPR",
    "outputId": "7e0506ed-c477-4b21-ede2-4b92c4e7bd24"
   },
   "outputs": [
    {
     "data": {
      "text/plain": [
       "[1, 'Hello World', <function print>, [1, 2, 3], 't']"
      ]
     },
     "execution_count": 146,
     "metadata": {},
     "output_type": "execute_result"
    }
   ],
   "source": [
    "hybridList.append('t')\n",
    "hybridList"
   ]
  },
  {
   "cell_type": "code",
   "execution_count": null,
   "metadata": {},
   "outputs": [],
   "source": [
    "append(hybridList)"
   ]
  },
  {
   "cell_type": "code",
   "execution_count": 147,
   "metadata": {
    "colab": {
     "base_uri": "https://localhost:8080/",
     "height": 35
    },
    "colab_type": "code",
    "executionInfo": {
     "elapsed": 199,
     "status": "ok",
     "timestamp": 1564963600023,
     "user": {
      "displayName": "Ruikang Wang",
      "photoUrl": "https://lh6.googleusercontent.com/-sxpbEWf-1Ng/AAAAAAAAAAI/AAAAAAAAAJ4/3m9qUw3an_4/s64/photo.jpg",
      "userId": "10914323651690992949"
     },
     "user_tz": 240
    },
    "id": "VD0fU_albxlc",
    "outputId": "15e2c343-7b2a-419a-e019-fd4c1d84f3f9"
   },
   "outputs": [
    {
     "data": {
      "text/plain": [
       "[1, 'Learn Python', 'Hello World', <function print>, [1, 2, 3], 't']"
      ]
     },
     "execution_count": 147,
     "metadata": {},
     "output_type": "execute_result"
    }
   ],
   "source": [
    "hybridList.insert(1,'Learn Python')\n",
    "hybridList"
   ]
  },
  {
   "cell_type": "markdown",
   "metadata": {
    "colab_type": "text",
    "id": "5trBayjWcXAg"
   },
   "source": [
    "#### 1.1.5 Pop out elements:"
   ]
  },
  {
   "cell_type": "code",
   "execution_count": 148,
   "metadata": {},
   "outputs": [
    {
     "data": {
      "text/plain": [
       "[1, 'Learn Python', 'Hello World', <function print>, [1, 2, 3], 't']"
      ]
     },
     "execution_count": 148,
     "metadata": {},
     "output_type": "execute_result"
    }
   ],
   "source": [
    "hybridList"
   ]
  },
  {
   "cell_type": "code",
   "execution_count": 149,
   "metadata": {
    "colab": {
     "base_uri": "https://localhost:8080/",
     "height": 53
    },
    "colab_type": "code",
    "executionInfo": {
     "elapsed": 192,
     "status": "ok",
     "timestamp": 1564963603520,
     "user": {
      "displayName": "Ruikang Wang",
      "photoUrl": "https://lh6.googleusercontent.com/-sxpbEWf-1Ng/AAAAAAAAAAI/AAAAAAAAAJ4/3m9qUw3an_4/s64/photo.jpg",
      "userId": "10914323651690992949"
     },
     "user_tz": 240
    },
    "id": "zLQDv_v-cWK6",
    "outputId": "a66f36dd-4f51-4e95-a7d4-cc331bacad08"
   },
   "outputs": [
    {
     "name": "stdout",
     "output_type": "stream",
     "text": [
      "pop_from_list: t\n",
      "current hybridList: [1, 'Learn Python', 'Hello World', <built-in function print>, [1, 2, 3]]\n"
     ]
    }
   ],
   "source": [
    "pop_from_list = hybridList.pop() ##object oriented programming OOP\n",
    "print('pop_from_list:', pop_from_list)\n",
    "print('current hybridList:', hybridList)"
   ]
  },
  {
   "cell_type": "markdown",
   "metadata": {
    "colab_type": "text",
    "id": "DQt4jzynchno"
   },
   "source": [
    "#### 1.1.6 Remove elements from list:"
   ]
  },
  {
   "cell_type": "code",
   "execution_count": 150,
   "metadata": {
    "colab": {
     "base_uri": "https://localhost:8080/",
     "height": 35
    },
    "colab_type": "code",
    "executionInfo": {
     "elapsed": 205,
     "status": "ok",
     "timestamp": 1564963607584,
     "user": {
      "displayName": "Ruikang Wang",
      "photoUrl": "https://lh6.googleusercontent.com/-sxpbEWf-1Ng/AAAAAAAAAAI/AAAAAAAAAJ4/3m9qUw3an_4/s64/photo.jpg",
      "userId": "10914323651690992949"
     },
     "user_tz": 240
    },
    "id": "rWCGTSI2cj1Z",
    "outputId": "5ed76098-e0b3-45f0-e51f-18fc4d4252b6"
   },
   "outputs": [
    {
     "data": {
      "text/plain": [
       "[1, 'Hello World', <function print>, [1, 2, 3]]"
      ]
     },
     "execution_count": 150,
     "metadata": {},
     "output_type": "execute_result"
    }
   ],
   "source": [
    "hybridList.remove('Learn Python')\n",
    "hybridList"
   ]
  },
  {
   "cell_type": "code",
   "execution_count": 151,
   "metadata": {
    "colab": {
     "base_uri": "https://localhost:8080/",
     "height": 35
    },
    "colab_type": "code",
    "executionInfo": {
     "elapsed": 226,
     "status": "ok",
     "timestamp": 1564963658334,
     "user": {
      "displayName": "Ruikang Wang",
      "photoUrl": "https://lh6.googleusercontent.com/-sxpbEWf-1Ng/AAAAAAAAAAI/AAAAAAAAAJ4/3m9qUw3an_4/s64/photo.jpg",
      "userId": "10914323651690992949"
     },
     "user_tz": 240
    },
    "id": "VLzzyc0IcpcK",
    "outputId": "35d39145-eebb-4787-8152-f16f315143fd"
   },
   "outputs": [
    {
     "data": {
      "text/plain": [
       "[1, <function print>, [1, 2, 3]]"
      ]
     },
     "execution_count": 151,
     "metadata": {},
     "output_type": "execute_result"
    }
   ],
   "source": [
    "hybridList.remove(hybridList[1])\n",
    "hybridList"
   ]
  },
  {
   "cell_type": "code",
   "execution_count": 152,
   "metadata": {},
   "outputs": [],
   "source": [
    "del hybridList[1]"
   ]
  },
  {
   "cell_type": "code",
   "execution_count": 153,
   "metadata": {},
   "outputs": [
    {
     "data": {
      "text/plain": [
       "[1, [1, 2, 3]]"
      ]
     },
     "execution_count": 153,
     "metadata": {},
     "output_type": "execute_result"
    }
   ],
   "source": [
    "hybridList"
   ]
  },
  {
   "cell_type": "markdown",
   "metadata": {},
   "source": [
    "#### 1.1.7 List operations"
   ]
  },
  {
   "cell_type": "code",
   "execution_count": 158,
   "metadata": {},
   "outputs": [
    {
     "data": {
      "text/plain": [
       "'abcdef'"
      ]
     },
     "execution_count": 158,
     "metadata": {},
     "output_type": "execute_result"
    }
   ],
   "source": [
    "\"abc\"+\"def\""
   ]
  },
  {
   "cell_type": "code",
   "execution_count": 157,
   "metadata": {},
   "outputs": [
    {
     "data": {
      "text/plain": [
       "[1, 2, 3, 4, 5, 6]"
      ]
     },
     "execution_count": 157,
     "metadata": {},
     "output_type": "execute_result"
    }
   ],
   "source": [
    "list_a = [1,2,3]\n",
    "list_b = [4,5,6]\n",
    "list_a+list_b"
   ]
  },
  {
   "cell_type": "code",
   "execution_count": 26,
   "metadata": {},
   "outputs": [
    {
     "data": {
      "text/plain": [
       "[0, 1, 0, 1, 0, 1, 0, 1, 0, 1]"
      ]
     },
     "execution_count": 26,
     "metadata": {},
     "output_type": "execute_result"
    }
   ],
   "source": [
    "list_c = [0,1]\n",
    "list_c * 5"
   ]
  },
  {
   "cell_type": "markdown",
   "metadata": {},
   "source": [
    "#### 1.1.8 Other list methods\n",
    "Except append, insert, remove, pop, here we are going to learn about :"
   ]
  },
  {
   "cell_type": "code",
   "execution_count": 159,
   "metadata": {},
   "outputs": [
    {
     "data": {
      "text/plain": [
       "[1, [1, 2, 3], 4, 5, 6]"
      ]
     },
     "execution_count": 159,
     "metadata": {},
     "output_type": "execute_result"
    }
   ],
   "source": [
    "hybridList.extend(list_b)\n",
    "hybridList"
   ]
  },
  {
   "cell_type": "code",
   "execution_count": 160,
   "metadata": {},
   "outputs": [],
   "source": [
    "hybridList.append(list_b)"
   ]
  },
  {
   "cell_type": "code",
   "execution_count": 161,
   "metadata": {},
   "outputs": [
    {
     "data": {
      "text/plain": [
       "[1, [1, 2, 3], 4, 5, 6, [4, 5, 6]]"
      ]
     },
     "execution_count": 161,
     "metadata": {},
     "output_type": "execute_result"
    }
   ],
   "source": [
    "hybridList"
   ]
  },
  {
   "cell_type": "code",
   "execution_count": 162,
   "metadata": {},
   "outputs": [
    {
     "data": {
      "text/plain": [
       "4"
      ]
     },
     "execution_count": 162,
     "metadata": {},
     "output_type": "execute_result"
    }
   ],
   "source": [
    "## get the first index of certain element\n",
    "hybridList.index(6)"
   ]
  },
  {
   "cell_type": "code",
   "execution_count": 163,
   "metadata": {},
   "outputs": [
    {
     "data": {
      "text/plain": [
       "True"
      ]
     },
     "execution_count": 163,
     "metadata": {},
     "output_type": "execute_result"
    }
   ],
   "source": [
    "6 in hybridList"
   ]
  },
  {
   "cell_type": "code",
   "execution_count": 29,
   "metadata": {},
   "outputs": [
    {
     "data": {
      "text/plain": [
       "6"
      ]
     },
     "execution_count": 29,
     "metadata": {},
     "output_type": "execute_result"
    }
   ],
   "source": [
    "hybridList[hybridList.index(6)]"
   ]
  },
  {
   "cell_type": "code",
   "execution_count": 166,
   "metadata": {},
   "outputs": [
    {
     "data": {
      "text/plain": [
       "0"
      ]
     },
     "execution_count": 166,
     "metadata": {},
     "output_type": "execute_result"
    }
   ],
   "source": [
    "## count times of appearance\n",
    "hybridList.count(0)"
   ]
  },
  {
   "cell_type": "code",
   "execution_count": 167,
   "metadata": {},
   "outputs": [
    {
     "data": {
      "text/plain": [
       "[[4, 5, 6], 6, 5, 4, [1, 2, 3], 1]"
      ]
     },
     "execution_count": 167,
     "metadata": {},
     "output_type": "execute_result"
    }
   ],
   "source": [
    "hybridList.reverse()\n",
    "hybridList"
   ]
  },
  {
   "cell_type": "code",
   "execution_count": 168,
   "metadata": {},
   "outputs": [
    {
     "data": {
      "text/plain": [
       "[1, [1, 2, 3], 4, 5, 6, [4, 5, 6]]"
      ]
     },
     "execution_count": 168,
     "metadata": {},
     "output_type": "execute_result"
    }
   ],
   "source": [
    "hybridList[::-1]\n"
   ]
  },
  {
   "cell_type": "code",
   "execution_count": 169,
   "metadata": {},
   "outputs": [
    {
     "data": {
      "text/plain": [
       "[[4, 5, 6], 6, 5, 4, [1, 2, 3], 1]"
      ]
     },
     "execution_count": 169,
     "metadata": {},
     "output_type": "execute_result"
    }
   ],
   "source": [
    "hybridList"
   ]
  },
  {
   "cell_type": "markdown",
   "metadata": {},
   "source": [
    "### 1.2 Tuple\n",
    "Tuples are similar to lists. Tuple can also include different types of objects."
   ]
  },
  {
   "cell_type": "markdown",
   "metadata": {
    "colab_type": "text",
    "id": "zmnvb86BXJ95"
   },
   "source": [
    "#### 1.2.1 Different from list, tuple is immutable, which means we cannot re-assign values for the elements inside the tupe once initialized."
   ]
  },
  {
   "cell_type": "code",
   "execution_count": 170,
   "metadata": {
    "colab": {
     "base_uri": "https://localhost:8080/",
     "height": 35
    },
    "colab_type": "code",
    "executionInfo": {
     "elapsed": 208,
     "status": "ok",
     "timestamp": 1564963661525,
     "user": {
      "displayName": "Ruikang Wang",
      "photoUrl": "https://lh6.googleusercontent.com/-sxpbEWf-1Ng/AAAAAAAAAAI/AAAAAAAAAJ4/3m9qUw3an_4/s64/photo.jpg",
      "userId": "10914323651690992949"
     },
     "user_tz": 240
    },
    "id": "vSXN5y1vXHPm",
    "outputId": "35b2a226-368c-4280-e46d-df797d8de30c"
   },
   "outputs": [
    {
     "data": {
      "text/plain": [
       "(1, 'character', <function print>)"
      ]
     },
     "execution_count": 170,
     "metadata": {},
     "output_type": "execute_result"
    }
   ],
   "source": [
    "hybridTuple = (1,'character', print)\n",
    "##[] vs ()\n",
    "hybridTuple"
   ]
  },
  {
   "cell_type": "code",
   "execution_count": 33,
   "metadata": {
    "colab": {
     "base_uri": "https://localhost:8080/",
     "height": 35
    },
    "colab_type": "code",
    "executionInfo": {
     "elapsed": 205,
     "status": "ok",
     "timestamp": 1564963676054,
     "user": {
      "displayName": "Ruikang Wang",
      "photoUrl": "https://lh6.googleusercontent.com/-sxpbEWf-1Ng/AAAAAAAAAAI/AAAAAAAAAJ4/3m9qUw3an_4/s64/photo.jpg",
      "userId": "10914323651690992949"
     },
     "user_tz": 240
    },
    "id": "jDOiZ95zO8Ay",
    "outputId": "14135dba-8431-4295-b7ac-d0110e4a85d2"
   },
   "outputs": [
    {
     "data": {
      "text/plain": [
       "'character'"
      ]
     },
     "execution_count": 33,
     "metadata": {},
     "output_type": "execute_result"
    }
   ],
   "source": [
    "hybridTuple[1]"
   ]
  },
  {
   "cell_type": "code",
   "execution_count": 171,
   "metadata": {
    "colab": {
     "base_uri": "https://localhost:8080/",
     "height": 173
    },
    "colab_type": "code",
    "executionInfo": {
     "elapsed": 208,
     "status": "error",
     "timestamp": 1564963751507,
     "user": {
      "displayName": "Ruikang Wang",
      "photoUrl": "https://lh6.googleusercontent.com/-sxpbEWf-1Ng/AAAAAAAAAAI/AAAAAAAAAJ4/3m9qUw3an_4/s64/photo.jpg",
      "userId": "10914323651690992949"
     },
     "user_tz": 240
    },
    "id": "KZy26kPkXd85",
    "outputId": "af4e3753-b562-4ca7-af10-134d81d9f788"
   },
   "outputs": [
    {
     "ename": "TypeError",
     "evalue": "'tuple' object does not support item assignment",
     "output_type": "error",
     "traceback": [
      "\u001b[0;31m---------------------------------------------------------------------------\u001b[0m",
      "\u001b[0;31mTypeError\u001b[0m                                 Traceback (most recent call last)",
      "\u001b[0;32m<ipython-input-171-e3c60c6cb5b1>\u001b[0m in \u001b[0;36m<module>\u001b[0;34m\u001b[0m\n\u001b[0;32m----> 1\u001b[0;31m \u001b[0mhybridTuple\u001b[0m\u001b[0;34m[\u001b[0m\u001b[0;36m1\u001b[0m\u001b[0;34m]\u001b[0m \u001b[0;34m=\u001b[0m \u001b[0;34m'Hello World'\u001b[0m\u001b[0;34m\u001b[0m\u001b[0;34m\u001b[0m\u001b[0m\n\u001b[0m",
      "\u001b[0;31mTypeError\u001b[0m: 'tuple' object does not support item assignment"
     ]
    }
   ],
   "source": [
    "hybridTuple[1] = 'Hello World'"
   ]
  },
  {
   "cell_type": "markdown",
   "metadata": {},
   "source": [
    "#### 1.2.2 Also, some useful methods in list is not available in tuple:"
   ]
  },
  {
   "cell_type": "code",
   "execution_count": 35,
   "metadata": {
    "colab": {},
    "colab_type": "code",
    "id": "Wic5Ym1aG8To"
   },
   "outputs": [
    {
     "ename": "AttributeError",
     "evalue": "'tuple' object has no attribute 'append'",
     "output_type": "error",
     "traceback": [
      "\u001b[0;31m---------------------------------------------------------------------------\u001b[0m",
      "\u001b[0;31mAttributeError\u001b[0m                            Traceback (most recent call last)",
      "\u001b[0;32m<ipython-input-35-b4ed0b8c47ee>\u001b[0m in \u001b[0;36m<module>\u001b[0;34m\u001b[0m\n\u001b[0;32m----> 1\u001b[0;31m \u001b[0mhybridTuple\u001b[0m\u001b[0;34m.\u001b[0m\u001b[0mappend\u001b[0m\u001b[0;34m(\u001b[0m\u001b[0;36m1\u001b[0m\u001b[0;34m)\u001b[0m\u001b[0;34m\u001b[0m\u001b[0;34m\u001b[0m\u001b[0m\n\u001b[0m",
      "\u001b[0;31mAttributeError\u001b[0m: 'tuple' object has no attribute 'append'"
     ]
    }
   ],
   "source": [
    "hybridTuple.append(1)"
   ]
  },
  {
   "cell_type": "code",
   "execution_count": 36,
   "metadata": {},
   "outputs": [
    {
     "ename": "AttributeError",
     "evalue": "'tuple' object has no attribute 'pop'",
     "output_type": "error",
     "traceback": [
      "\u001b[0;31m---------------------------------------------------------------------------\u001b[0m",
      "\u001b[0;31mAttributeError\u001b[0m                            Traceback (most recent call last)",
      "\u001b[0;32m<ipython-input-36-97bb0e28fc85>\u001b[0m in \u001b[0;36m<module>\u001b[0;34m\u001b[0m\n\u001b[0;32m----> 1\u001b[0;31m \u001b[0mhybridTuple\u001b[0m\u001b[0;34m.\u001b[0m\u001b[0mpop\u001b[0m\u001b[0;34m(\u001b[0m\u001b[0;34m)\u001b[0m\u001b[0;34m\u001b[0m\u001b[0;34m\u001b[0m\u001b[0m\n\u001b[0m",
      "\u001b[0;31mAttributeError\u001b[0m: 'tuple' object has no attribute 'pop'"
     ]
    }
   ],
   "source": [
    "hybridTuple.pop()"
   ]
  },
  {
   "cell_type": "code",
   "execution_count": 37,
   "metadata": {},
   "outputs": [
    {
     "ename": "AttributeError",
     "evalue": "'tuple' object has no attribute 'extend'",
     "output_type": "error",
     "traceback": [
      "\u001b[0;31m---------------------------------------------------------------------------\u001b[0m",
      "\u001b[0;31mAttributeError\u001b[0m                            Traceback (most recent call last)",
      "\u001b[0;32m<ipython-input-37-5725bbfd94e6>\u001b[0m in \u001b[0;36m<module>\u001b[0;34m\u001b[0m\n\u001b[0;32m----> 1\u001b[0;31m \u001b[0mhybridTuple\u001b[0m\u001b[0;34m.\u001b[0m\u001b[0mextend\u001b[0m\u001b[0;34m(\u001b[0m\u001b[0;34m(\u001b[0m\u001b[0;36m1\u001b[0m\u001b[0;34m,\u001b[0m\u001b[0;36m2\u001b[0m\u001b[0;34m,\u001b[0m\u001b[0;36m3\u001b[0m\u001b[0;34m)\u001b[0m\u001b[0;34m)\u001b[0m\u001b[0;34m\u001b[0m\u001b[0;34m\u001b[0m\u001b[0m\n\u001b[0m",
      "\u001b[0;31mAttributeError\u001b[0m: 'tuple' object has no attribute 'extend'"
     ]
    }
   ],
   "source": [
    "hybridTuple.extend((1,2,3))"
   ]
  },
  {
   "cell_type": "markdown",
   "metadata": {},
   "source": [
    "#### 1.2.3 Tuple can do count and index:"
   ]
  },
  {
   "cell_type": "code",
   "execution_count": 172,
   "metadata": {},
   "outputs": [
    {
     "data": {
      "text/plain": [
       "1"
      ]
     },
     "execution_count": 172,
     "metadata": {},
     "output_type": "execute_result"
    }
   ],
   "source": [
    "hybridTuple.count(1)"
   ]
  },
  {
   "cell_type": "code",
   "execution_count": 173,
   "metadata": {},
   "outputs": [
    {
     "data": {
      "text/plain": [
       "True"
      ]
     },
     "execution_count": 173,
     "metadata": {},
     "output_type": "execute_result"
    }
   ],
   "source": [
    "print in hybridTuple"
   ]
  },
  {
   "cell_type": "code",
   "execution_count": 174,
   "metadata": {},
   "outputs": [
    {
     "data": {
      "text/plain": [
       "2"
      ]
     },
     "execution_count": 174,
     "metadata": {},
     "output_type": "execute_result"
    }
   ],
   "source": [
    "hybridTuple.index(print)"
   ]
  },
  {
   "cell_type": "markdown",
   "metadata": {},
   "source": [
    "#### 1.2.4 Tuple can be changed to list, also list can be changed to tuple"
   ]
  },
  {
   "cell_type": "code",
   "execution_count": 176,
   "metadata": {},
   "outputs": [
    {
     "data": {
      "text/plain": [
       "'15.5'"
      ]
     },
     "execution_count": 176,
     "metadata": {},
     "output_type": "execute_result"
    }
   ],
   "source": [
    "str(15.5)"
   ]
  },
  {
   "cell_type": "code",
   "execution_count": 177,
   "metadata": {},
   "outputs": [
    {
     "data": {
      "text/plain": [
       "(1, 'character', <function print>)"
      ]
     },
     "execution_count": 177,
     "metadata": {},
     "output_type": "execute_result"
    }
   ],
   "source": [
    "hybridTuple"
   ]
  },
  {
   "cell_type": "code",
   "execution_count": 40,
   "metadata": {},
   "outputs": [
    {
     "data": {
      "text/plain": [
       "[1, 'character', <function print>]"
      ]
     },
     "execution_count": 40,
     "metadata": {},
     "output_type": "execute_result"
    }
   ],
   "source": [
    "listFromTuple = list(hybridTuple)\n",
    "listFromTuple"
   ]
  },
  {
   "cell_type": "code",
   "execution_count": 41,
   "metadata": {},
   "outputs": [
    {
     "data": {
      "text/plain": [
       "(1, 'character', <function print>)"
      ]
     },
     "execution_count": 41,
     "metadata": {},
     "output_type": "execute_result"
    }
   ],
   "source": [
    "tupleFromList = tuple([1,'character',print])\n",
    "tupleFromList"
   ]
  },
  {
   "cell_type": "markdown",
   "metadata": {},
   "source": [
    "### 1.3 String Again\n",
    "Now we look at string one more time:"
   ]
  },
  {
   "cell_type": "markdown",
   "metadata": {
    "colab_type": "text",
    "id": "yefSL3piXh8e"
   },
   "source": [
    "#### 1.3.1 String and list have some similarity:\n",
    "Both string and list can be viewed as an ordered combination of simple elements. But in string each element is a character."
   ]
  },
  {
   "cell_type": "code",
   "execution_count": 42,
   "metadata": {
    "colab": {
     "base_uri": "https://localhost:8080/",
     "height": 71
    },
    "colab_type": "code",
    "executionInfo": {
     "elapsed": 219,
     "status": "ok",
     "timestamp": 1564963858314,
     "user": {
      "displayName": "Ruikang Wang",
      "photoUrl": "https://lh6.googleusercontent.com/-sxpbEWf-1Ng/AAAAAAAAAAI/AAAAAAAAAJ4/3m9qUw3an_4/s64/photo.jpg",
      "userId": "10914323651690992949"
     },
     "user_tz": 240
    },
    "id": "5k8iexWCXnG1",
    "outputId": "eb0c6df2-60ac-4e39-b3ed-fc4c9a21eb4c"
   },
   "outputs": [
    {
     "data": {
      "text/plain": [
       "'Hello World'"
      ]
     },
     "execution_count": 42,
     "metadata": {},
     "output_type": "execute_result"
    }
   ],
   "source": [
    "my_string = \"Hello World\"\n",
    "my_string"
   ]
  },
  {
   "cell_type": "code",
   "execution_count": 43,
   "metadata": {
    "colab": {
     "base_uri": "https://localhost:8080/",
     "height": 35
    },
    "colab_type": "code",
    "executionInfo": {
     "elapsed": 273,
     "status": "ok",
     "timestamp": 1564963993504,
     "user": {
      "displayName": "Ruikang Wang",
      "photoUrl": "https://lh6.googleusercontent.com/-sxpbEWf-1Ng/AAAAAAAAAAI/AAAAAAAAAJ4/3m9qUw3an_4/s64/photo.jpg",
      "userId": "10914323651690992949"
     },
     "user_tz": 240
    },
    "id": "fgj6G1r1Hgh8",
    "outputId": "3e9bdc7b-630d-4b05-a55f-491722a262e4"
   },
   "outputs": [
    {
     "data": {
      "text/plain": [
       "True"
      ]
     },
     "execution_count": 43,
     "metadata": {},
     "output_type": "execute_result"
    }
   ],
   "source": [
    "\"Hello\" in my_string"
   ]
  },
  {
   "cell_type": "code",
   "execution_count": 44,
   "metadata": {},
   "outputs": [
    {
     "data": {
      "text/plain": [
       "True"
      ]
     },
     "execution_count": 44,
     "metadata": {},
     "output_type": "execute_result"
    }
   ],
   "source": [
    "\"e\" in my_string"
   ]
  },
  {
   "cell_type": "code",
   "execution_count": 179,
   "metadata": {},
   "outputs": [
    {
     "data": {
      "text/plain": [
       "'d'"
      ]
     },
     "execution_count": 179,
     "metadata": {},
     "output_type": "execute_result"
    }
   ],
   "source": [
    "my_string[-1]"
   ]
  },
  {
   "cell_type": "code",
   "execution_count": 180,
   "metadata": {},
   "outputs": [
    {
     "ename": "TypeError",
     "evalue": "'str' object does not support item assignment",
     "output_type": "error",
     "traceback": [
      "\u001b[0;31m---------------------------------------------------------------------------\u001b[0m",
      "\u001b[0;31mTypeError\u001b[0m                                 Traceback (most recent call last)",
      "\u001b[0;32m<ipython-input-180-50f8d5606178>\u001b[0m in \u001b[0;36m<module>\u001b[0;34m\u001b[0m\n\u001b[0;32m----> 1\u001b[0;31m \u001b[0mmy_string\u001b[0m\u001b[0;34m[\u001b[0m\u001b[0;36m1\u001b[0m\u001b[0;34m]\u001b[0m \u001b[0;34m=\u001b[0m \u001b[0;34m's'\u001b[0m\u001b[0;34m\u001b[0m\u001b[0;34m\u001b[0m\u001b[0m\n\u001b[0m",
      "\u001b[0;31mTypeError\u001b[0m: 'str' object does not support item assignment"
     ]
    }
   ],
   "source": [
    "my_string[1] = 's'"
   ]
  },
  {
   "cell_type": "markdown",
   "metadata": {
    "colab_type": "text",
    "id": "HM2EQuhbYWZv"
   },
   "source": [
    "#### 1.3.2 String can be transformed into a list by type converter function"
   ]
  },
  {
   "cell_type": "code",
   "execution_count": 45,
   "metadata": {
    "colab": {
     "base_uri": "https://localhost:8080/",
     "height": 35
    },
    "colab_type": "code",
    "executionInfo": {
     "elapsed": 200,
     "status": "ok",
     "timestamp": 1564964229388,
     "user": {
      "displayName": "Ruikang Wang",
      "photoUrl": "https://lh6.googleusercontent.com/-sxpbEWf-1Ng/AAAAAAAAAAI/AAAAAAAAAJ4/3m9qUw3an_4/s64/photo.jpg",
      "userId": "10914323651690992949"
     },
     "user_tz": 240
    },
    "id": "2lvRUc8jqyXb",
    "outputId": "aef8dbe7-4c9a-41b5-8118-e8345f58142e"
   },
   "outputs": [
    {
     "data": {
      "text/plain": [
       "['s', 'p', 'a', 'm']"
      ]
     },
     "execution_count": 45,
     "metadata": {},
     "output_type": "execute_result"
    }
   ],
   "source": [
    "s = 'spam'\n",
    "t = list(s)\n",
    "t"
   ]
  },
  {
   "cell_type": "code",
   "execution_count": 46,
   "metadata": {
    "colab": {
     "base_uri": "https://localhost:8080/",
     "height": 35
    },
    "colab_type": "code",
    "executionInfo": {
     "elapsed": 392,
     "status": "ok",
     "timestamp": 1564964320339,
     "user": {
      "displayName": "Ruikang Wang",
      "photoUrl": "https://lh6.googleusercontent.com/-sxpbEWf-1Ng/AAAAAAAAAAI/AAAAAAAAAJ4/3m9qUw3an_4/s64/photo.jpg",
      "userId": "10914323651690992949"
     },
     "user_tz": 240
    },
    "id": "A1ZCe2ocI2tW",
    "outputId": "be948c61-b2ce-463e-d20a-defc9c01bbef"
   },
   "outputs": [
    {
     "data": {
      "text/plain": [
       "['H', 'e', 'l', 'l', 'o', ' ', 'W', 'o', 'r', 'l', 'd']"
      ]
     },
     "execution_count": 46,
     "metadata": {},
     "output_type": "execute_result"
    }
   ],
   "source": [
    "list(my_string)"
   ]
  },
  {
   "cell_type": "markdown",
   "metadata": {},
   "source": [
    "#### 1.3.3 str.split() can be used to split a string into list.\n",
    "This method receive one or zero key-word, default value should be ' '"
   ]
  },
  {
   "cell_type": "code",
   "execution_count": 47,
   "metadata": {
    "colab": {
     "base_uri": "https://localhost:8080/",
     "height": 35
    },
    "colab_type": "code",
    "executionInfo": {
     "elapsed": 223,
     "status": "ok",
     "timestamp": 1564964454745,
     "user": {
      "displayName": "Ruikang Wang",
      "photoUrl": "https://lh6.googleusercontent.com/-sxpbEWf-1Ng/AAAAAAAAAAI/AAAAAAAAAJ4/3m9qUw3an_4/s64/photo.jpg",
      "userId": "10914323651690992949"
     },
     "user_tz": 240
    },
    "id": "nVOs3FtPJHJK",
    "outputId": "708b2f86-fa52-4f79-cf51-6ec7a98f22fe"
   },
   "outputs": [
    {
     "data": {
      "text/plain": [
       "['hello', 'world']"
      ]
     },
     "execution_count": 47,
     "metadata": {},
     "output_type": "execute_result"
    }
   ],
   "source": [
    "\"hello world\".split(\" \")"
   ]
  },
  {
   "cell_type": "code",
   "execution_count": 181,
   "metadata": {
    "colab": {
     "base_uri": "https://localhost:8080/",
     "height": 34
    },
    "colab_type": "code",
    "executionInfo": {
     "elapsed": 231,
     "status": "ok",
     "timestamp": 1560100254304,
     "user": {
      "displayName": "Rae Liang",
      "photoUrl": "",
      "userId": "08583492153170310616"
     },
     "user_tz": 240
    },
    "id": "tkwMxQ0iuEdA",
    "outputId": "cb45d12b-fd02-43d7-bd54-fe9f1cf1c8e5"
   },
   "outputs": [
    {
     "data": {
      "text/plain": [
       "['spam', 'spa', 'sp']"
      ]
     },
     "execution_count": 181,
     "metadata": {},
     "output_type": "execute_result"
    }
   ],
   "source": [
    "s = 'spam-spa-sp'\n",
    "delimiter = '-'\n",
    "t = s.split(delimiter)\n",
    "t"
   ]
  },
  {
   "cell_type": "code",
   "execution_count": 49,
   "metadata": {
    "colab": {
     "base_uri": "https://localhost:8080/",
     "height": 35
    },
    "colab_type": "code",
    "executionInfo": {
     "elapsed": 235,
     "status": "ok",
     "timestamp": 1564964481332,
     "user": {
      "displayName": "Ruikang Wang",
      "photoUrl": "https://lh6.googleusercontent.com/-sxpbEWf-1Ng/AAAAAAAAAAI/AAAAAAAAAJ4/3m9qUw3an_4/s64/photo.jpg",
      "userId": "10914323651690992949"
     },
     "user_tz": 240
    },
    "id": "RzgNXbg_uMcn",
    "outputId": "61a96272-8155-44c1-93cd-a085cb244e75"
   },
   "outputs": [
    {
     "data": {
      "text/plain": [
       "['pining', 'for', 'the', 'fjords']"
      ]
     },
     "execution_count": 49,
     "metadata": {},
     "output_type": "execute_result"
    }
   ],
   "source": [
    "s = 'pining for the fjords'\n",
    "t = s.split()\n",
    "t"
   ]
  },
  {
   "cell_type": "code",
   "execution_count": 50,
   "metadata": {},
   "outputs": [
    {
     "data": {
      "text/plain": [
       "['pining', 'for', 'the', 'fjords']"
      ]
     },
     "execution_count": 50,
     "metadata": {},
     "output_type": "execute_result"
    }
   ],
   "source": [
    "s = 'pining for the fjords'\n",
    "t = s.split(' ')\n",
    "t"
   ]
  },
  {
   "cell_type": "markdown",
   "metadata": {},
   "source": [
    "#### 1.3.4 Characters/sub-strings in list can also be turned into string"
   ]
  },
  {
   "cell_type": "code",
   "execution_count": 51,
   "metadata": {
    "colab": {
     "base_uri": "https://localhost:8080/",
     "height": 35
    },
    "colab_type": "code",
    "executionInfo": {
     "elapsed": 217,
     "status": "ok",
     "timestamp": 1564964695064,
     "user": {
      "displayName": "Ruikang Wang",
      "photoUrl": "https://lh6.googleusercontent.com/-sxpbEWf-1Ng/AAAAAAAAAAI/AAAAAAAAAJ4/3m9qUw3an_4/s64/photo.jpg",
      "userId": "10914323651690992949"
     },
     "user_tz": 240
    },
    "id": "9biP_vdwJufO",
    "outputId": "fca548c9-d183-4ba9-9aa1-03f08208cce9"
   },
   "outputs": [
    {
     "data": {
      "text/plain": [
       "'hello my world !!'"
      ]
     },
     "execution_count": 51,
     "metadata": {},
     "output_type": "execute_result"
    }
   ],
   "source": [
    "sub_string_list = ['hello','my','world', '!!']\n",
    "\" \".join(sub_string_list)"
   ]
  },
  {
   "cell_type": "code",
   "execution_count": 52,
   "metadata": {},
   "outputs": [
    {
     "data": {
      "text/plain": [
       "'hello-my-world-!!'"
      ]
     },
     "execution_count": 52,
     "metadata": {},
     "output_type": "execute_result"
    }
   ],
   "source": [
    "\"-\".join(sub_string_list)"
   ]
  },
  {
   "cell_type": "markdown",
   "metadata": {
    "colab_type": "text",
    "id": "ctBWCRs1ebZ-"
   },
   "source": [
    "## 2.Dictionary:\n",
    "So far, list, tuple and string are all ordered data structure/type.\n",
    "Dictionary is a new data structure/type, which is key-value pair."
   ]
  },
  {
   "cell_type": "markdown",
   "metadata": {},
   "source": [
    "### 2.1 dictionary can be initialized in two ways: {} or dict()"
   ]
  },
  {
   "cell_type": "code",
   "execution_count": 53,
   "metadata": {
    "colab": {
     "base_uri": "https://localhost:8080/",
     "height": 53
    },
    "colab_type": "code",
    "executionInfo": {
     "elapsed": 218,
     "status": "ok",
     "timestamp": 1564964949505,
     "user": {
      "displayName": "Ruikang Wang",
      "photoUrl": "https://lh6.googleusercontent.com/-sxpbEWf-1Ng/AAAAAAAAAAI/AAAAAAAAAJ4/3m9qUw3an_4/s64/photo.jpg",
      "userId": "10914323651690992949"
     },
     "user_tz": 240
    },
    "id": "eFOQxmzqef8O",
    "outputId": "f2a4fe1f-62ce-4d36-b90a-50ad8889cc70"
   },
   "outputs": [
    {
     "name": "stdout",
     "output_type": "stream",
     "text": [
      "{'a': 1, 'b': 2, 'c': 3, 'd': 4}\n",
      "{'e': 5, 'f': 6}\n"
     ]
    }
   ],
   "source": [
    "dict_1 = {'a' : 1, 'b' : 2, 'c' : 3, 'd': 4}\n",
    "dict_2 = dict(e=5, f=6)\n",
    "print(dict_1)\n",
    "print(dict_2)"
   ]
  },
  {
   "cell_type": "markdown",
   "metadata": {
    "colab_type": "text",
    "id": "XXMfhT-AfZZv"
   },
   "source": [
    "### 2.2 Dictionary can only be looked up with key, not index"
   ]
  },
  {
   "cell_type": "code",
   "execution_count": 182,
   "metadata": {
    "colab": {
     "base_uri": "https://localhost:8080/",
     "height": 173
    },
    "colab_type": "code",
    "executionInfo": {
     "elapsed": 324,
     "status": "error",
     "timestamp": 1564964970203,
     "user": {
      "displayName": "Ruikang Wang",
      "photoUrl": "https://lh6.googleusercontent.com/-sxpbEWf-1Ng/AAAAAAAAAAI/AAAAAAAAAJ4/3m9qUw3an_4/s64/photo.jpg",
      "userId": "10914323651690992949"
     },
     "user_tz": 240
    },
    "id": "6SUIUyHBfWx3",
    "outputId": "f3688bcc-0cde-4bf0-af57-e965e4be0f22"
   },
   "outputs": [
    {
     "ename": "KeyError",
     "evalue": "-1",
     "output_type": "error",
     "traceback": [
      "\u001b[0;31m---------------------------------------------------------------------------\u001b[0m",
      "\u001b[0;31mKeyError\u001b[0m                                  Traceback (most recent call last)",
      "\u001b[0;32m<ipython-input-182-1165eba74b54>\u001b[0m in \u001b[0;36m<module>\u001b[0;34m\u001b[0m\n\u001b[0;32m----> 1\u001b[0;31m \u001b[0mdict_1\u001b[0m\u001b[0;34m[\u001b[0m\u001b[0;34m-\u001b[0m\u001b[0;36m1\u001b[0m\u001b[0;34m]\u001b[0m\u001b[0;34m\u001b[0m\u001b[0;34m\u001b[0m\u001b[0m\n\u001b[0m",
      "\u001b[0;31mKeyError\u001b[0m: -1"
     ]
    }
   ],
   "source": [
    "dict_1[-1]"
   ]
  },
  {
   "cell_type": "code",
   "execution_count": 183,
   "metadata": {
    "colab": {
     "base_uri": "https://localhost:8080/",
     "height": 35
    },
    "colab_type": "code",
    "executionInfo": {
     "elapsed": 227,
     "status": "ok",
     "timestamp": 1564965096644,
     "user": {
      "displayName": "Ruikang Wang",
      "photoUrl": "https://lh6.googleusercontent.com/-sxpbEWf-1Ng/AAAAAAAAAAI/AAAAAAAAAJ4/3m9qUw3an_4/s64/photo.jpg",
      "userId": "10914323651690992949"
     },
     "user_tz": 240
    },
    "id": "qsUfFWDffdYH",
    "outputId": "3775a40e-d946-4b18-ed15-bbe4d534af1c"
   },
   "outputs": [
    {
     "data": {
      "text/plain": [
       "1"
      ]
     },
     "execution_count": 183,
     "metadata": {},
     "output_type": "execute_result"
    }
   ],
   "source": [
    "dict_1['a']"
   ]
  },
  {
   "cell_type": "code",
   "execution_count": 56,
   "metadata": {},
   "outputs": [
    {
     "data": {
      "text/plain": [
       "1"
      ]
     },
     "execution_count": 56,
     "metadata": {},
     "output_type": "execute_result"
    }
   ],
   "source": [
    "dict_1.get('a')"
   ]
  },
  {
   "cell_type": "markdown",
   "metadata": {},
   "source": [
    "### 2.3 Dictionary's keys and values:"
   ]
  },
  {
   "cell_type": "code",
   "execution_count": 57,
   "metadata": {},
   "outputs": [
    {
     "data": {
      "text/plain": [
       "dict_keys(['a', 'b', 'c', 'd'])"
      ]
     },
     "execution_count": 57,
     "metadata": {},
     "output_type": "execute_result"
    }
   ],
   "source": [
    "dict_1.keys()"
   ]
  },
  {
   "cell_type": "code",
   "execution_count": 184,
   "metadata": {},
   "outputs": [
    {
     "data": {
      "text/plain": [
       "['a', 'b', 'c', 'd']"
      ]
     },
     "execution_count": 184,
     "metadata": {},
     "output_type": "execute_result"
    }
   ],
   "source": [
    "list(dict_1.keys())"
   ]
  },
  {
   "cell_type": "code",
   "execution_count": 58,
   "metadata": {},
   "outputs": [
    {
     "data": {
      "text/plain": [
       "dict_values([1, 2, 3, 4])"
      ]
     },
     "execution_count": 58,
     "metadata": {},
     "output_type": "execute_result"
    }
   ],
   "source": [
    "dict_1.values()"
   ]
  },
  {
   "cell_type": "code",
   "execution_count": 185,
   "metadata": {},
   "outputs": [
    {
     "data": {
      "text/plain": [
       "[1, 2, 3, 4]"
      ]
     },
     "execution_count": 185,
     "metadata": {},
     "output_type": "execute_result"
    }
   ],
   "source": [
    "list(dict_1.values())"
   ]
  },
  {
   "cell_type": "markdown",
   "metadata": {},
   "source": [
    "### 2.4 Update dictionary items:"
   ]
  },
  {
   "cell_type": "code",
   "execution_count": 59,
   "metadata": {},
   "outputs": [
    {
     "data": {
      "text/plain": [
       "{'e': 5, 'f': 6}"
      ]
     },
     "execution_count": 59,
     "metadata": {},
     "output_type": "execute_result"
    }
   ],
   "source": [
    "dict_2"
   ]
  },
  {
   "cell_type": "code",
   "execution_count": 60,
   "metadata": {
    "colab": {},
    "colab_type": "code",
    "id": "guf28dSOMEtT"
   },
   "outputs": [
    {
     "data": {
      "text/plain": [
       "{'e': 5, 'f': 6, 'g': 7}"
      ]
     },
     "execution_count": 60,
     "metadata": {},
     "output_type": "execute_result"
    }
   ],
   "source": [
    "dict_2.update({'g':7})\n",
    "dict_2"
   ]
  },
  {
   "cell_type": "code",
   "execution_count": 61,
   "metadata": {},
   "outputs": [
    {
     "data": {
      "text/plain": [
       "{'e': 100, 'f': 6, 'g': 7}"
      ]
     },
     "execution_count": 61,
     "metadata": {},
     "output_type": "execute_result"
    }
   ],
   "source": [
    "dict_2.update({'e' : 100})\n",
    "dict_2"
   ]
  },
  {
   "cell_type": "code",
   "execution_count": 62,
   "metadata": {},
   "outputs": [
    {
     "data": {
      "text/plain": [
       "{'e': 200, 'f': 6, 'g': 7}"
      ]
     },
     "execution_count": 62,
     "metadata": {},
     "output_type": "execute_result"
    }
   ],
   "source": [
    "dict_2['e'] = 200\n",
    "dict_2"
   ]
  },
  {
   "cell_type": "code",
   "execution_count": 63,
   "metadata": {},
   "outputs": [
    {
     "data": {
      "text/plain": [
       "{'e': 200, 'f': 6, 'g': 7, 'z': 1000}"
      ]
     },
     "execution_count": 63,
     "metadata": {},
     "output_type": "execute_result"
    }
   ],
   "source": [
    "dict_2['z'] = 1000\n",
    "dict_2"
   ]
  },
  {
   "cell_type": "markdown",
   "metadata": {},
   "source": [
    "## 3. For loops:"
   ]
  },
  {
   "cell_type": "markdown",
   "metadata": {
    "colab_type": "text",
    "id": "zdoZm9WGad31"
   },
   "source": [
    "### 3.1 range()"
   ]
  },
  {
   "cell_type": "code",
   "execution_count": 1,
   "metadata": {
    "colab": {
     "base_uri": "https://localhost:8080/",
     "height": 35
    },
    "colab_type": "code",
    "executionInfo": {
     "elapsed": 255,
     "status": "ok",
     "timestamp": 1564965539494,
     "user": {
      "displayName": "Ruikang Wang",
      "photoUrl": "https://lh6.googleusercontent.com/-sxpbEWf-1Ng/AAAAAAAAAAI/AAAAAAAAAJ4/3m9qUw3an_4/s64/photo.jpg",
      "userId": "10914323651690992949"
     },
     "user_tz": 240
    },
    "id": "cKSDstIkM7rx",
    "outputId": "8a6a8d91-42b2-47e4-e8d4-48980b5b3a9d"
   },
   "outputs": [
    {
     "data": {
      "text/plain": [
       "range(0, 10)"
      ]
     },
     "execution_count": 1,
     "metadata": {},
     "output_type": "execute_result"
    }
   ],
   "source": [
    "range(10)"
   ]
  },
  {
   "cell_type": "code",
   "execution_count": 2,
   "metadata": {},
   "outputs": [
    {
     "data": {
      "text/plain": [
       "[0, 1, 2, 3, 4, 5, 6, 7, 8, 9]"
      ]
     },
     "execution_count": 2,
     "metadata": {},
     "output_type": "execute_result"
    }
   ],
   "source": [
    "list(range(10))"
   ]
  },
  {
   "cell_type": "code",
   "execution_count": 3,
   "metadata": {},
   "outputs": [
    {
     "data": {
      "text/plain": [
       "[2, 3, 4, 5, 6, 7, 8, 9, 10, 11, 12, 13, 14]"
      ]
     },
     "execution_count": 3,
     "metadata": {},
     "output_type": "execute_result"
    }
   ],
   "source": [
    "list(range(2,15))"
   ]
  },
  {
   "cell_type": "markdown",
   "metadata": {},
   "source": [
    "### 3.2 Use for loop for range:"
   ]
  },
  {
   "cell_type": "code",
   "execution_count": 4,
   "metadata": {
    "colab": {
     "base_uri": "https://localhost:8080/",
     "height": 197
    },
    "colab_type": "code",
    "executionInfo": {
     "elapsed": 212,
     "status": "ok",
     "timestamp": 1564965398496,
     "user": {
      "displayName": "Ruikang Wang",
      "photoUrl": "https://lh6.googleusercontent.com/-sxpbEWf-1Ng/AAAAAAAAAAI/AAAAAAAAAJ4/3m9qUw3an_4/s64/photo.jpg",
      "userId": "10914323651690992949"
     },
     "user_tz": 240
    },
    "id": "X_FWuulwuVmX",
    "outputId": "1359de8a-58b7-45cc-f610-9fc5b139189f"
   },
   "outputs": [
    {
     "name": "stdout",
     "output_type": "stream",
     "text": [
      "1\n",
      "2\n",
      "3\n",
      "4\n",
      "5\n",
      "6\n",
      "7\n",
      "8\n",
      "9\n",
      "10\n"
     ]
    }
   ],
   "source": [
    "for i in range(1,11):\n",
    "    print(i)"
   ]
  },
  {
   "cell_type": "code",
   "execution_count": 68,
   "metadata": {
    "colab": {
     "base_uri": "https://localhost:8080/",
     "height": 197
    },
    "colab_type": "code",
    "executionInfo": {
     "elapsed": 208,
     "status": "ok",
     "timestamp": 1564965415894,
     "user": {
      "displayName": "Ruikang Wang",
      "photoUrl": "https://lh6.googleusercontent.com/-sxpbEWf-1Ng/AAAAAAAAAAI/AAAAAAAAAJ4/3m9qUw3an_4/s64/photo.jpg",
      "userId": "10914323651690992949"
     },
     "user_tz": 240
    },
    "id": "lmJn8jrrNOaC",
    "outputId": "4b8cc548-aa32-4e0b-deae-f451ca34db82"
   },
   "outputs": [
    {
     "name": "stdout",
     "output_type": "stream",
     "text": [
      "0\n",
      "1\n",
      "2\n",
      "3\n",
      "4\n",
      "5\n",
      "6\n",
      "7\n",
      "8\n",
      "9\n"
     ]
    }
   ],
   "source": [
    "for i in range(10):\n",
    "    print(i)"
   ]
  },
  {
   "cell_type": "markdown",
   "metadata": {},
   "source": [
    "### 3.3 Use for loop for list/tuple/dict/string..."
   ]
  },
  {
   "cell_type": "code",
   "execution_count": 5,
   "metadata": {},
   "outputs": [
    {
     "name": "stdout",
     "output_type": "stream",
     "text": [
      "Abby\n",
      "Bob\n",
      "Cindy\n",
      "Diana\n",
      "Emma\n"
     ]
    },
    {
     "data": {
      "text/plain": [
       "'AbbyBobCindyDianaEmma'"
      ]
     },
     "execution_count": 5,
     "metadata": {},
     "output_type": "execute_result"
    }
   ],
   "source": [
    "raw_name = ''\n",
    "for each_name in [\"Abby\", \"Bob\", \"Cindy\", \"Diana\", 'Emma']:\n",
    "    raw_name = raw_name + each_name\n",
    "    print(each_name)\n",
    "raw_name"
   ]
  },
  {
   "cell_type": "code",
   "execution_count": 6,
   "metadata": {},
   "outputs": [
    {
     "name": "stdout",
     "output_type": "stream",
     "text": [
      "Abby\n",
      "Bob\n",
      "Cindy\n",
      "Diana\n",
      "Emma\n"
     ]
    },
    {
     "data": {
      "text/plain": [
       "'AbbyBobCindyDianaEmma'"
      ]
     },
     "execution_count": 6,
     "metadata": {},
     "output_type": "execute_result"
    }
   ],
   "source": [
    "raw_name = ''\n",
    "name_tuple = (\"Abby\", \"Bob\", \"Cindy\", \"Diana\", 'Emma')\n",
    "for each_name in name_tuple:\n",
    "    raw_name = raw_name + each_name\n",
    "    print(each_name)\n",
    "raw_name"
   ]
  },
  {
   "cell_type": "code",
   "execution_count": 8,
   "metadata": {},
   "outputs": [],
   "source": [
    "dict_2=dict(e=200,f=6,g=7,z=1000)"
   ]
  },
  {
   "cell_type": "code",
   "execution_count": 9,
   "metadata": {},
   "outputs": [
    {
     "name": "stdout",
     "output_type": "stream",
     "text": [
      "e 200\n",
      "f 6\n",
      "g 7\n",
      "z 1000\n"
     ]
    }
   ],
   "source": [
    "for each_key in dict_2.keys():\n",
    "    print(each_key, dict_2.get(each_key))"
   ]
  },
  {
   "cell_type": "code",
   "execution_count": 73,
   "metadata": {
    "colab": {
     "base_uri": "https://localhost:8080/",
     "height": 107
    },
    "colab_type": "code",
    "executionInfo": {
     "elapsed": 222,
     "status": "ok",
     "timestamp": 1564965549918,
     "user": {
      "displayName": "Ruikang Wang",
      "photoUrl": "https://lh6.googleusercontent.com/-sxpbEWf-1Ng/AAAAAAAAAAI/AAAAAAAAAJ4/3m9qUw3an_4/s64/photo.jpg",
      "userId": "10914323651690992949"
     },
     "user_tz": 240
    },
    "id": "BLNwvo0INw0W",
    "outputId": "a4e69f76-26ea-48a1-e58b-9b6040a10dac"
   },
   "outputs": [
    {
     "name": "stdout",
     "output_type": "stream",
     "text": [
      "h\n",
      "e\n",
      "l\n",
      "l\n",
      "o\n"
     ]
    }
   ],
   "source": [
    "for i in \"hello\":\n",
    "    print(i)"
   ]
  },
  {
   "cell_type": "code",
   "execution_count": 74,
   "metadata": {
    "colab": {
     "base_uri": "https://localhost:8080/",
     "height": 71
    },
    "colab_type": "code",
    "executionInfo": {
     "elapsed": 223,
     "status": "ok",
     "timestamp": 1564965670378,
     "user": {
      "displayName": "Ruikang Wang",
      "photoUrl": "https://lh6.googleusercontent.com/-sxpbEWf-1Ng/AAAAAAAAAAI/AAAAAAAAAJ4/3m9qUw3an_4/s64/photo.jpg",
      "userId": "10914323651690992949"
     },
     "user_tz": 240
    },
    "id": "ZGaeG73WbMNx",
    "outputId": "bfa89fe5-b0f8-42a0-cc8e-0913ab9eaade"
   },
   "outputs": [
    {
     "name": "stdout",
     "output_type": "stream",
     "text": [
      "1\n",
      "2\n",
      "{'a': 1, 'b': 2}\n"
     ]
    }
   ],
   "source": [
    "list_2 = [1,'2', {'a':1,'b':2}]\n",
    "for i in list_2:\n",
    "    print(i)"
   ]
  },
  {
   "cell_type": "markdown",
   "metadata": {},
   "source": [
    "## 4. While loop\n",
    "\n",
    "While loop is another way for looping something iterable. We can translate between while loop and for loop.  "
   ]
  },
  {
   "cell_type": "code",
   "execution_count": 187,
   "metadata": {},
   "outputs": [
    {
     "data": {
      "text/plain": [
       "[1, '2', {'a': 1, 'b': 2}]"
      ]
     },
     "execution_count": 187,
     "metadata": {},
     "output_type": "execute_result"
    }
   ],
   "source": [
    "list_2"
   ]
  },
  {
   "cell_type": "code",
   "execution_count": 76,
   "metadata": {},
   "outputs": [
    {
     "name": "stdout",
     "output_type": "stream",
     "text": [
      "1\n",
      "2\n",
      "{'a': 1, 'b': 2}\n"
     ]
    }
   ],
   "source": [
    "## Using for loop:\n",
    "for i in range(0,len(list_2)):\n",
    "    print(list_2[i])\n"
   ]
  },
  {
   "cell_type": "code",
   "execution_count": 188,
   "metadata": {
    "colab": {
     "base_uri": "https://localhost:8080/",
     "height": 71
    },
    "colab_type": "code",
    "executionInfo": {
     "elapsed": 204,
     "status": "ok",
     "timestamp": 1564965771900,
     "user": {
      "displayName": "Ruikang Wang",
      "photoUrl": "https://lh6.googleusercontent.com/-sxpbEWf-1Ng/AAAAAAAAAAI/AAAAAAAAAJ4/3m9qUw3an_4/s64/photo.jpg",
      "userId": "10914323651690992949"
     },
     "user_tz": 240
    },
    "id": "iF1gdrcQOQyF",
    "outputId": "18a254dc-3528-4d75-ace4-eb87fb7f6e45"
   },
   "outputs": [
    {
     "name": "stdout",
     "output_type": "stream",
     "text": [
      "1\n",
      "2\n",
      "{'a': 1, 'b': 2}\n"
     ]
    }
   ],
   "source": [
    "## Using while loop:\n",
    "i = 0\n",
    "while i < len(list_2):\n",
    "    print(list_2[i])\n",
    "    i = i + 1 "
   ]
  },
  {
   "cell_type": "code",
   "execution_count": 189,
   "metadata": {
    "colab": {
     "base_uri": "https://localhost:8080/",
     "height": 197
    },
    "colab_type": "code",
    "executionInfo": {
     "elapsed": 224,
     "status": "ok",
     "timestamp": 1564965792735,
     "user": {
      "displayName": "Ruikang Wang",
      "photoUrl": "https://lh6.googleusercontent.com/-sxpbEWf-1Ng/AAAAAAAAAAI/AAAAAAAAAJ4/3m9qUw3an_4/s64/photo.jpg",
      "userId": "10914323651690992949"
     },
     "user_tz": 240
    },
    "id": "07rUz5l0ai0s",
    "outputId": "37792cee-8d97-4ee3-d915-d645028be7b9"
   },
   "outputs": [
    {
     "name": "stdout",
     "output_type": "stream",
     "text": [
      "0\n",
      "1\n",
      "2\n",
      "3\n",
      "4\n",
      "5\n",
      "6\n",
      "7\n",
      "8\n",
      "9\n"
     ]
    },
    {
     "data": {
      "text/plain": [
       "45"
      ]
     },
     "execution_count": 189,
     "metadata": {},
     "output_type": "execute_result"
    }
   ],
   "source": [
    "i = 0\n",
    "numsum = 0\n",
    "while i < 10:\n",
    "    print(i)\n",
    "    numsum = numsum + i\n",
    "    i = i + 1\n",
    "numsum    "
   ]
  },
  {
   "cell_type": "markdown",
   "metadata": {
    "colab_type": "text",
    "id": "jmJ9eAplYd4U"
   },
   "source": [
    "## 5.Conditions:"
   ]
  },
  {
   "cell_type": "markdown",
   "metadata": {},
   "source": [
    "### 5.1 Boolean"
   ]
  },
  {
   "cell_type": "code",
   "execution_count": 79,
   "metadata": {},
   "outputs": [
    {
     "data": {
      "text/plain": [
       "True"
      ]
     },
     "execution_count": 79,
     "metadata": {},
     "output_type": "execute_result"
    }
   ],
   "source": [
    "True"
   ]
  },
  {
   "cell_type": "code",
   "execution_count": 80,
   "metadata": {},
   "outputs": [
    {
     "data": {
      "text/plain": [
       "False"
      ]
     },
     "execution_count": 80,
     "metadata": {},
     "output_type": "execute_result"
    }
   ],
   "source": [
    "False"
   ]
  },
  {
   "cell_type": "code",
   "execution_count": 81,
   "metadata": {},
   "outputs": [
    {
     "data": {
      "text/plain": [
       "bool"
      ]
     },
     "execution_count": 81,
     "metadata": {},
     "output_type": "execute_result"
    }
   ],
   "source": [
    "type(True)"
   ]
  },
  {
   "cell_type": "code",
   "execution_count": 82,
   "metadata": {},
   "outputs": [
    {
     "data": {
      "text/plain": [
       "bool"
      ]
     },
     "execution_count": 82,
     "metadata": {},
     "output_type": "execute_result"
    }
   ],
   "source": [
    "type(False)"
   ]
  },
  {
   "cell_type": "code",
   "execution_count": 83,
   "metadata": {},
   "outputs": [
    {
     "data": {
      "text/plain": [
       "False"
      ]
     },
     "execution_count": 83,
     "metadata": {},
     "output_type": "execute_result"
    }
   ],
   "source": [
    "a = 10\n",
    "a > 20"
   ]
  },
  {
   "cell_type": "code",
   "execution_count": 84,
   "metadata": {},
   "outputs": [
    {
     "data": {
      "text/plain": [
       "True"
      ]
     },
     "execution_count": 84,
     "metadata": {},
     "output_type": "execute_result"
    }
   ],
   "source": [
    "a = 10 \n",
    "a > 5"
   ]
  },
  {
   "cell_type": "code",
   "execution_count": 85,
   "metadata": {},
   "outputs": [
    {
     "data": {
      "text/plain": [
       "False"
      ]
     },
     "execution_count": 85,
     "metadata": {},
     "output_type": "execute_result"
    }
   ],
   "source": [
    "True & False"
   ]
  },
  {
   "cell_type": "code",
   "execution_count": 86,
   "metadata": {},
   "outputs": [
    {
     "data": {
      "text/plain": [
       "True"
      ]
     },
     "execution_count": 86,
     "metadata": {},
     "output_type": "execute_result"
    }
   ],
   "source": [
    "True | False"
   ]
  },
  {
   "cell_type": "code",
   "execution_count": 87,
   "metadata": {},
   "outputs": [
    {
     "data": {
      "text/plain": [
       "False"
      ]
     },
     "execution_count": 87,
     "metadata": {},
     "output_type": "execute_result"
    }
   ],
   "source": [
    "True and False"
   ]
  },
  {
   "cell_type": "code",
   "execution_count": 88,
   "metadata": {},
   "outputs": [
    {
     "data": {
      "text/plain": [
       "True"
      ]
     },
     "execution_count": 88,
     "metadata": {},
     "output_type": "execute_result"
    }
   ],
   "source": [
    "True or False"
   ]
  },
  {
   "cell_type": "code",
   "execution_count": 89,
   "metadata": {},
   "outputs": [
    {
     "data": {
      "text/plain": [
       "True"
      ]
     },
     "execution_count": 89,
     "metadata": {},
     "output_type": "execute_result"
    }
   ],
   "source": [
    "a = 10\n",
    "(a > 5) or (a > 20)"
   ]
  },
  {
   "cell_type": "code",
   "execution_count": 90,
   "metadata": {},
   "outputs": [
    {
     "data": {
      "text/plain": [
       "False"
      ]
     },
     "execution_count": 90,
     "metadata": {},
     "output_type": "execute_result"
    }
   ],
   "source": [
    "(a > 5) and (a > 20)"
   ]
  },
  {
   "cell_type": "code",
   "execution_count": 91,
   "metadata": {},
   "outputs": [
    {
     "data": {
      "text/plain": [
       "True"
      ]
     },
     "execution_count": 91,
     "metadata": {},
     "output_type": "execute_result"
    }
   ],
   "source": [
    "a != 15"
   ]
  },
  {
   "cell_type": "code",
   "execution_count": 92,
   "metadata": {},
   "outputs": [
    {
     "data": {
      "text/plain": [
       "False"
      ]
     },
     "execution_count": 92,
     "metadata": {},
     "output_type": "execute_result"
    }
   ],
   "source": [
    "a != 10"
   ]
  },
  {
   "cell_type": "code",
   "execution_count": 93,
   "metadata": {},
   "outputs": [
    {
     "data": {
      "text/plain": [
       "True"
      ]
     },
     "execution_count": 93,
     "metadata": {},
     "output_type": "execute_result"
    }
   ],
   "source": [
    "a == 10"
   ]
  },
  {
   "cell_type": "code",
   "execution_count": 94,
   "metadata": {},
   "outputs": [
    {
     "data": {
      "text/plain": [
       "True"
      ]
     },
     "execution_count": 94,
     "metadata": {},
     "output_type": "execute_result"
    }
   ],
   "source": [
    "a = 10\n",
    "(a/5) == 2"
   ]
  },
  {
   "cell_type": "code",
   "execution_count": 95,
   "metadata": {},
   "outputs": [
    {
     "data": {
      "text/plain": [
       "True"
      ]
     },
     "execution_count": 95,
     "metadata": {},
     "output_type": "execute_result"
    }
   ],
   "source": [
    "a = 10\n",
    "(a%4) != 1"
   ]
  },
  {
   "cell_type": "code",
   "execution_count": 96,
   "metadata": {},
   "outputs": [
    {
     "data": {
      "text/plain": [
       "True"
      ]
     },
     "execution_count": 96,
     "metadata": {},
     "output_type": "execute_result"
    }
   ],
   "source": [
    "a=10\n",
    "((a%4) != 1) and ((a/5) == 2)"
   ]
  },
  {
   "cell_type": "code",
   "execution_count": 97,
   "metadata": {},
   "outputs": [
    {
     "data": {
      "text/plain": [
       "1"
      ]
     },
     "execution_count": 97,
     "metadata": {},
     "output_type": "execute_result"
    }
   ],
   "source": [
    "int(True)"
   ]
  },
  {
   "cell_type": "code",
   "execution_count": 98,
   "metadata": {},
   "outputs": [
    {
     "data": {
      "text/plain": [
       "0"
      ]
     },
     "execution_count": 98,
     "metadata": {},
     "output_type": "execute_result"
    }
   ],
   "source": [
    "int(False)"
   ]
  },
  {
   "cell_type": "markdown",
   "metadata": {},
   "source": [
    "### 5.2 if condition"
   ]
  },
  {
   "cell_type": "code",
   "execution_count": 191,
   "metadata": {},
   "outputs": [
    {
     "data": {
      "text/plain": [
       "True"
      ]
     },
     "execution_count": 191,
     "metadata": {},
     "output_type": "execute_result"
    }
   ],
   "source": [
    "a = 10\n",
    "a < 20"
   ]
  },
  {
   "cell_type": "code",
   "execution_count": 99,
   "metadata": {},
   "outputs": [],
   "source": [
    "a = 10\n",
    "if a > 20:\n",
    "    print(a)"
   ]
  },
  {
   "cell_type": "code",
   "execution_count": 100,
   "metadata": {},
   "outputs": [
    {
     "name": "stdout",
     "output_type": "stream",
     "text": [
      "10\n"
     ]
    }
   ],
   "source": [
    "a = 10\n",
    "if a < 20:\n",
    "    print(a)"
   ]
  },
  {
   "cell_type": "markdown",
   "metadata": {},
   "source": [
    "### 5.3 else"
   ]
  },
  {
   "cell_type": "code",
   "execution_count": 101,
   "metadata": {},
   "outputs": [
    {
     "name": "stdout",
     "output_type": "stream",
     "text": [
      "a <= 20\n"
     ]
    }
   ],
   "source": [
    "a = 10\n",
    "if a > 20:\n",
    "    print('a > 20')\n",
    "else:\n",
    "    print('a <= 20')"
   ]
  },
  {
   "cell_type": "code",
   "execution_count": 192,
   "metadata": {},
   "outputs": [
    {
     "name": "stdout",
     "output_type": "stream",
     "text": [
      "a > 5\n"
     ]
    }
   ],
   "source": [
    "a = 10\n",
    "if a > 5:\n",
    "    print('a > 5')\n",
    "else:\n",
    "    print('a <= 5')"
   ]
  },
  {
   "cell_type": "markdown",
   "metadata": {},
   "source": [
    "### 5.4 elif = else + if"
   ]
  },
  {
   "cell_type": "code",
   "execution_count": 193,
   "metadata": {},
   "outputs": [
    {
     "name": "stdout",
     "output_type": "stream",
     "text": [
      "a <= 20 and a > 15\n"
     ]
    }
   ],
   "source": [
    "a = 16\n",
    "if a > 20:\n",
    "    print ('a > 20')\n",
    "elif a > 15: ## else + if\n",
    "    print('a <= 20 and a > 15')\n",
    "else:\n",
    "    print('a <= 15')"
   ]
  },
  {
   "cell_type": "code",
   "execution_count": 103,
   "metadata": {},
   "outputs": [
    {
     "name": "stdout",
     "output_type": "stream",
     "text": [
      "check b\n",
      "a > 8 and b <= 20\n"
     ]
    }
   ],
   "source": [
    "a = 10\n",
    "b = 15\n",
    "if a > 20:\n",
    "    print('a > 20')\n",
    "elif a >8:\n",
    "    print('check b')\n",
    "    if b > 20:\n",
    "        print('a > 8 and b > 20')\n",
    "    else:\n",
    "        print('a > 8 and b <= 20')"
   ]
  },
  {
   "cell_type": "markdown",
   "metadata": {},
   "source": [
    "## 6. Continue and break"
   ]
  },
  {
   "cell_type": "markdown",
   "metadata": {},
   "source": [
    "### 6.1 continue"
   ]
  },
  {
   "cell_type": "code",
   "execution_count": 11,
   "metadata": {},
   "outputs": [
    {
     "name": "stdout",
     "output_type": "stream",
     "text": [
      "7 >= 8\n",
      "8 >= 8\n",
      "9 >= 8\n",
      "10 >= 8\n",
      "11 >= 8\n",
      "12 >= 8\n",
      "13 >= 8\n",
      "14 >= 8\n"
     ]
    }
   ],
   "source": [
    "for i in range(0,15):\n",
    "    if i < 7 :\n",
    "        continue\n",
    "        print('{} < 8'.format(i))\n",
    "    else:\n",
    "        print('{} >= 8'.format(i))"
   ]
  },
  {
   "cell_type": "markdown",
   "metadata": {},
   "source": [
    "### 6.2 break"
   ]
  },
  {
   "cell_type": "code",
   "execution_count": 195,
   "metadata": {},
   "outputs": [
    {
     "name": "stdout",
     "output_type": "stream",
     "text": [
      "0\n",
      "i is not 8\n",
      "1\n",
      "i is not 8\n",
      "2\n",
      "i is not 8\n",
      "3\n",
      "i is not 8\n",
      "4\n",
      "i is not 8\n",
      "5\n",
      "i is not 8\n",
      "6\n",
      "i is not 8\n",
      "7\n",
      "i is not 8\n",
      "8\n"
     ]
    }
   ],
   "source": [
    "for i in range(0,15):\n",
    "    print(i)\n",
    "    if i == 8:\n",
    "        break\n",
    "    else:\n",
    "        print('i is not 8')\n",
    "        continue"
   ]
  },
  {
   "cell_type": "code",
   "execution_count": null,
   "metadata": {},
   "outputs": [],
   "source": []
  }
 ],
 "metadata": {
  "accelerator": "GPU",
  "colab": {
   "collapsed_sections": [],
   "name": "Lecture1.ipynb",
   "provenance": [],
   "version": "0.3.2"
  },
  "kernelspec": {
   "display_name": "Python 3 (ipykernel)",
   "language": "python",
   "name": "python3"
  },
  "language_info": {
   "codemirror_mode": {
    "name": "ipython",
    "version": 3
   },
   "file_extension": ".py",
   "mimetype": "text/x-python",
   "name": "python",
   "nbconvert_exporter": "python",
   "pygments_lexer": "ipython3",
   "version": "3.9.12"
  }
 },
 "nbformat": 4,
 "nbformat_minor": 4
}
