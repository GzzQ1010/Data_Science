{
 "cells": [
  {
   "cell_type": "code",
   "execution_count": 1,
   "id": "191b8b52-5d51-46c4-8aa2-9463023b6ee9",
   "metadata": {},
   "outputs": [],
   "source": [
    "import numpy as np \n",
    "import matplotlib.pyplot as plt \n",
    "from matplotlib import cm \n"
   ]
  },
  {
   "cell_type": "code",
   "execution_count": 10,
   "id": "7e9669eb-53dc-4aae-acc9-29c1e479bce4",
   "metadata": {},
   "outputs": [],
   "source": [
    "fig=plt.figure()\n",
    "ax=plt.axes(projection='3d')\n",
    "\n",
    "x=np.linspace(0,1,200)\n",
    "theta=np.linspace(-2*np.pi,15*np.pi,300)\n",
    "[x,theta]=np.meshgrid(x,theta)\n",
    "phi=(np.pi/2)*np.exp(-theta/8/np.pi)\n",
    "X= 1-.5*pow (1.25*pow(1-np.mod(3.6*theta,2*np.pi)/ np.pi, 2)-1/4, 2)\n",
    "y = 1.95653*pow(x, 2)*pow(1.27689*x-1,2)*np.sin(phi)\n",
    "r = X*(x*np.sin(phi)+y*np.cos(phi))\n",
    "h = X*(x*np.cos(phi)-y*np.sin(phi))\n",
    "\n",
    "c = cm.get_cmap('magma')\n",
    "surf = ax.plot_surface(r * np.cos(theta), r *\n",
    "np.sin(theta), h, rstride=1, cstride=1, cmap= c, linewidth=0, antialiased=True)\n",
    "\n",
    "ax.set_position ((0,0,1,1))\n",
    "plt.show() \n"
   ]
  },
  {
   "cell_type": "code",
   "execution_count": null,
   "id": "13060619-09d7-4f23-abe9-bab6826b2671",
   "metadata": {},
   "outputs": [],
   "source": []
  }
 ],
 "metadata": {
  "kernelspec": {
   "display_name": "Python 3 (ipykernel)",
   "language": "python",
   "name": "python3"
  },
  "language_info": {
   "codemirror_mode": {
    "name": "ipython",
    "version": 3
   },
   "file_extension": ".py",
   "mimetype": "text/x-python",
   "name": "python",
   "nbconvert_exporter": "python",
   "pygments_lexer": "ipython3",
   "version": "3.9.12"
  }
 },
 "nbformat": 4,
 "nbformat_minor": 5
}
