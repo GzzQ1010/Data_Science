{
 "cells": [
  {
   "cell_type": "markdown",
   "metadata": {},
   "source": [
    "# Python Exercises"
   ]
  },
  {
   "cell_type": "markdown",
   "metadata": {},
   "source": [
    "## Problem 1 (List, Set, Iteration, Operators)"
   ]
  },
  {
   "cell_type": "markdown",
   "metadata": {},
   "source": [
    "John works at a clothing store. He has a large pile of socks that he must pair by color for sale. Given an array of integers representing the color of each sock, determine how many pairs of socks with matching colors there are."
   ]
  },
  {
   "cell_type": "markdown",
   "metadata": {},
   "source": [
    "**Requirement**"
   ]
  },
  {
   "cell_type": "markdown",
   "metadata": {},
   "source": [
    "Write a <code>sockMerchant</code> function which must return an integer representing the number of matching pairs of socks that are available."
   ]
  },
  {
   "cell_type": "markdown",
   "metadata": {},
   "source": [
    "<code>sockMerchant</code> has the following parameter(s):\n",
    "- n: the number of socks in the pile (integers from 1 to 100)\n",
    "- ar: the colors of each sock (represented as integers from 1 to 100)"
   ]
  },
  {
   "cell_type": "code",
   "execution_count": 75,
   "metadata": {},
   "outputs": [],
   "source": [
    "import numpy as np\n",
    "import math\n",
    "ar = [10, 20, 20, 10, 10, 30, 50, 10, 20]\n",
    "def sockMerchant(n,ar):\n",
    "    uniques=[]\n",
    "    pairs=0\n",
    "    for i in ar:\n",
    "        if i not in uniques:\n",
    "            uniques.append(i)\n",
    "    for a in uniques:\n",
    "        pairs=pairs+math.floor(ar.count(a)/2)\n",
    "    return pairs\n",
    "        "
   ]
  },
  {
   "cell_type": "code",
   "execution_count": 69,
   "metadata": {},
   "outputs": [
    {
     "data": {
      "text/plain": [
       "[10, 20, 30, 50]"
      ]
     },
     "execution_count": 69,
     "metadata": {},
     "output_type": "execute_result"
    }
   ],
   "source": [
    "uniques=[]\n",
    "for i in ar:\n",
    "    if i not in uniques:\n",
    "        uniques.append(i)\n",
    "            \n",
    "       \n",
    "         "
   ]
  },
  {
   "cell_type": "code",
   "execution_count": 74,
   "metadata": {},
   "outputs": [
    {
     "name": "stdout",
     "output_type": "stream",
     "text": [
      "4\n",
      "3\n",
      "1\n",
      "1\n"
     ]
    }
   ],
   "source": [
    "for a in uniques:\n",
    "     print(ar.count(a))\n",
    "    "
   ]
  },
  {
   "cell_type": "markdown",
   "metadata": {},
   "source": [
    "*Example*"
   ]
  },
  {
   "cell_type": "code",
   "execution_count": 76,
   "metadata": {},
   "outputs": [
    {
     "data": {
      "text/plain": [
       "3"
      ]
     },
     "execution_count": 76,
     "metadata": {},
     "output_type": "execute_result"
    }
   ],
   "source": [
    "sockMerchant(9,ar)\n"
   ]
  },
  {
   "cell_type": "code",
   "execution_count": 77,
   "metadata": {},
   "outputs": [
    {
     "data": {
      "text/plain": [
       "3"
      ]
     },
     "execution_count": 77,
     "metadata": {},
     "output_type": "execute_result"
    }
   ],
   "source": [
    "## Answer \n",
    "def sockMerchant(ar):\n",
    "    colors = set(ar)\n",
    "    pairs = 0\n",
    "    for color  in colors:\n",
    "        pairs += ar.count(color) // 2\n",
    "#         pairs = pairs+ar.count(color) // 2\n",
    "    return pairs\n",
    "\n",
    "sockMerchant(ar)"
   ]
  },
  {
   "cell_type": "markdown",
   "metadata": {},
   "source": [
    "<code>ar = [10, 20, 20, 10, 10, 30, 50, 10, 20]</code>\n",
    "\n",
    "<code>sockMerchant(ar)</code>\n",
    "\n",
    "output: 3"
   ]
  },
  {
   "cell_type": "markdown",
   "metadata": {},
   "source": [
    "## Problem 2 (String, Iteration, Conditions)"
   ]
  },
  {
   "cell_type": "markdown",
   "metadata": {},
   "source": [
    "Gary is an avid hiker. He tracks his hikes meticulously, paying close attention to small details like topography. During his last hike he took exactly <code>n</code> steps. For every step he took, he noted if it was an uphill,<code>U</code> , or a downhill, <code>D</code> step. Gary's hikes start and end at sea level and each step up or down represents a <code>1</code> unit change in altitude. We define the following term:\n",
    "- A valley is a sequence of consecutive steps below sea level, starting with a step down from sea level and ending with a step up to sea level."
   ]
  },
  {
   "cell_type": "markdown",
   "metadata": {},
   "source": [
    "**Requirement**"
   ]
  },
  {
   "cell_type": "markdown",
   "metadata": {},
   "source": [
    "Given Gary's sequence of up and down steps during his last hike, find and print the number of valleys he walked through by writing a <code>countingValleys</code> function."
   ]
  },
  {
   "cell_type": "markdown",
   "metadata": {},
   "source": [
    "Parameter:\n",
    "- s: a string of n characters that describe his path."
   ]
  },
  {
   "cell_type": "markdown",
   "metadata": {},
   "source": [
    "*Example*"
   ]
  },
  {
   "cell_type": "markdown",
   "metadata": {},
   "source": [
    "<code>s = 'UDDDUDUU'</code>\n",
    "\n",
    "<code>countingValleys(s)</code>\n",
    "\n",
    "output: 1"
   ]
  },
  {
   "cell_type": "code",
   "execution_count": 101,
   "metadata": {},
   "outputs": [],
   "source": [
    "def countingValleys(s):\n",
    "    level=0\n",
    "    velleys=0\n",
    "    for i in s:\n",
    "        prelevel=level\n",
    "        if i == 'U':\n",
    "            level=level+1\n",
    "        else:\n",
    "            level=level-1\n",
    "        if prelevel<0 and level>= 0:\n",
    "            velleys=velleys+1 \n",
    "            return velleys"
   ]
  },
  {
   "cell_type": "code",
   "execution_count": 100,
   "metadata": {},
   "outputs": [
    {
     "name": "stdout",
     "output_type": "stream",
     "text": [
      "level 1\n",
      "prelevel 0\n",
      "level 0\n",
      "prelevel 1\n",
      "level -1\n",
      "prelevel 0\n",
      "level -2\n",
      "prelevel -1\n",
      "level -1\n",
      "prelevel -2\n",
      "level -2\n",
      "prelevel -1\n",
      "level -1\n",
      "prelevel -2\n",
      "level 0\n",
      "prelevel -1\n"
     ]
    }
   ],
   "source": [
    "s = 'UDDDUDUU'\n",
    "level=0\n",
    "velleys=0\n",
    "for i in s:\n",
    "    prelevel=level\n",
    "    if i == 'U':\n",
    "        level=level+1\n",
    "    else:\n",
    "        level=level-1\n",
    "    print(\"level\",level)\n",
    "    print(\"prelevel\",prelevel)"
   ]
  },
  {
   "cell_type": "code",
   "execution_count": 102,
   "metadata": {},
   "outputs": [
    {
     "data": {
      "text/plain": [
       "1"
      ]
     },
     "execution_count": 102,
     "metadata": {},
     "output_type": "execute_result"
    }
   ],
   "source": [
    "countingValleys('UDDDUDUU')"
   ]
  },
  {
   "cell_type": "markdown",
   "metadata": {},
   "source": [
    "## Problem 3 (Loop, Conditions)"
   ]
  },
  {
   "cell_type": "markdown",
   "metadata": {},
   "source": [
    "Emma is playing a new mobile game that starts with consecutively numbered clouds. Some of the clouds are **thunderheads** and others are **cumulus**. She can jump on any cumulus cloud having a number that is equal to the number of the current cloud plus $1$ or $2$. She must avoid the thunderheads. Determine the minimum number of jumps it will take Emma to jump from her starting postion to the last cloud. **It is always possible to win the game.**\n",
    "\n",
    "For each game, Emma will get an array of clouds numbered $0$ if they are safe or $1$ if they must be avoided. For example, <code>c=[0,1,0,0,0,1,0]</code> indexed from $0\\dots6$. The number on each cloud is its index in the list so she must avoid the clouds at indexes $1$ and $5$. She could follow the following two paths: $0\\rightarrow2\\rightarrow4\\rightarrow6$ or $0\\rightarrow2\\rightarrow3\\rightarrow4\\rightarrow6$. The first path takes $3$ jumps while the second takes $4$."
   ]
  },
  {
   "cell_type": "markdown",
   "metadata": {},
   "source": [
    "**Requirement**"
   ]
  },
  {
   "cell_type": "markdown",
   "metadata": {},
   "source": [
    "Write a <code>jumpingOnClouds(c)</code> function which returns the **minimum** number of jumps required, as an integer.\n",
    "\n",
    "Parameter:\n",
    "- c: an array of binary integers"
   ]
  },
  {
   "cell_type": "markdown",
   "metadata": {},
   "source": [
    "*Example*"
   ]
  },
  {
   "cell_type": "markdown",
   "metadata": {},
   "source": [
    "<code>c = [0, 0, 1, 0, 0, 1, 0]</code>\n",
    "\n",
    "<code>jumpingOnClouds(c)</code>\n",
    "\n",
    "output: 4"
   ]
  },
  {
   "cell_type": "code",
   "execution_count": 141,
   "metadata": {},
   "outputs": [],
   "source": [
    "def jumpingOnClouds(c):\n",
    "    jumps=0\n",
    "    position=0\n",
    "    while position<=len(c):\n",
    "        if position == len(c) - 2:\n",
    "            jumps += 1\n",
    "            break \n",
    "        if c[position+2]== 0:\n",
    "            position=position+2\n",
    "            jumps=jumps+1 \n",
    "        else:\n",
    "            position=position+1\n",
    "            jumps=jumps+1\n",
    "            return jumps\n",
    "    \n",
    "        \n",
    "    \n",
    "        \n",
    "        "
   ]
  },
  {
   "cell_type": "code",
   "execution_count": 154,
   "metadata": {},
   "outputs": [],
   "source": [
    "def jumpingOnClouds(c):\n",
    "    jumps=0\n",
    "    position=0\n",
    "    while position<=len(c):\n",
    "        if position > len(c) - 2:\n",
    "            jumps + 1\n",
    "            break \n",
    "        if c[position+2]== 0:\n",
    "            position=position+2\n",
    "            jumps=jumps+1 \n",
    "        else:\n",
    "            position=position+1\n",
    "            jumps=jumps+1\n",
    "    return jumps "
   ]
  },
  {
   "cell_type": "code",
   "execution_count": 155,
   "metadata": {},
   "outputs": [
    {
     "data": {
      "text/plain": [
       "4"
      ]
     },
     "execution_count": 155,
     "metadata": {},
     "output_type": "execute_result"
    }
   ],
   "source": [
    "c=[0, 0, 1, 0, 0, 1, 0]\n",
    "jumpingOnClouds(c)"
   ]
  },
  {
   "cell_type": "code",
   "execution_count": 156,
   "metadata": {},
   "outputs": [],
   "source": [
    "## answer\n",
    "def jumpingOnClouds(c):\n",
    "    jumps = 0\n",
    "    position = 0\n",
    "    while position < len(c) - 1:\n",
    "        if position == len(c) - 2:\n",
    "            jumps += 1\n",
    "            break\n",
    "        if c[position + 2] == 0:\n",
    "            jumps += 1\n",
    "            position += 2## += : add two values together and assign the resultant value to a variable\n",
    "        else:\n",
    "            jumps += 1\n",
    "            position += 1\n",
    "    \n",
    "    return jumps"
   ]
  },
  {
   "cell_type": "markdown",
   "metadata": {},
   "source": [
    "## Problem 4 (String, Dictionary, List)"
   ]
  },
  {
   "cell_type": "markdown",
   "metadata": {},
   "source": [
    "Sherlock considers a string to be valid if all characters of the string appear the same number of times. It is also valid if he can remove just 1 character at 1 index in the string, and the remaining characters will occur the same number of times. \n",
    "\n",
    "Given a string <code>s</code>, determine if it is valid. If so, return YES, otherwise return NO."
   ]
  },
  {
   "cell_type": "markdown",
   "metadata": {},
   "source": [
    "For example, if <code>s = abc</code>, it is a valid string because frequencies are <code>{'a': 1, 'b': 1, 'c': 1}</code>. So is <code>s = abcc</code> because we can remove one <code>c</code> and have 1 of each character in the remaining string. If <code>s = abccc</code> however, the string is not valid as we can only remove 1 occurrence of <code>c</code>. That would leave character frequencies of <code>{'a': 1, 'b': 1, 'c': 2}.</code>"
   ]
  },
  {
   "cell_type": "markdown",
   "metadata": {},
   "source": [
    "**Requirement**\n",
    "\n",
    "Write a function <code>is_valid</code> with input being a single string <code>s</code> that returns YES if the string is valid and otherwise NO.\n",
    "\n",
    "Note:\n",
    "1. The string will be at least 1 character in length and will be lowercase letters only.\n",
    "2. No need to use advanced packages such as <code>numpy</code> or <code>pandas</code>."
   ]
  },
  {
   "cell_type": "code",
   "execution_count": null,
   "metadata": {},
   "outputs": [],
   "source": [
    "def is_valid(s: string):\n",
    "    c_count=[]\n",
    "    for i in s:\n",
    "        a=s.count(i)\n",
    "        c_count.append(a)\n",
    "    if c_count.\n",
    "    "
   ]
  },
  {
   "cell_type": "code",
   "execution_count": 179,
   "metadata": {},
   "outputs": [
    {
     "data": {
      "text/plain": [
       "['b', 'c', 'a']"
      ]
     },
     "execution_count": 179,
     "metadata": {},
     "output_type": "execute_result"
    }
   ],
   "source": [
    "s = 'abccc'\n",
    "c_count=[]\n",
    "s_c_list=list(set(s))\n",
    "s_c_list"
   ]
  },
  {
   "cell_type": "code",
   "execution_count": 216,
   "metadata": {},
   "outputs": [],
   "source": [
    "s = 'abccc'\n",
    "c_count=[]\n",
    "s_c_list=list(set(s))\n",
    "s_c_list\n",
    "\n",
    "def mode(list_):\n",
    "    \"\"\"\n",
    "    find the mode numbers of a list\n",
    "    \"\"\"\n",
    "    frequency={}\n",
    "    for number in list_:\n",
    "        frequency.setdefault(number,0)\n",
    "        frequency[number]+=1\n",
    "    highest_frequency=max(frequency.values ())\n",
    "    highest_frequent_list=[]\n",
    "    for number,freq in frequency.items():\n",
    "        if freq==highest_frequency:\n",
    "            highest_frequent_list.append(number)\n",
    "    return highest_frequent_list\n",
    "        \n",
    "def is_vaild(s):    \n",
    "    for i in s_c_list:\n",
    "        a=s.count(i)\n",
    "        c_count.append(a)\n",
    "\n",
    "    if max(c_count) == mode(c_count)[0]or max(c_count)-1 == mode(c_count)[0]:\n",
    "        print('Vaild')\n",
    "    else:\n",
    "        print('Invaild')\n",
    "    \n",
    "# print(c_count)\n",
    "# print(mode(c_count))\n",
    "# print(max(c_count))\n",
    "# c_dict=dict(zip(s_c_list,c_count))\n",
    "# mode=list((v for (k,v) in c_dict.items() if v==max(c_count)))\n",
    "# mode\n",
    "\n",
    "\n",
    "#print(c_dict)\n"
   ]
  },
  {
   "cell_type": "code",
   "execution_count": 217,
   "metadata": {},
   "outputs": [
    {
     "name": "stdout",
     "output_type": "stream",
     "text": [
      "Vaild\n"
     ]
    }
   ],
   "source": [
    "s='aabbccc'\n",
    "is_vaild(s)"
   ]
  },
  {
   "cell_type": "code",
   "execution_count": 193,
   "metadata": {},
   "outputs": [
    {
     "name": "stdout",
     "output_type": "stream",
     "text": [
      "{'b': 1, 'c': 3, 'a': 1}\n"
     ]
    }
   ],
   "source": [
    "#     print(str(c_dict))\n",
    "# for c in range(len(s_c_list)):\n",
    "#     c_dict={s_c_list[c]:c_count[c]}\n",
    "#     print(str(c_dict))\n",
    "    \n",
    "            "
   ]
  },
  {
   "cell_type": "code",
   "execution_count": null,
   "metadata": {},
   "outputs": [],
   "source": []
  },
  {
   "cell_type": "markdown",
   "metadata": {},
   "source": [
    "## Problem 5 (Recursion)"
   ]
  },
  {
   "cell_type": "markdown",
   "metadata": {},
   "source": [
    "Find the number of ways that a given integer $X$ can be expressed as the sum of the $N^{th}$ powers of **unique**, natural numbers.\n",
    "\n",
    "For example, if $X=13$ and $N=2$, we have to find all the combinations of unique squares adding up to $13$. The only solution is $2^2+3^2$.\n",
    "\n",
    "As another example, if $X=100$ and $N=2$, we have $100=10^2=6^2+8^2=1^2+3^2+4^2+5^2+7^2$."
   ]
  },
  {
   "cell_type": "markdown",
   "metadata": {},
   "source": [
    "**Requirement**"
   ]
  },
  {
   "cell_type": "markdown",
   "metadata": {},
   "source": [
    "Write a function <code>powerSum</code> that returns an integer that represents the number of possible combinations.\n",
    "\n",
    "Parameters:\n",
    "- X: the integer to sum to. ($1 \\le X \\le1000$)\n",
    "- N: the integer power to raise number to. ($2\\le N\\le10$)"
   ]
  },
  {
   "cell_type": "markdown",
   "metadata": {},
   "source": [
    "*Example*"
   ]
  },
  {
   "cell_type": "markdown",
   "metadata": {},
   "source": [
    "<code>X = 10</code>\n",
    "\n",
    "<code>N = 2</code>\n",
    "\n",
    "<code>powerSum(X, N)</code>\n",
    "\n",
    "output: 1"
   ]
  },
  {
   "cell_type": "code",
   "execution_count": null,
   "metadata": {},
   "outputs": [],
   "source": [
    "def powerSum(X:int,N:int):\n",
    "    \n",
    "    if\n",
    "        return 0\n",
    "    if X==1:\n",
    "        return 1\n",
    "    \n",
    "    elif \n",
    "        return powerSum(...) + powerSum(...)\n",
    "    "
   ]
  },
  {
   "cell_type": "code",
   "execution_count": 220,
   "metadata": {},
   "outputs": [],
   "source": [
    "def power(num, n):\n",
    " \n",
    "    if(n == 0):\n",
    "        return 1\n",
    "    elif(n % 2 == 0):\n",
    "        return power(num, n // 2) * power(num, n // 2)\n",
    "    else:\n",
    "        return num * power(num, n // 2) * power(num, n // 2)\n",
    "    "
   ]
  },
  {
   "cell_type": "code",
   "execution_count": 221,
   "metadata": {},
   "outputs": [
    {
     "data": {
      "text/plain": [
       "4"
      ]
     },
     "execution_count": 221,
     "metadata": {},
     "output_type": "execute_result"
    }
   ],
   "source": [
    "power(2,4)"
   ]
  },
  {
   "cell_type": "code",
   "execution_count": null,
   "metadata": {},
   "outputs": [],
   "source": []
  }
 ],
 "metadata": {
  "kernelspec": {
   "display_name": "Python 3 (ipykernel)",
   "language": "python",
   "name": "python3"
  },
  "language_info": {
   "codemirror_mode": {
    "name": "ipython",
    "version": 3
   },
   "file_extension": ".py",
   "mimetype": "text/x-python",
   "name": "python",
   "nbconvert_exporter": "python",
   "pygments_lexer": "ipython3",
   "version": "3.9.12"
  },
  "latex_envs": {
   "LaTeX_envs_menu_present": true,
   "autoclose": false,
   "autocomplete": true,
   "bibliofile": "biblio.bib",
   "cite_by": "apalike",
   "current_citInitial": 1,
   "eqLabelWithNumbers": true,
   "eqNumInitial": 1,
   "hotkeys": {
    "equation": "Ctrl-E",
    "itemize": "Ctrl-I"
   },
   "labels_anchors": false,
   "latex_user_defs": false,
   "report_style_numbering": false,
   "user_envs_cfg": false
  },
  "toc": {
   "nav_menu": {},
   "number_sections": true,
   "sideBar": false,
   "skip_h1_title": false,
   "title_cell": "Table of Contents",
   "title_sidebar": "Contents",
   "toc_cell": false,
   "toc_position": {
    "height": "47px",
    "left": "1120.64px",
    "top": "110px",
    "width": "159.359px"
   },
   "toc_section_display": false,
   "toc_window_display": true
  },
  "varInspector": {
   "cols": {
    "lenName": 16,
    "lenType": 16,
    "lenVar": 40
   },
   "kernels_config": {
    "python": {
     "delete_cmd_postfix": "",
     "delete_cmd_prefix": "del ",
     "library": "var_list.py",
     "varRefreshCmd": "print(var_dic_list())"
    },
    "r": {
     "delete_cmd_postfix": ") ",
     "delete_cmd_prefix": "rm(",
     "library": "var_list.r",
     "varRefreshCmd": "cat(var_dic_list()) "
    }
   },
   "types_to_exclude": [
    "module",
    "function",
    "builtin_function_or_method",
    "instance",
    "_Feature"
   ],
   "window_display": false
  }
 },
 "nbformat": 4,
 "nbformat_minor": 4
}
