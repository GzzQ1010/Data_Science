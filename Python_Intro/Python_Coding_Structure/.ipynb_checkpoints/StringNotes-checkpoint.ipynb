{
 "cells": [
  {
   "cell_type": "markdown",
   "id": "fc653d97-0b9b-4a6d-920d-067843acc058",
   "metadata": {},
   "source": [
    "####字符串###\n",
    "python 直接支持unicode（‘16位’）\n",
    "\n"
   ]
  },
  {
   "cell_type": "code",
   "execution_count": 7,
   "id": "1d3b83d8-37cb-4dcf-8424-1787c101b2c0",
   "metadata": {},
   "outputs": [
    {
     "data": {
      "text/plain": [
       "'name=\"George\",\\ncompany=\"AITJ\",age=24'"
      ]
     },
     "execution_count": 7,
     "metadata": {},
     "output_type": "execute_result"
    }
   ],
   "source": [
    "resume='''name=\"George\",\n",
    "company=\"AITJ\",age=24'''\n",
    "resume"
   ]
  },
  {
   "cell_type": "markdown",
   "id": "b02883ce-6ce2-4b52-83c1-371a0ca7c02a",
   "metadata": {},
   "source": [
    "Python allows empty string "
   ]
  },
  {
   "cell_type": "code",
   "execution_count": 8,
   "id": "7c7b4913-cce9-4f9f-8ce1-b4fdc97671ac",
   "metadata": {},
   "outputs": [],
   "source": [
    "c=''"
   ]
  },
  {
   "cell_type": "code",
   "execution_count": 9,
   "id": "307ef41c-1a24-4e25-9169-fc18ed81ab8d",
   "metadata": {},
   "outputs": [
    {
     "data": {
      "text/plain": [
       "0"
      ]
     },
     "execution_count": 9,
     "metadata": {},
     "output_type": "execute_result"
    }
   ],
   "source": [
    "len(c)"
   ]
  },
  {
   "cell_type": "code",
   "execution_count": 10,
   "id": "33e31124-d3ec-49f9-8935-e8cab0903814",
   "metadata": {},
   "outputs": [
    {
     "data": {
      "text/plain": [
       "6"
      ]
     },
     "execution_count": 10,
     "metadata": {},
     "output_type": "execute_result"
    }
   ],
   "source": [
    "a='George'\n",
    "len(a)"
   ]
  },
  {
   "cell_type": "markdown",
   "id": "b7c3205b-ec7b-470e-ba5f-05b3e68fa099",
   "metadata": {},
   "source": [
    "**转译字符**"
   ]
  },
  {
   "cell_type": "markdown",
   "id": "aad19790-9c95-4045-a913-05441510919e",
   "metadata": {},
   "source": [
    "\\ 续行\n",
    "\\\\反斜杠\n",
    "\\'单引号\n",
    "\\\"双引号\n",
    "\\b退格（Backspace)\n",
    "\\n换行\n",
    "\\t横向制表符\n",
    "\\r回车"
   ]
  },
  {
   "cell_type": "code",
   "execution_count": 12,
   "id": "854601b2-4bfe-4306-a868-73b83bf1d9ed",
   "metadata": {},
   "outputs": [
    {
     "name": "stdout",
     "output_type": "stream",
     "text": [
      "sxtabc\n"
     ]
    }
   ],
   "source": [
    "##字符串拼接\n",
    "a='sxt'\n",
    "b='abc'\n",
    "c=a+b\n",
    "print(c)"
   ]
  },
  {
   "cell_type": "code",
   "execution_count": 14,
   "id": "e85576dc-7008-41c7-ad91-0a6d9dfdf146",
   "metadata": {},
   "outputs": [
    {
     "data": {
      "text/plain": [
       "'sxtsxtsxtsxtsxtsxtsxtsxtsxtsxt'"
      ]
     },
     "execution_count": 14,
     "metadata": {},
     "output_type": "execute_result"
    }
   ],
   "source": [
    "###字符串复制\n",
    "d=a*10\n",
    "d"
   ]
  },
  {
   "cell_type": "markdown",
   "id": "4eff74a1-0dfa-46c4-9241-dbe233b9ba53",
   "metadata": {},
   "source": [
    "**end= 任意字符串**"
   ]
  },
  {
   "cell_type": "code",
   "execution_count": 16,
   "id": "3e5596ea-0d5e-4414-a46c-fe15db1639f5",
   "metadata": {},
   "outputs": [
    {
     "name": "stdout",
     "output_type": "stream",
     "text": [
      "aa\n",
      "bb\n",
      "cc\n"
     ]
    }
   ],
   "source": [
    "##不换行print\n",
    "print('aa')\n",
    "print('bb')\n",
    "print('cc')"
   ]
  },
  {
   "cell_type": "code",
   "execution_count": 17,
   "id": "f500272b-6d54-4070-a33e-00160223b222",
   "metadata": {},
   "outputs": [
    {
     "name": "stdout",
     "output_type": "stream",
     "text": [
      "aa*bb*cc\n"
     ]
    }
   ],
   "source": [
    "print('aa',end='*')\n",
    "print('bb',end='*')\n",
    "print('cc')"
   ]
  },
  {
   "cell_type": "code",
   "execution_count": 19,
   "id": "877feb65-13a7-48a5-bfc5-b9b83a3d9948",
   "metadata": {},
   "outputs": [
    {
     "name": "stdout",
     "output_type": "stream",
     "text": [
      "aabbcc\n"
     ]
    }
   ],
   "source": [
    "print('aa',end='')\n",
    "print('bb',end='')\n",
    "print('cc')"
   ]
  },
  {
   "cell_type": "code",
   "execution_count": 20,
   "id": "ecdc6d44-deeb-400b-a307-785d6902f3bd",
   "metadata": {},
   "outputs": [
    {
     "name": "stdout",
     "output_type": "stream",
     "text": [
      "aa\tbb\n",
      "cc\n"
     ]
    }
   ],
   "source": [
    "print('aa',end='\\t')\n",
    "print('bb',end='\\n')\n",
    "print('cc')"
   ]
  },
  {
   "cell_type": "markdown",
   "id": "1282f6cc-b954-4676-ba51-ff3b28c0336b",
   "metadata": {},
   "source": [
    "****从控制台读取字符串****"
   ]
  },
  {
   "cell_type": "code",
   "execution_count": null,
   "id": "1b2c7864-1045-48ce-8935-083515d8897f",
   "metadata": {},
   "outputs": [],
   "source": [
    "myname=input(\"What's your name\")"
   ]
  },
  {
   "cell_type": "code",
   "execution_count": null,
   "id": "16ca0e27-e557-4261-9a1d-355c57dc7980",
   "metadata": {},
   "outputs": [],
   "source": [
    "myname"
   ]
  },
  {
   "cell_type": "markdown",
   "id": "1d766ba2-ab03-4442-af0b-503562369bf4",
   "metadata": {},
   "source": [
    "**str()**"
   ]
  },
  {
   "cell_type": "code",
   "execution_count": 1,
   "id": "9b3281af-791b-4cc1-b8b0-8a085d363228",
   "metadata": {},
   "outputs": [
    {
     "name": "stdout",
     "output_type": "stream",
     "text": [
      "520\n"
     ]
    }
   ],
   "source": [
    "print(str(520))"
   ]
  },
  {
   "cell_type": "markdown",
   "id": "c9bad549-905f-452a-acb9-01fcd2b66b6d",
   "metadata": {},
   "source": [
    "**[]提取字符**    **正向搜索** 从左往右 0，1....(len(str)-1) <br>\n",
    "**反向搜索** 从右往左 -1，-2...-len(str)"
   ]
  },
  {
   "cell_type": "code",
   "execution_count": 15,
   "id": "5821309e-567c-4b33-bcd2-8026954edd02",
   "metadata": {},
   "outputs": [
    {
     "name": "stdout",
     "output_type": "stream",
     "text": [
      "a\n",
      "b\n"
     ]
    }
   ],
   "source": [
    "a='abcd'\n",
    "print(a[0])\n",
    "print(a[1])"
   ]
  },
  {
   "cell_type": "code",
   "execution_count": null,
   "id": "4ac319b0-9cc5-43a3-a5b9-c390d3186085",
   "metadata": {},
   "outputs": [],
   "source": []
  },
  {
   "cell_type": "code",
   "execution_count": 6,
   "id": "3be9fb4f-9594-4129-91eb-4b19f872da62",
   "metadata": {},
   "outputs": [
    {
     "data": {
      "text/plain": [
       "'d'"
      ]
     },
     "execution_count": 6,
     "metadata": {},
     "output_type": "execute_result"
    }
   ],
   "source": [
    "a[-1]"
   ]
  },
  {
   "cell_type": "code",
   "execution_count": 7,
   "id": "2f2a0273-98e3-4418-a303-a44380e81a21",
   "metadata": {},
   "outputs": [
    {
     "data": {
      "text/plain": [
       "'b'"
      ]
     },
     "execution_count": 7,
     "metadata": {},
     "output_type": "execute_result"
    }
   ],
   "source": [
    "a[-3]"
   ]
  },
  {
   "cell_type": "markdown",
   "id": "3323fccd-9f83-4d36-99ae-61453e768653",
   "metadata": {},
   "source": [
    "a[-5]\n",
    "##erro: out of range "
   ]
  },
  {
   "cell_type": "markdown",
   "id": "9e589fa8-d243-4e6f-9777-0111e8e0b1ae",
   "metadata": {},
   "source": [
    "**Replace()** 字符串替换"
   ]
  },
  {
   "cell_type": "markdown",
   "id": "b697126a-cb75-4091-8ba0-fa980b2ae0f6",
   "metadata": {},
   "source": [
    "a[0]=12\n",
    "##erro object does not support assignment "
   ]
  },
  {
   "cell_type": "code",
   "execution_count": 16,
   "id": "a3182af4-4bc5-4df5-84bc-88bcd412c9bb",
   "metadata": {},
   "outputs": [
    {
     "data": {
      "text/plain": [
       "'a2cd'"
      ]
     },
     "execution_count": 16,
     "metadata": {},
     "output_type": "execute_result"
    }
   ],
   "source": [
    "a.replace(\"b\",\"2\")"
   ]
  },
  {
   "cell_type": "code",
   "execution_count": 20,
   "id": "d23926c2-093a-4887-add2-34fb7433f437",
   "metadata": {},
   "outputs": [
    {
     "data": {
      "text/plain": [
       "'abcd'"
      ]
     },
     "execution_count": 20,
     "metadata": {},
     "output_type": "execute_result"
    }
   ],
   "source": [
    "## a never changed \n",
    "a"
   ]
  },
  {
   "cell_type": "code",
   "execution_count": 22,
   "id": "e4c5ecb4-f3e4-4231-82c1-4b2693b533d8",
   "metadata": {},
   "outputs": [],
   "source": [
    "## to change a, we need to restore it \n",
    "a=a.replace(\"b\",\"w\")"
   ]
  },
  {
   "cell_type": "code",
   "execution_count": 23,
   "id": "c9bda976-cfa1-42b4-af62-4fa1f7e36342",
   "metadata": {},
   "outputs": [
    {
     "data": {
      "text/plain": [
       "'awcd'"
      ]
     },
     "execution_count": 23,
     "metadata": {},
     "output_type": "execute_result"
    }
   ],
   "source": [
    "a"
   ]
  },
  {
   "cell_type": "markdown",
   "id": "dcf53861-1024-425d-86eb-eaeb02609850",
   "metadata": {},
   "source": [
    "**Slice** operation "
   ]
  },
  {
   "cell_type": "code",
   "execution_count": 24,
   "id": "7479aba5-5b52-49b2-bcac-4725e9c830ee",
   "metadata": {},
   "outputs": [],
   "source": [
    "a=\"abcdefjklmn\""
   ]
  },
  {
   "cell_type": "code",
   "execution_count": 25,
   "id": "bd25348d-9be2-4a4e-9ae0-cc2a04d8f438",
   "metadata": {},
   "outputs": [
    {
     "data": {
      "text/plain": [
       "'c'"
      ]
     },
     "execution_count": 25,
     "metadata": {},
     "output_type": "execute_result"
    }
   ],
   "source": [
    "a[2]"
   ]
  },
  {
   "cell_type": "code",
   "execution_count": 29,
   "id": "3e9677bc-3dac-4046-9b42-b90a4629f89d",
   "metadata": {},
   "outputs": [
    {
     "data": {
      "text/plain": [
       "'bcde'"
      ]
     },
     "execution_count": 29,
     "metadata": {},
     "output_type": "execute_result"
    }
   ],
   "source": [
    "a[1:5]\n",
    "##[起始start:终止end:步长step \n",
    "##存在起始和终止时 包头不包尾"
   ]
  },
  {
   "cell_type": "code",
   "execution_count": 30,
   "id": "4d30fe74-b445-4d14-a3c0-ad2462e44cc1",
   "metadata": {},
   "outputs": [
    {
     "data": {
      "text/plain": [
       "'bcde'"
      ]
     },
     "execution_count": 30,
     "metadata": {},
     "output_type": "execute_result"
    }
   ],
   "source": [
    "a[1:5:1]"
   ]
  },
  {
   "cell_type": "code",
   "execution_count": 31,
   "id": "715b9e51-df15-4ef6-b852-d46898025531",
   "metadata": {},
   "outputs": [
    {
     "data": {
      "text/plain": [
       "'bd'"
      ]
     },
     "execution_count": 31,
     "metadata": {},
     "output_type": "execute_result"
    }
   ],
   "source": [
    "a[1:5:2]"
   ]
  },
  {
   "cell_type": "code",
   "execution_count": 32,
   "id": "8dda4337-1ca3-4aec-a6b6-0d3c58728bb5",
   "metadata": {},
   "outputs": [
    {
     "data": {
      "text/plain": [
       "'bdfk'"
      ]
     },
     "execution_count": 32,
     "metadata": {},
     "output_type": "execute_result"
    }
   ],
   "source": [
    "\n",
    "a[1:8:2]"
   ]
  },
  {
   "cell_type": "code",
   "execution_count": 34,
   "id": "7aac9c47-061a-443f-818a-90371eb94d40",
   "metadata": {},
   "outputs": [
    {
     "data": {
      "text/plain": [
       "'abcdefjklmn'"
      ]
     },
     "execution_count": 34,
     "metadata": {},
     "output_type": "execute_result"
    }
   ],
   "source": [
    "a[:]##whole string "
   ]
  },
  {
   "cell_type": "code",
   "execution_count": 36,
   "id": "c879417f-a968-4441-a61b-ad2e204da7bd",
   "metadata": {},
   "outputs": [
    {
     "data": {
      "text/plain": [
       "'bcdefjklmn'"
      ]
     },
     "execution_count": 36,
     "metadata": {},
     "output_type": "execute_result"
    }
   ],
   "source": [
    "a[1:]##start from [1] to end "
   ]
  },
  {
   "cell_type": "code",
   "execution_count": 38,
   "id": "73666a73-883e-4bc5-a896-ce5273a8b5f5",
   "metadata": {},
   "outputs": [
    {
     "data": {
      "text/plain": [
       "'abcd'"
      ]
     },
     "execution_count": 38,
     "metadata": {},
     "output_type": "execute_result"
    }
   ],
   "source": [
    "a[:4]## start from [0] to given end "
   ]
  },
  {
   "cell_type": "markdown",
   "id": "2492144f-f656-4513-9a02-cfb80248861f",
   "metadata": {},
   "source": [
    "**操作值为负**"
   ]
  },
  {
   "cell_type": "code",
   "execution_count": 40,
   "id": "93371d15-6f26-4f16-9eed-ee320625a95a",
   "metadata": {},
   "outputs": [
    {
     "data": {
      "text/plain": [
       "'lmn'"
      ]
     },
     "execution_count": 40,
     "metadata": {},
     "output_type": "execute_result"
    }
   ],
   "source": [
    "a[-3:] "
   ]
  },
  {
   "cell_type": "code",
   "execution_count": 41,
   "id": "d48cd0e3-dcf6-4e88-bb47-1b75cbf13a83",
   "metadata": {},
   "outputs": [
    {
     "data": {
      "text/plain": [
       "'abcdef'"
      ]
     },
     "execution_count": 41,
     "metadata": {},
     "output_type": "execute_result"
    }
   ],
   "source": [
    "a[:-5]"
   ]
  },
  {
   "cell_type": "code",
   "execution_count": 42,
   "id": "a2f17fc5-12df-4b02-ad63-302d6922c757",
   "metadata": {},
   "outputs": [
    {
     "data": {
      "text/plain": [
       "'nmlkjfedcba'"
      ]
     },
     "execution_count": 42,
     "metadata": {},
     "output_type": "execute_result"
    }
   ],
   "source": [
    "a[::-1]# 逆须排"
   ]
  },
  {
   "cell_type": "code",
   "execution_count": 44,
   "id": "1020c4f4-641a-41ba-b386-c124ef7d94c4",
   "metadata": {},
   "outputs": [
    {
     "data": {
      "text/plain": [
       "'eb ot ton ro eb ot'"
      ]
     },
     "execution_count": 44,
     "metadata": {},
     "output_type": "execute_result"
    }
   ],
   "source": [
    "\"to be or not to be\"[::-1]"
   ]
  },
  {
   "cell_type": "markdown",
   "id": "d6e8186f-0d3b-4630-abc8-903fe0d8c286",
   "metadata": {},
   "source": [
    "select all s \n",
    "\"sxtsxtsxtsxt\"\n"
   ]
  },
  {
   "cell_type": "code",
   "execution_count": 45,
   "id": "4a736b7d-34ce-44d5-8677-6890069f3098",
   "metadata": {},
   "outputs": [
    {
     "data": {
      "text/plain": [
       "'ssss'"
      ]
     },
     "execution_count": 45,
     "metadata": {},
     "output_type": "execute_result"
    }
   ],
   "source": [
    " \"sxtsxtsxtsxt\"[::3]"
   ]
  },
  {
   "cell_type": "markdown",
   "id": "a16ef1ae-5bee-49ea-8771-cdc16567b516",
   "metadata": {},
   "source": [
    "**字符串分割**\n",
    "split()"
   ]
  },
  {
   "cell_type": "code",
   "execution_count": 48,
   "id": "6f81a751-13ef-4663-84d9-0ca6165b1f95",
   "metadata": {},
   "outputs": [
    {
     "data": {
      "text/plain": [
       "'to be or not to be'"
      ]
     },
     "execution_count": 48,
     "metadata": {},
     "output_type": "execute_result"
    }
   ],
   "source": [
    "a=\"to be or not to be\" \n",
    "a"
   ]
  },
  {
   "cell_type": "code",
   "execution_count": 49,
   "id": "45888452-53bc-48c4-bd53-3e55223b8b86",
   "metadata": {},
   "outputs": [
    {
     "data": {
      "text/plain": [
       "['to', 'be', 'or', 'not', 'to', 'be']"
      ]
     },
     "execution_count": 49,
     "metadata": {},
     "output_type": "execute_result"
    }
   ],
   "source": [
    "a.split()"
   ]
  },
  {
   "cell_type": "code",
   "execution_count": 51,
   "id": "2eca21ea-60ba-4f4f-bec7-5507eeb518c4",
   "metadata": {},
   "outputs": [
    {
     "data": {
      "text/plain": [
       "['to ', ' or not to ', '']"
      ]
     },
     "execution_count": 51,
     "metadata": {},
     "output_type": "execute_result"
    }
   ],
   "source": [
    "a.split('be')"
   ]
  },
  {
   "cell_type": "code",
   "execution_count": 52,
   "id": "7e0d39eb-1765-4eac-bbc2-8ede0347d89b",
   "metadata": {},
   "outputs": [
    {
     "data": {
      "text/plain": [
       "['', ' be or not ', ' be']"
      ]
     },
     "execution_count": 52,
     "metadata": {},
     "output_type": "execute_result"
    }
   ],
   "source": [
    "a.split('to')"
   ]
  },
  {
   "cell_type": "markdown",
   "id": "4160c498-a5f2-417b-b24e-dd0598ebf0db",
   "metadata": {},
   "source": [
    "**字符拼接**"
   ]
  },
  {
   "cell_type": "code",
   "execution_count": 53,
   "id": "f20dbbbf-c372-48bb-89d5-0639a31e52e5",
   "metadata": {},
   "outputs": [
    {
     "data": {
      "text/plain": [
       "'abc*def*ghi'"
      ]
     },
     "execution_count": 53,
     "metadata": {},
     "output_type": "execute_result"
    }
   ],
   "source": [
    "a=[\"abc\",\"def\",\"ghi\"]\n",
    "\"*\".join(a)"
   ]
  },
  {
   "cell_type": "code",
   "execution_count": 54,
   "id": "cb67bd63-082b-4ae8-bff9-294c37ceec5b",
   "metadata": {},
   "outputs": [
    {
     "data": {
      "text/plain": [
       "'abcdefghi'"
      ]
     },
     "execution_count": 54,
     "metadata": {},
     "output_type": "execute_result"
    }
   ],
   "source": [
    "\"\".join(a)"
   ]
  },
  {
   "cell_type": "code",
   "execution_count": 55,
   "id": "2cb31bf3-a235-468a-9862-1af518e9c57b",
   "metadata": {},
   "outputs": [
    {
     "data": {
      "text/plain": [
       "['abc', 'def', 'ghi']"
      ]
     },
     "execution_count": 55,
     "metadata": {},
     "output_type": "execute_result"
    }
   ],
   "source": [
    "a"
   ]
  },
  {
   "cell_type": "code",
   "execution_count": 68,
   "id": "01ceecd7-1e31-4620-8602-b8c36b78176d",
   "metadata": {},
   "outputs": [
    {
     "name": "stdout",
     "output_type": "stream",
     "text": [
      "ZZQZZQZZQZZQZZQZZQZZQZZQZZQZZQZZQZZQZZQZZQZZQZZQZZQZZQZZQZZQ\n",
      "duration: 0.0005059242248535156\n"
     ]
    }
   ],
   "source": [
    "import time\n",
    "time01=time.time()##starting time \n",
    "\n",
    "a=\"\"\n",
    "for i in range(20):\n",
    "    a += \"ZZQ\"\n",
    "    \n",
    "print(a)\n",
    "time02=time.time()\n",
    "print(\"duration:\", time02-time01)"
   ]
  },
  {
   "cell_type": "code",
   "execution_count": 71,
   "id": "9d55d0c9-e6b7-4e50-b69a-8404faa8d37e",
   "metadata": {},
   "outputs": [
    {
     "name": "stdout",
     "output_type": "stream",
     "text": [
      "ZZQZSRZZQZSRZZQZSRZZQZSRZZQZSRZZQZSRZZQZSRZZQZSRZZQZSRZZQZSRZZQZSRZZQZSRZZQZSRZZQZSRZZQZSRZZQZSRZZQZSRZZQZSRZZQZSRZZQZSRZZQZSRZZQZSRZZQZSRZZQZSRZZQZSRZZQZSRZZQZSRZZQZSRZZQZSRZZQZSRZZQZSRZZQZSRZZQZSRZZQZSRZZQZSRZZQZSRZZQZSRZZQZSRZZQZSRZZQZSRZZQZSRZZQZSRZZQZSRZZQZSRZZQZSRZZQZSRZZQZSRZZQZSRZZQZSRZZQ\n"
     ]
    }
   ],
   "source": [
    "li=[]\n",
    "for i in range(50):\n",
    "    li.append(\"ZZQ\")\n",
    "\n",
    "a=\"ZSR\".join(li)\n",
    "\n",
    "print(a)"
   ]
  },
  {
   "cell_type": "markdown",
   "id": "841227b0-c101-429b-aaaf-c6be3859010d",
   "metadata": {},
   "source": [
    "**字符驻留**"
   ]
  },
  {
   "cell_type": "markdown",
   "id": "b78ce623-50ad-4bd2-aed2-47e02d408377",
   "metadata": {},
   "source": [
    "pyhon支持字符驻留机制。对符合标准规则的字符串（仅包含 下划线(_),字母和数字）会启用字符驻留机制。 "
   ]
  },
  {
   "cell_type": "code",
   "execution_count": 72,
   "id": "493450d9-4626-4f60-9ce8-a11e05827a4f",
   "metadata": {},
   "outputs": [
    {
     "data": {
      "text/plain": [
       "True"
      ]
     },
     "execution_count": 72,
     "metadata": {},
     "output_type": "execute_result"
    }
   ],
   "source": [
    "a=\"abc_33\"\n",
    "b=\"abc_33\"\n",
    "a is b "
   ]
  },
  {
   "cell_type": "code",
   "execution_count": 83,
   "id": "2d86282e-c135-4455-9bb6-f269022eb522",
   "metadata": {},
   "outputs": [
    {
     "data": {
      "text/plain": [
       "True"
      ]
     },
     "execution_count": 83,
     "metadata": {},
     "output_type": "execute_result"
    }
   ],
   "source": [
    "c=\"dd\"\n",
    "d=\"dd\"\n",
    "c is d \n"
   ]
  },
  {
   "cell_type": "code",
   "execution_count": 84,
   "id": "40a551a5-86a3-4800-944a-cbbd1971cce2",
   "metadata": {},
   "outputs": [
    {
     "data": {
      "text/plain": [
       "140223979280880"
      ]
     },
     "execution_count": 84,
     "metadata": {},
     "output_type": "execute_result"
    }
   ],
   "source": [
    "id(c)\n"
   ]
  },
  {
   "cell_type": "code",
   "execution_count": 85,
   "id": "98aeb1b4-024b-45b9-87c0-ef528d3973ff",
   "metadata": {},
   "outputs": [
    {
     "data": {
      "text/plain": [
       "140223979280880"
      ]
     },
     "execution_count": 85,
     "metadata": {},
     "output_type": "execute_result"
    }
   ],
   "source": [
    "id(d)"
   ]
  },
  {
   "cell_type": "code",
   "execution_count": 81,
   "id": "d2d64d95-ab12-4a9c-afa1-14cb9342a0fa",
   "metadata": {},
   "outputs": [
    {
     "data": {
      "text/plain": [
       "False"
      ]
     },
     "execution_count": 81,
     "metadata": {},
     "output_type": "execute_result"
    }
   ],
   "source": [
    "c=\"dd!\"\n",
    "d=\"dd!\"\n",
    "c is d "
   ]
  },
  {
   "cell_type": "code",
   "execution_count": 76,
   "id": "7b80420c-4a46-49ef-b812-ff7cc8853361",
   "metadata": {},
   "outputs": [
    {
     "data": {
      "text/plain": [
       "140224001057840"
      ]
     },
     "execution_count": 76,
     "metadata": {},
     "output_type": "execute_result"
    }
   ],
   "source": [
    "id(c)"
   ]
  },
  {
   "cell_type": "code",
   "execution_count": 78,
   "id": "8b44d6a1-e161-42b5-9565-df84b95cef21",
   "metadata": {},
   "outputs": [
    {
     "data": {
      "text/plain": [
       "140224001059760"
      ]
     },
     "execution_count": 78,
     "metadata": {},
     "output_type": "execute_result"
    }
   ],
   "source": [
    "id(d)"
   ]
  },
  {
   "cell_type": "markdown",
   "id": "3d004c9b-9201-4247-b71e-d9aaff26589a",
   "metadata": {},
   "source": [
    "**成员操作符**\n",
    "in/not in\n"
   ]
  },
  {
   "cell_type": "markdown",
   "id": "d16bfa96-733c-4905-98f7-1f9646e0c332",
   "metadata": {},
   "source": [
    "# 字符串常用方法"
   ]
  },
  {
   "cell_type": "markdown",
   "id": "4f5aa16d-4eed-405d-a226-74e789f842b7",
   "metadata": {},
   "source": [
    "## 常用查找方法"
   ]
  },
  {
   "cell_type": "code",
   "execution_count": 87,
   "id": "d6147763-6e43-46c8-8ab4-1e8acea4c5c4",
   "metadata": {},
   "outputs": [],
   "source": [
    "a=\"Now is the winter of our discontent\\\n",
    "Made glorious summer by this sun of York;\\\n",
    "And all the clouds that lour'd upon our house\\\n",
    "In the deep bosom of the ocean buried.\""
   ]
  },
  {
   "cell_type": "code",
   "execution_count": 88,
   "id": "cdad39a4-1e84-4cdb-811b-26eacee2e167",
   "metadata": {},
   "outputs": [
    {
     "data": {
      "text/plain": [
       "159"
      ]
     },
     "execution_count": 88,
     "metadata": {},
     "output_type": "execute_result"
    }
   ],
   "source": [
    "len(a)"
   ]
  },
  {
   "cell_type": "code",
   "execution_count": 91,
   "id": "46a47e86-9962-4b59-bd51-59318ee45190",
   "metadata": {},
   "outputs": [
    {
     "data": {
      "text/plain": [
       "True"
      ]
     },
     "execution_count": 91,
     "metadata": {},
     "output_type": "execute_result"
    }
   ],
   "source": [
    "a.startswith('Now is the winter')"
   ]
  },
  {
   "cell_type": "code",
   "execution_count": 93,
   "id": "662187d4-baed-42cb-b093-20a9549c548d",
   "metadata": {},
   "outputs": [
    {
     "data": {
      "text/plain": [
       "True"
      ]
     },
     "execution_count": 93,
     "metadata": {},
     "output_type": "execute_result"
    }
   ],
   "source": [
    "a.endswith('the ocean buried.')"
   ]
  },
  {
   "cell_type": "code",
   "execution_count": 95,
   "id": "88989267-35e1-4a55-aa62-6d9d8a290c69",
   "metadata": {},
   "outputs": [
    {
     "data": {
      "text/plain": [
       "7"
      ]
     },
     "execution_count": 95,
     "metadata": {},
     "output_type": "execute_result"
    }
   ],
   "source": [
    "a.find('the')##the first position of 'the'"
   ]
  },
  {
   "cell_type": "code",
   "execution_count": 96,
   "id": "2e4d0be3-856f-49fe-8b8c-3631748fb6e8",
   "metadata": {},
   "outputs": [
    {
     "data": {
      "text/plain": [
       "142"
      ]
     },
     "execution_count": 96,
     "metadata": {},
     "output_type": "execute_result"
    }
   ],
   "source": [
    "a.rfind('the')## the last position of 'the'"
   ]
  },
  {
   "cell_type": "code",
   "execution_count": 97,
   "id": "275bb51e-c0b5-410a-9c58-3b877e8c817a",
   "metadata": {},
   "outputs": [
    {
     "data": {
      "text/plain": [
       "4"
      ]
     },
     "execution_count": 97,
     "metadata": {},
     "output_type": "execute_result"
    }
   ],
   "source": [
    "a.count('the')## count times "
   ]
  },
  {
   "cell_type": "code",
   "execution_count": 105,
   "id": "31c76a23-087a-4be6-8460-4de6932b8e9e",
   "metadata": {},
   "outputs": [
    {
     "data": {
      "text/plain": [
       "False"
      ]
     },
     "execution_count": 105,
     "metadata": {},
     "output_type": "execute_result"
    }
   ],
   "source": [
    "a.isalnum()## number or alphat  exist?"
   ]
  },
  {
   "cell_type": "code",
   "execution_count": 106,
   "id": "e9854f83-a910-48eb-b472-8d93e7bf6888",
   "metadata": {},
   "outputs": [
    {
     "data": {
      "text/plain": [
       "True"
      ]
     },
     "execution_count": 106,
     "metadata": {},
     "output_type": "execute_result"
    }
   ],
   "source": [
    "t=\"texg12233\"\n",
    "t.isalnum()"
   ]
  },
  {
   "cell_type": "code",
   "execution_count": 138,
   "id": "617cdf57-78f4-49bc-b383-5202f80a7f49",
   "metadata": {},
   "outputs": [
    {
     "data": {
      "text/plain": [
       "True"
      ]
     },
     "execution_count": 138,
     "metadata": {},
     "output_type": "execute_result"
    }
   ],
   "source": [
    "\"曾振强\".isalpha()## all alpht? include chinese--- phython using unicode "
   ]
  },
  {
   "cell_type": "code",
   "execution_count": null,
   "id": "67d8b2a9-cf9d-431d-a85b-91590b09be4f",
   "metadata": {},
   "outputs": [],
   "source": []
  },
  {
   "cell_type": "code",
   "execution_count": null,
   "id": "41a10389-dc25-4a0c-bf2f-2c8fce685b71",
   "metadata": {},
   "outputs": [],
   "source": []
  },
  {
   "cell_type": "markdown",
   "id": "b54b55f3-8eaa-4029-83cc-2bc162468797",
   "metadata": {},
   "source": [
    "## 去除首尾信息- strip()"
   ]
  },
  {
   "cell_type": "code",
   "execution_count": 107,
   "id": "7a998b43-7bd7-46f6-8329-3896effe7369",
   "metadata": {},
   "outputs": [
    {
     "data": {
      "text/plain": [
       "'ZZQ'"
      ]
     },
     "execution_count": 107,
     "metadata": {},
     "output_type": "execute_result"
    }
   ],
   "source": [
    "\"  ZZQ  \".strip()"
   ]
  },
  {
   "cell_type": "code",
   "execution_count": 112,
   "id": "1f77fb13-01a3-4535-8c5b-b1046082789c",
   "metadata": {},
   "outputs": [
    {
     "data": {
      "text/plain": [
       "'Z*Z*Q'"
      ]
     },
     "execution_count": 112,
     "metadata": {},
     "output_type": "execute_result"
    }
   ],
   "source": [
    "\"*Z*Z*Q*\".strip(\"*\")"
   ]
  },
  {
   "cell_type": "code",
   "execution_count": 113,
   "id": "6a3b5d98-b8df-4384-bc01-4dda9b2e8ab8",
   "metadata": {},
   "outputs": [
    {
     "data": {
      "text/plain": [
       "'Z*Z*Q*'"
      ]
     },
     "execution_count": 113,
     "metadata": {},
     "output_type": "execute_result"
    }
   ],
   "source": [
    "\"*Z*Z*Q*\".lstrip(\"*\")"
   ]
  },
  {
   "cell_type": "code",
   "execution_count": 114,
   "id": "3b93157a-2482-4e3a-9240-43a6930af70b",
   "metadata": {},
   "outputs": [
    {
     "data": {
      "text/plain": [
       "'*Z*Z*Q'"
      ]
     },
     "execution_count": 114,
     "metadata": {},
     "output_type": "execute_result"
    }
   ],
   "source": [
    "\"*Z*Z*Q*\".rstrip(\"*\")"
   ]
  },
  {
   "cell_type": "markdown",
   "id": "d6071b1c-f6be-4125-9c66-5315756553dd",
   "metadata": {},
   "source": [
    "## Capitalize and lowercase "
   ]
  },
  {
   "cell_type": "code",
   "execution_count": 118,
   "id": "a799f245-4093-4c4b-8e75-fbeffbeceb7e",
   "metadata": {},
   "outputs": [],
   "source": [
    "a=\"now is the winter of our discontent\\\n",
    "Made glorious summer by this sun of York;\\\n",
    "And all the clouds that lour'd upon our house\\\n",
    "In the deep bosom of the ocean buried.\""
   ]
  },
  {
   "cell_type": "code",
   "execution_count": 119,
   "id": "a13c5d4f-c238-49e8-80c9-1dd61207d299",
   "metadata": {},
   "outputs": [
    {
     "data": {
      "text/plain": [
       "\"now is the winter of our discontentMade glorious summer by this sun of York;And all the clouds that lour'd upon our houseIn the deep bosom of the ocean buried.\""
      ]
     },
     "execution_count": 119,
     "metadata": {},
     "output_type": "execute_result"
    }
   ],
   "source": [
    "a"
   ]
  },
  {
   "cell_type": "code",
   "execution_count": 120,
   "id": "ce7fd2e0-203f-4cb1-9b27-e94456b8257e",
   "metadata": {},
   "outputs": [
    {
     "data": {
      "text/plain": [
       "\"Now is the winter of our discontentmade glorious summer by this sun of york;and all the clouds that lour'd upon our housein the deep bosom of the ocean buried.\""
      ]
     },
     "execution_count": 120,
     "metadata": {},
     "output_type": "execute_result"
    }
   ],
   "source": [
    "a.capitalize()## Capitalized first letter "
   ]
  },
  {
   "cell_type": "code",
   "execution_count": 121,
   "id": "4199f477-bbc4-4197-a0a3-df269c721860",
   "metadata": {},
   "outputs": [
    {
     "data": {
      "text/plain": [
       "\"Now Is The Winter Of Our Discontentmade Glorious Summer By This Sun Of York;And All The Clouds That Lour'D Upon Our Housein The Deep Bosom Of The Ocean Buried.\""
      ]
     },
     "execution_count": 121,
     "metadata": {},
     "output_type": "execute_result"
    }
   ],
   "source": [
    "a.title()##Capitalize first letter of each word "
   ]
  },
  {
   "cell_type": "code",
   "execution_count": 123,
   "id": "6b2259b3-b963-4b33-a655-6081d77cb7cf",
   "metadata": {},
   "outputs": [
    {
     "data": {
      "text/plain": [
       "\"NOW IS THE WINTER OF OUR DISCONTENTMADE GLORIOUS SUMMER BY THIS SUN OF YORK;AND ALL THE CLOUDS THAT LOUR'D UPON OUR HOUSEIN THE DEEP BOSOM OF THE OCEAN BURIED.\""
      ]
     },
     "execution_count": 123,
     "metadata": {},
     "output_type": "execute_result"
    }
   ],
   "source": [
    "a.upper()## Capitalize each letter "
   ]
  },
  {
   "cell_type": "code",
   "execution_count": 127,
   "id": "27f50c17-20aa-4439-b413-ce29f71a3f2e",
   "metadata": {},
   "outputs": [
    {
     "data": {
      "text/plain": [
       "\"now is the winter of our discontentmade glorious summer by this sun of york;and all the clouds that lour'd upon our housein the deep bosom of the ocean buried.\""
      ]
     },
     "execution_count": 127,
     "metadata": {},
     "output_type": "execute_result"
    }
   ],
   "source": [
    "a.lower()##lowercase all letters"
   ]
  },
  {
   "cell_type": "code",
   "execution_count": 125,
   "id": "3a64f93c-8e6b-418f-a25f-3cf482536319",
   "metadata": {},
   "outputs": [
    {
     "data": {
      "text/plain": [
       "\"Now Is The Winter Of Our Discontentmade Glorious Summer By This Sun Of York;And All The Clouds That Lour'D Upon Our Housein The Deep Bosom Of The Ocean Buried.\""
      ]
     },
     "execution_count": 125,
     "metadata": {},
     "output_type": "execute_result"
    }
   ],
   "source": [
    "a.title()"
   ]
  },
  {
   "cell_type": "code",
   "execution_count": 126,
   "id": "875523a0-e2a9-4acb-ae9c-6f740fb4a645",
   "metadata": {},
   "outputs": [
    {
     "data": {
      "text/plain": [
       "\"NOW IS THE WINTER OF OUR DISCONTENTmADE GLORIOUS SUMMER BY THIS SUN OF yORK;aND ALL THE CLOUDS THAT LOUR'D UPON OUR HOUSEiN THE DEEP BOSOM OF THE OCEAN BURIED.\""
      ]
     },
     "execution_count": 126,
     "metadata": {},
     "output_type": "execute_result"
    }
   ],
   "source": [
    "a.swapcase()##大小写转换 ## 以上所有 产生新的字符串"
   ]
  },
  {
   "cell_type": "markdown",
   "id": "59e7816e-9d41-414a-88e9-e046e432048d",
   "metadata": {},
   "source": [
    "## 格式排版 center()局中,ljust()左对齐,rjust()右对齐 "
   ]
  },
  {
   "cell_type": "code",
   "execution_count": 129,
   "id": "012ed4a5-d6df-4fbe-b662-680cdbe11a75",
   "metadata": {},
   "outputs": [
    {
     "data": {
      "text/plain": [
       "'***ZZQ****'"
      ]
     },
     "execution_count": 129,
     "metadata": {},
     "output_type": "execute_result"
    }
   ],
   "source": [
    "a=\"ZZQ\"\n",
    "a.center(10,\"*\")"
   ]
  },
  {
   "cell_type": "code",
   "execution_count": 132,
   "id": "cb70a39f-3644-4901-84ed-0fc4193f3af8",
   "metadata": {},
   "outputs": [
    {
     "data": {
      "text/plain": [
       "'   ZZQ    '"
      ]
     },
     "execution_count": 132,
     "metadata": {},
     "output_type": "execute_result"
    }
   ],
   "source": [
    "a.center(10)## 5 spaces from each side "
   ]
  },
  {
   "cell_type": "code",
   "execution_count": 134,
   "id": "9207fc29-1866-40c7-bb5d-a9d659b1d8dd",
   "metadata": {},
   "outputs": [
    {
     "data": {
      "text/plain": [
       "'ZZQ*******'"
      ]
     },
     "execution_count": 134,
     "metadata": {},
     "output_type": "execute_result"
    }
   ],
   "source": [
    "a.ljust(10,\"*\")"
   ]
  },
  {
   "cell_type": "code",
   "execution_count": 135,
   "id": "68499841-3e23-4cd6-8993-52f93ff95b0d",
   "metadata": {},
   "outputs": [
    {
     "data": {
      "text/plain": [
       "'*******ZZQ'"
      ]
     },
     "execution_count": 135,
     "metadata": {},
     "output_type": "execute_result"
    }
   ],
   "source": [
    "a.rjust(10,'*')"
   ]
  },
  {
   "cell_type": "code",
   "execution_count": 136,
   "id": "f65eb4e5-f8d3-4a93-a002-3e43b8bfac2f",
   "metadata": {},
   "outputs": [
    {
     "data": {
      "text/plain": [
       "'       ZZQ'"
      ]
     },
     "execution_count": 136,
     "metadata": {},
     "output_type": "execute_result"
    }
   ],
   "source": [
    "a.rjust(10)"
   ]
  },
  {
   "cell_type": "markdown",
   "id": "23635be5-0909-471e-870e-d0e0b501bd83",
   "metadata": {},
   "source": [
    "## 字符串格式化 str.format() <b>\n",
    "    {}"
   ]
  },
  {
   "cell_type": "code",
   "execution_count": 139,
   "id": "6971fafb-c231-47f7-a277-cb26fce29262",
   "metadata": {},
   "outputs": [],
   "source": [
    "a=\"name:{0},age:{1}\""
   ]
  },
  {
   "cell_type": "code",
   "execution_count": 140,
   "id": "82453bde-52ab-4496-8fb7-d8207e0686ff",
   "metadata": {},
   "outputs": [
    {
     "data": {
      "text/plain": [
       "'name:ZZQ,age:24'"
      ]
     },
     "execution_count": 140,
     "metadata": {},
     "output_type": "execute_result"
    }
   ],
   "source": [
    "a.format(\"ZZQ\",24)"
   ]
  },
  {
   "cell_type": "code",
   "execution_count": 141,
   "id": "43820b49-f270-4b1f-8640-2321e1ce1997",
   "metadata": {},
   "outputs": [],
   "source": [
    "b=\"name:{0},age{1}.{0}is a good kid\""
   ]
  },
  {
   "cell_type": "code",
   "execution_count": 142,
   "id": "f7972308-b62b-4ecd-bb37-030345e241e6",
   "metadata": {},
   "outputs": [
    {
     "data": {
      "text/plain": [
       "'name:ZZQ,age24.ZZQis a good kid'"
      ]
     },
     "execution_count": 142,
     "metadata": {},
     "output_type": "execute_result"
    }
   ],
   "source": [
    "b.format(\"ZZQ\",24)"
   ]
  },
  {
   "cell_type": "code",
   "execution_count": 144,
   "id": "05ccf083-d0b7-4a4b-904d-574063a3f58b",
   "metadata": {},
   "outputs": [
    {
     "data": {
      "text/plain": [
       "'name:LPY,age25.LPYis a good kid'"
      ]
     },
     "execution_count": 144,
     "metadata": {},
     "output_type": "execute_result"
    }
   ],
   "source": [
    "c=b.format(\"LPY\",25)\n",
    "c"
   ]
  },
  {
   "cell_type": "markdown",
   "id": "4c90f479-606d-4c3a-8135-ea6f24ee4cd7",
   "metadata": {},
   "source": [
    "## 填充和对齐"
   ]
  },
  {
   "cell_type": "markdown",
   "id": "6315d262-a1df-443c-8d53-59e1fd126ec8",
   "metadata": {},
   "source": [
    "### ^,<,> 分别对应 局中 左对齐 右对齐 <b>\n",
    "    : 后 带 **填充**字符， 不指定用空格填充"
   ]
  },
  {
   "cell_type": "code",
   "execution_count": 145,
   "id": "5417625f-0cec-4459-933c-8c6ddde452d4",
   "metadata": {},
   "outputs": [
    {
     "data": {
      "text/plain": [
       "'name:ZZQ,my favrote number is10100000'"
      ]
     },
     "execution_count": 145,
     "metadata": {},
     "output_type": "execute_result"
    }
   ],
   "source": [
    "\"name:{0},my favrote number is{1:0<8}\".format(\"ZZQ\",\"1010\")"
   ]
  },
  {
   "cell_type": "code",
   "execution_count": 146,
   "id": "b94916c7-b7a6-41c7-bf8a-4b66ec1d31b7",
   "metadata": {},
   "outputs": [
    {
     "data": {
      "text/plain": [
       "'name:ZZQ,my favrote number is00101000'"
      ]
     },
     "execution_count": 146,
     "metadata": {},
     "output_type": "execute_result"
    }
   ],
   "source": [
    "\"name:{0},my favrote number is{1:0^8}\".format(\"ZZQ\",\"1010\")"
   ]
  },
  {
   "cell_type": "markdown",
   "id": "d4d0667c-a062-462b-aaa1-ce04cd42b51d",
   "metadata": {},
   "source": [
    "### 数字格式化 <b>\n",
    "    浮点数通过f， 整数通过d进行需要的格式化"
   ]
  },
  {
   "cell_type": "code",
   "execution_count": 147,
   "id": "5e760b7c-a233-4402-8ecc-d710af1d9a18",
   "metadata": {},
   "outputs": [],
   "source": [
    "a=\"name:{0},my favrote number is{1:.2f}\""
   ]
  },
  {
   "cell_type": "code",
   "execution_count": 148,
   "id": "ec49ea12-56a8-4f7d-8e33-c321ac1f48cc",
   "metadata": {},
   "outputs": [
    {
     "data": {
      "text/plain": [
       "'name:ZZQ,my favrote number is33.21'"
      ]
     },
     "execution_count": 148,
     "metadata": {},
     "output_type": "execute_result"
    }
   ],
   "source": [
    "a.format(\"ZZQ\",33.21345)"
   ]
  },
  {
   "cell_type": "code",
   "execution_count": 151,
   "id": "9ff75855-0acb-42c9-8963-cba3dbff453c",
   "metadata": {},
   "outputs": [
    {
     "data": {
      "text/plain": [
       "'25.00%'"
      ]
     },
     "execution_count": 151,
     "metadata": {},
     "output_type": "execute_result"
    }
   ],
   "source": [
    "\"{:.2%}\".format(0.25)"
   ]
  },
  {
   "cell_type": "code",
   "execution_count": 152,
   "id": "a8b6ac06-3362-44a9-a8c4-3bead60fe0f5",
   "metadata": {},
   "outputs": [
    {
     "data": {
      "text/plain": [
       "'1,000,000'"
      ]
     },
     "execution_count": 152,
     "metadata": {},
     "output_type": "execute_result"
    }
   ],
   "source": [
    "\"{:,}\".format(1000000)"
   ]
  },
  {
   "cell_type": "code",
   "execution_count": 153,
   "id": "c367dd6f-a1a0-46a2-9e69-3b9ea799509b",
   "metadata": {},
   "outputs": [
    {
     "data": {
      "text/plain": [
       "'2.00e+06'"
      ]
     },
     "execution_count": 153,
     "metadata": {},
     "output_type": "execute_result"
    }
   ],
   "source": [
    "\"{:.2e}\".format(2000000)"
   ]
  },
  {
   "cell_type": "markdown",
   "id": "32bfe9bf-bfdc-4060-9ca5-f5e6a195b0d0",
   "metadata": {},
   "source": [
    "## modifiable string <b>\n",
    "    io.StringIO()"
   ]
  },
  {
   "cell_type": "code",
   "execution_count": 154,
   "id": "72d1a182-1cd1-45e7-a2b6-ab87d762da32",
   "metadata": {},
   "outputs": [],
   "source": [
    "import io"
   ]
  },
  {
   "cell_type": "code",
   "execution_count": 155,
   "id": "7eea2f9d-9309-4a0a-a547-9a331a3c5a85",
   "metadata": {},
   "outputs": [],
   "source": [
    "z=\"hello,ZZQ\""
   ]
  },
  {
   "cell_type": "code",
   "execution_count": 158,
   "id": "7d0606a5-d843-4079-8c2b-4c12b5832cd9",
   "metadata": {},
   "outputs": [],
   "source": [
    "zio=io.StringIO(z)"
   ]
  },
  {
   "cell_type": "code",
   "execution_count": 159,
   "id": "8e1094a5-c8be-4342-942e-6714b7e57d8d",
   "metadata": {},
   "outputs": [
    {
     "data": {
      "text/plain": [
       "<_io.StringIO at 0x7f8871dee8b0>"
      ]
     },
     "execution_count": 159,
     "metadata": {},
     "output_type": "execute_result"
    }
   ],
   "source": [
    "zio"
   ]
  },
  {
   "cell_type": "code",
   "execution_count": 161,
   "id": "f0d3ca5b-067b-458f-90a2-4315c543ad0c",
   "metadata": {},
   "outputs": [
    {
     "data": {
      "text/plain": [
       "'hello,ZZQ'"
      ]
     },
     "execution_count": 161,
     "metadata": {},
     "output_type": "execute_result"
    }
   ],
   "source": [
    "zio.getvalue()"
   ]
  },
  {
   "cell_type": "code",
   "execution_count": 162,
   "id": "7f32ecc8-f8f8-4303-b30d-d2d856529299",
   "metadata": {},
   "outputs": [
    {
     "data": {
      "text/plain": [
       "7"
      ]
     },
     "execution_count": 162,
     "metadata": {},
     "output_type": "execute_result"
    }
   ],
   "source": [
    "zio.seek(7)"
   ]
  },
  {
   "cell_type": "code",
   "execution_count": 163,
   "id": "9951a91c-f571-4e53-9f24-98730ca0fa96",
   "metadata": {},
   "outputs": [
    {
     "data": {
      "text/plain": [
       "1"
      ]
     },
     "execution_count": 163,
     "metadata": {},
     "output_type": "execute_result"
    }
   ],
   "source": [
    "zio.write(\"g\")"
   ]
  },
  {
   "cell_type": "code",
   "execution_count": 164,
   "id": "3e125187-d963-4b32-831e-6fe5d56192bc",
   "metadata": {},
   "outputs": [
    {
     "data": {
      "text/plain": [
       "'hello,ZgQ'"
      ]
     },
     "execution_count": 164,
     "metadata": {},
     "output_type": "execute_result"
    }
   ],
   "source": [
    "zio.getvalue()"
   ]
  },
  {
   "cell_type": "code",
   "execution_count": null,
   "id": "621cdf7f-6b60-4c9f-8caa-aea648587c0e",
   "metadata": {},
   "outputs": [],
   "source": []
  }
 ],
 "metadata": {
  "kernelspec": {
   "display_name": "Python 3 (ipykernel)",
   "language": "python",
   "name": "python3"
  },
  "language_info": {
   "codemirror_mode": {
    "name": "ipython",
    "version": 3
   },
   "file_extension": ".py",
   "mimetype": "text/x-python",
   "name": "python",
   "nbconvert_exporter": "python",
   "pygments_lexer": "ipython3",
   "version": "3.9.12"
  }
 },
 "nbformat": 4,
 "nbformat_minor": 5
}
