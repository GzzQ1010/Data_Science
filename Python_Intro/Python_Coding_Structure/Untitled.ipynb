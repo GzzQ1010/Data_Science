{
 "cells": [
  {
   "cell_type": "code",
   "execution_count": 18,
   "id": "098aab99-b8df-418b-b59d-25eab3e4bcc8",
   "metadata": {},
   "outputs": [],
   "source": [
    "a='£43000-£58700'\n",
    "LIST=[n for n in a]"
   ]
  },
  {
   "cell_type": "code",
   "execution_count": 19,
   "id": "61543f77-9b73-47ea-8bd6-6ddee7ff9800",
   "metadata": {},
   "outputs": [
    {
     "data": {
      "text/plain": [
       "['£', '4', '3', '0', '0', '0', '-', '£', '5', '8', '7', '0', '0']"
      ]
     },
     "execution_count": 19,
     "metadata": {},
     "output_type": "execute_result"
    }
   ],
   "source": [
    "LIST"
   ]
  },
  {
   "cell_type": "code",
   "execution_count": 20,
   "id": "1cc2a0fa-7009-4903-9479-00d744600628",
   "metadata": {},
   "outputs": [],
   "source": [
    "LIST.insert(-3,',')"
   ]
  },
  {
   "cell_type": "code",
   "execution_count": 21,
   "id": "763437e0-08ce-4224-9177-a9d1cb4a4a4c",
   "metadata": {},
   "outputs": [
    {
     "data": {
      "text/plain": [
       "['£', '4', '3', '0', '0', '0', '-', '£', '5', '8', ',', '7', '0', '0']"
      ]
     },
     "execution_count": 21,
     "metadata": {},
     "output_type": "execute_result"
    }
   ],
   "source": [
    "LIST"
   ]
  },
  {
   "cell_type": "code",
   "execution_count": 22,
   "id": "5dfdd8ba-853c-40ed-907c-f7637ed99d4a",
   "metadata": {},
   "outputs": [],
   "source": [
    "LIST.insert(3,',')"
   ]
  },
  {
   "cell_type": "code",
   "execution_count": 23,
   "id": "829e76a3-5c22-4d02-99bd-5f010d66c220",
   "metadata": {},
   "outputs": [
    {
     "data": {
      "text/plain": [
       "['£', '4', '3', ',', '0', '0', '0', '-', '£', '5', '8', ',', '7', '0', '0']"
      ]
     },
     "execution_count": 23,
     "metadata": {},
     "output_type": "execute_result"
    }
   ],
   "source": [
    "LIST"
   ]
  },
  {
   "cell_type": "code",
   "execution_count": 24,
   "id": "831aacfc-0f5c-4f50-a99c-fbe82c63b2aa",
   "metadata": {},
   "outputs": [
    {
     "data": {
      "text/plain": [
       "'£43,000-£58,700'"
      ]
     },
     "execution_count": 24,
     "metadata": {},
     "output_type": "execute_result"
    }
   ],
   "source": [
    "''.join(LIST)"
   ]
  },
  {
   "cell_type": "code",
   "execution_count": 64,
   "id": "3235f9f3-c145-43dd-a638-4038852d161a",
   "metadata": {},
   "outputs": [
    {
     "name": "stdout",
     "output_type": "stream",
     "text": [
      "Requirement already satisfied: pandas in /Users/zhenqiangzeng/opt/anaconda3/lib/python3.9/site-packages (1.1.5)\n",
      "Requirement already satisfied: numpy>=1.15.4 in /Users/zhenqiangzeng/opt/anaconda3/lib/python3.9/site-packages (from pandas) (1.21.5)\n",
      "Requirement already satisfied: pytz>=2017.2 in /Users/zhenqiangzeng/opt/anaconda3/lib/python3.9/site-packages (from pandas) (2021.3)\n",
      "Requirement already satisfied: python-dateutil>=2.7.3 in /Users/zhenqiangzeng/opt/anaconda3/lib/python3.9/site-packages (from pandas) (2.8.2)\n",
      "Requirement already satisfied: six>=1.5 in /Users/zhenqiangzeng/opt/anaconda3/lib/python3.9/site-packages (from python-dateutil>=2.7.3->pandas) (1.16.0)\n",
      "Requirement already satisfied: numpy in /Users/zhenqiangzeng/opt/anaconda3/lib/python3.9/site-packages (1.21.5)\n"
     ]
    }
   ],
   "source": [
    "!pip install pandas\n",
    "!pip install numpy\n",
    "\n",
    "import pandas as pd \n",
    "import numpy as np"
   ]
  },
  {
   "cell_type": "code",
   "execution_count": 6,
   "id": "5ee31f0d-5139-4b35-bf9c-fd5079c91ffd",
   "metadata": {},
   "outputs": [
    {
     "name": "stdout",
     "output_type": "stream",
     "text": [
      "0\n",
      "1\n",
      "2\n"
     ]
    }
   ],
   "source": [
    "values=['a','b','x']\n",
    "left_indices = []\n",
    "for i,x in enumerate(values):\n",
    "    print(i)"
   ]
  },
  {
   "cell_type": "code",
   "execution_count": 5,
   "id": "f9163834-d715-4b4f-8fb2-f8214197f776",
   "metadata": {},
   "outputs": [
    {
     "ename": "TypeError",
     "evalue": "'enumerate' object is not subscriptable",
     "output_type": "error",
     "traceback": [
      "\u001b[0;31m---------------------------------------------------------------------------\u001b[0m",
      "\u001b[0;31mTypeError\u001b[0m                                 Traceback (most recent call last)",
      "Input \u001b[0;32mIn [5]\u001b[0m, in \u001b[0;36m<cell line: 1>\u001b[0;34m()\u001b[0m\n\u001b[0;32m----> 1\u001b[0m \u001b[43menum\u001b[49m\u001b[43m[\u001b[49m\u001b[38;5;241;43m1\u001b[39;49m\u001b[43m]\u001b[49m\u001b[38;5;241m==\u001b[39m\u001b[38;5;124m'\u001b[39m\u001b[38;5;124ma\u001b[39m\u001b[38;5;124m'\u001b[39m\n",
      "\u001b[0;31mTypeError\u001b[0m: 'enumerate' object is not subscriptable"
     ]
    }
   ],
   "source": [
    "left_indices = []\n",
    "left_indices.append()"
   ]
  },
  {
   "cell_type": "code",
   "execution_count": null,
   "id": "48385f83-25bc-4c1a-924c-530bb7fef6cf",
   "metadata": {},
   "outputs": [],
   "source": []
  },
  {
   "cell_type": "code",
   "execution_count": null,
   "id": "77e41d0f-2250-42c0-a14d-34b29c4e2b03",
   "metadata": {},
   "outputs": [],
   "source": []
  },
  {
   "cell_type": "code",
   "execution_count": null,
   "id": "dc4b1114-6033-4df8-bf47-341915290916",
   "metadata": {},
   "outputs": [],
   "source": []
  }
 ],
 "metadata": {
  "kernelspec": {
   "display_name": "Python 3 (ipykernel)",
   "language": "python",
   "name": "python3"
  },
  "language_info": {
   "codemirror_mode": {
    "name": "ipython",
    "version": 3
   },
   "file_extension": ".py",
   "mimetype": "text/x-python",
   "name": "python",
   "nbconvert_exporter": "python",
   "pygments_lexer": "ipython3",
   "version": "3.9.12"
  }
 },
 "nbformat": 4,
 "nbformat_minor": 5
}
