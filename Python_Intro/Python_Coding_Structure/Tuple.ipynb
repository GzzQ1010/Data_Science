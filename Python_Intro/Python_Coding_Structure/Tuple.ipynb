{
 "cells": [
  {
   "cell_type": "markdown",
   "id": "51c90bd6-aa96-4c33-afa3-f58a2a129f26",
   "metadata": {},
   "source": [
    "## Tuple ## \n",
    "list is  changable </b>\n",
    "tuple- unchangable "
   ]
  },
  {
   "cell_type": "code",
   "execution_count": 10,
   "id": "877dfecd-4a83-4dd0-b5f2-679d4694a0aa",
   "metadata": {},
   "outputs": [
    {
     "data": {
      "text/plain": [
       "tuple"
      ]
     },
     "execution_count": 10,
     "metadata": {},
     "output_type": "execute_result"
    }
   ],
   "source": [
    "##Create by () \n",
    "a=(10,20,40,30)\n",
    "type(a)"
   ]
  },
  {
   "cell_type": "code",
   "execution_count": 11,
   "id": "b4b1f6f7-2434-42fa-83c0-3ed45a900a9b",
   "metadata": {},
   "outputs": [
    {
     "data": {
      "text/plain": [
       "tuple"
      ]
     },
     "execution_count": 11,
     "metadata": {},
     "output_type": "execute_result"
    }
   ],
   "source": [
    "##( ) 可以省略\n",
    "b=10,20,30 \n",
    "type(b)"
   ]
  },
  {
   "cell_type": "code",
   "execution_count": 12,
   "id": "a69673cb-9488-4cd3-9a47-4eb840942539",
   "metadata": {},
   "outputs": [
    {
     "data": {
      "text/plain": [
       "(10, 20, 40, 30)"
      ]
     },
     "execution_count": 12,
     "metadata": {},
     "output_type": "execute_result"
    }
   ],
   "source": [
    "tuple(a)"
   ]
  },
  {
   "cell_type": "code",
   "execution_count": 13,
   "id": "121da9a8-5a8d-477c-b026-ed4b3f9d2dfb",
   "metadata": {},
   "outputs": [
    {
     "data": {
      "text/plain": [
       "140674150364240"
      ]
     },
     "execution_count": 13,
     "metadata": {},
     "output_type": "execute_result"
    }
   ],
   "source": [
    "id(a)"
   ]
  },
  {
   "cell_type": "code",
   "execution_count": 14,
   "id": "2b2ee7b1-c45f-4986-860b-a13bba1b680f",
   "metadata": {},
   "outputs": [
    {
     "ename": "AttributeError",
     "evalue": "'tuple' object has no attribute 'sorted'",
     "output_type": "error",
     "traceback": [
      "\u001b[0;31m---------------------------------------------------------------------------\u001b[0m",
      "\u001b[0;31mAttributeError\u001b[0m                            Traceback (most recent call last)",
      "Input \u001b[0;32mIn [14]\u001b[0m, in \u001b[0;36m<cell line: 1>\u001b[0;34m()\u001b[0m\n\u001b[0;32m----> 1\u001b[0m \u001b[43ma\u001b[49m\u001b[38;5;241;43m.\u001b[39;49m\u001b[43msorted\u001b[49m()\n",
      "\u001b[0;31mAttributeError\u001b[0m: 'tuple' object has no attribute 'sorted'"
     ]
    }
   ],
   "source": [
    "a.sorted()"
   ]
  },
  {
   "cell_type": "code",
   "execution_count": 15,
   "id": "b750496d-d1fe-4cdc-9b31-9de1a6605b08",
   "metadata": {},
   "outputs": [
    {
     "data": {
      "text/plain": [
       "[10, 20, 30, 40]"
      ]
     },
     "execution_count": 15,
     "metadata": {},
     "output_type": "execute_result"
    }
   ],
   "source": [
    "sorted(a)"
   ]
  },
  {
   "cell_type": "code",
   "execution_count": 16,
   "id": "6a96ffe9-d490-42bd-9384-89dd82f03385",
   "metadata": {},
   "outputs": [
    {
     "name": "stdout",
     "output_type": "stream",
     "text": [
      "(10, 20, 40, 30)\n"
     ]
    }
   ],
   "source": [
    "id(a)\n",
    "print(a)"
   ]
  },
  {
   "cell_type": "markdown",
   "id": "2a96ebd0-2bc5-452a-a70c-fde2c783e413",
   "metadata": {},
   "source": [
    "## ZIP ##\n"
   ]
  },
  {
   "cell_type": "code",
   "execution_count": null,
   "id": "4f82b563-55f9-41f5-b488-c3eaea622f0e",
   "metadata": {},
   "outputs": [],
   "source": []
  }
 ],
 "metadata": {
  "kernelspec": {
   "display_name": "Python 3 (ipykernel)",
   "language": "python",
   "name": "python3"
  },
  "language_info": {
   "codemirror_mode": {
    "name": "ipython",
    "version": 3
   },
   "file_extension": ".py",
   "mimetype": "text/x-python",
   "name": "python",
   "nbconvert_exporter": "python",
   "pygments_lexer": "ipython3",
   "version": "3.9.12"
  }
 },
 "nbformat": 4,
 "nbformat_minor": 5
}
