{
 "cells": [
  {
   "cell_type": "markdown",
   "id": "708f9fb9-7603-44d2-b845-dbfd139492a4",
   "metadata": {},
   "source": [
    "## Dictationary ##\n"
   ]
  },
  {
   "cell_type": "markdown",
   "id": "cb63f30f-e009-4ca4-a4e0-7214d1e1ab25",
   "metadata": {},
   "source": [
    "**\"健值对“** 的无序可变序列 <br>\n",
    "成对存储-- 健对相+值对象<br>\n",
    "通过健，操作值<br>"
   ]
  },
  {
   "cell_type": "code",
   "execution_count": 1,
   "id": "dc6cbc3c-f565-4d5d-b5cc-80034511f614",
   "metadata": {},
   "outputs": [
    {
     "data": {
      "text/plain": [
       "'George'"
      ]
     },
     "execution_count": 1,
     "metadata": {},
     "output_type": "execute_result"
    }
   ],
   "source": [
    "a={'name':'George','age':24,'job':'programmer'}\n",
    "a.get('name')"
   ]
  },
  {
   "cell_type": "markdown",
   "id": "9e159532-55df-4754-949c-cccf92024be5",
   "metadata": {},
   "source": [
    "### 1. we can create DIC through \"{}\" or \"dict()\" ###"
   ]
  },
  {
   "cell_type": "code",
   "execution_count": 11,
   "id": "ad16d7d4-e75b-42fb-9477-220ab5217243",
   "metadata": {},
   "outputs": [],
   "source": [
    "b=dict(address1='George',car='black',hobby='scuba diving')"
   ]
  },
  {
   "cell_type": "code",
   "execution_count": 12,
   "id": "44192f5e-52e6-46fa-9784-a7b037fa0407",
   "metadata": {},
   "outputs": [
    {
     "data": {
      "text/plain": [
       "{'name': 'George', 'age': 24, 'job': 'programmer'}"
      ]
     },
     "execution_count": 12,
     "metadata": {},
     "output_type": "execute_result"
    }
   ],
   "source": [
    "b"
   ]
  },
  {
   "cell_type": "code",
   "execution_count": 13,
   "id": "5fbcc6c6-1543-461b-ab84-49a3ec9ba131",
   "metadata": {},
   "outputs": [],
   "source": [
    "c=dict([(\"Name\",\"George\"),(\"age\",24)])"
   ]
  },
  {
   "cell_type": "code",
   "execution_count": 14,
   "id": "989e74b6-7b60-401e-b0ce-23686a62a0f1",
   "metadata": {},
   "outputs": [
    {
     "data": {
      "text/plain": [
       "{'Name': 'George', 'age': 24}"
      ]
     },
     "execution_count": 14,
     "metadata": {},
     "output_type": "execute_result"
    }
   ],
   "source": [
    "c"
   ]
  },
  {
   "cell_type": "markdown",
   "id": "bcf9a197-6413-4d94-8525-7b5b927065e8",
   "metadata": {},
   "source": [
    "健 一般用任意不可改变的数据 **不能重复** 重复覆盖\n"
   ]
  },
  {
   "cell_type": "markdown",
   "id": "d3410e56-2363-4a67-94d7-6d7b88424f8a",
   "metadata": {},
   "source": [
    "### we can also create dict through zip() ###"
   ]
  },
  {
   "cell_type": "code",
   "execution_count": 17,
   "id": "651594cf-85e4-4d8f-8206-ba5769b355df",
   "metadata": {},
   "outputs": [
    {
     "data": {
      "text/plain": [
       "'George'"
      ]
     },
     "execution_count": 17,
     "metadata": {},
     "output_type": "execute_result"
    }
   ],
   "source": [
    "k=['name','age','job']\n",
    "v=['George',24,'programmer']\n",
    "d=dict(zip(k,v))\n",
    "d\n",
    "d.get('name')"
   ]
  },
  {
   "cell_type": "markdown",
   "id": "04352499-6644-44e5-94a8-cbc35b620639",
   "metadata": {},
   "source": [
    "### Create a 值为空的字典 through \"fromkeys\" ###"
   ]
  },
  {
   "cell_type": "code",
   "execution_count": 19,
   "id": "ebc6b0aa-d23f-4c36-90df-fae526161186",
   "metadata": {},
   "outputs": [
    {
     "data": {
      "text/plain": [
       "{'name': None, 'age': None, 'job': None}"
      ]
     },
     "execution_count": 19,
     "metadata": {},
     "output_type": "execute_result"
    }
   ],
   "source": [
    "a=dict.fromkeys(['name','age','job'])\n",
    "a\n",
    "##None is a value, means the key haven't been assign value yet "
   ]
  },
  {
   "cell_type": "markdown",
   "id": "9a588b19-ac25-484d-bc35-615d6e15a387",
   "metadata": {},
   "source": [
    "# 元素的访问#\n"
   ]
  },
  {
   "cell_type": "markdown",
   "id": "da813f50-7d6d-4722-b96c-5dcd066703a2",
   "metadata": {},
   "source": [
    "1. get value through key. if the key doesn't exist = error \n",
    "2. thorough get(). if the key doesn't exist== none "
   ]
  },
  {
   "cell_type": "code",
   "execution_count": 20,
   "id": "dd8f6a85-6b50-4033-b197-81ddd824e820",
   "metadata": {},
   "outputs": [],
   "source": [
    "a={'name':'George','age':24,'job':'programmer'}\n"
   ]
  },
  {
   "cell_type": "code",
   "execution_count": 21,
   "id": "937f40b6-8640-4942-b432-95f6eea9cf61",
   "metadata": {},
   "outputs": [
    {
     "data": {
      "text/plain": [
       "'George'"
      ]
     },
     "execution_count": 21,
     "metadata": {},
     "output_type": "execute_result"
    }
   ],
   "source": [
    "a['name']"
   ]
  },
  {
   "cell_type": "code",
   "execution_count": 22,
   "id": "4943dd39-480a-47b8-90e3-b0f308ae7ed0",
   "metadata": {},
   "outputs": [
    {
     "ename": "KeyError",
     "evalue": "'p'",
     "output_type": "error",
     "traceback": [
      "\u001b[0;31m---------------------------------------------------------------------------\u001b[0m",
      "\u001b[0;31mKeyError\u001b[0m                                  Traceback (most recent call last)",
      "Input \u001b[0;32mIn [22]\u001b[0m, in \u001b[0;36m<cell line: 1>\u001b[0;34m()\u001b[0m\n\u001b[0;32m----> 1\u001b[0m \u001b[43ma\u001b[49m\u001b[43m[\u001b[49m\u001b[38;5;124;43m'\u001b[39;49m\u001b[38;5;124;43mp\u001b[39;49m\u001b[38;5;124;43m'\u001b[39;49m\u001b[43m]\u001b[49m\n",
      "\u001b[0;31mKeyError\u001b[0m: 'p'"
     ]
    }
   ],
   "source": [
    "a['p']"
   ]
  },
  {
   "cell_type": "code",
   "execution_count": 23,
   "id": "d8704e4f-e7d7-49bd-bbe7-726fa47ac7fe",
   "metadata": {},
   "outputs": [
    {
     "data": {
      "text/plain": [
       "'George'"
      ]
     },
     "execution_count": 23,
     "metadata": {},
     "output_type": "execute_result"
    }
   ],
   "source": [
    "a.get('name')"
   ]
  },
  {
   "cell_type": "code",
   "execution_count": 24,
   "id": "16f543e0-01d9-4e93-b363-31307d7a12f2",
   "metadata": {},
   "outputs": [
    {
     "data": {
      "text/plain": [
       "'不存在'"
      ]
     },
     "execution_count": 24,
     "metadata": {},
     "output_type": "execute_result"
    }
   ],
   "source": [
    "a.get('p','不存在')\n"
   ]
  },
  {
   "cell_type": "markdown",
   "id": "24b8ddc3-5fcc-4226-9fe1-c0e8f7bae326",
   "metadata": {},
   "source": [
    "### 列出所有的健值对 ### "
   ]
  },
  {
   "cell_type": "code",
   "execution_count": 25,
   "id": "5cc5e0b3-d147-4701-b76c-23d157153a09",
   "metadata": {},
   "outputs": [
    {
     "data": {
      "text/plain": [
       "dict_items([('name', 'George'), ('age', 24), ('job', 'programmer')])"
      ]
     },
     "execution_count": 25,
     "metadata": {},
     "output_type": "execute_result"
    }
   ],
   "source": [
    "a.items()"
   ]
  },
  {
   "cell_type": "code",
   "execution_count": 26,
   "id": "c99521f8-0ece-4db8-b9b1-65dbc2f8ca33",
   "metadata": {},
   "outputs": [
    {
     "data": {
      "text/plain": [
       "dict_keys(['name', 'age', 'job'])"
      ]
     },
     "execution_count": 26,
     "metadata": {},
     "output_type": "execute_result"
    }
   ],
   "source": [
    "a.keys()"
   ]
  },
  {
   "cell_type": "code",
   "execution_count": 27,
   "id": "8c0bdbd4-4297-47a2-941c-6b2a63cbd4a4",
   "metadata": {},
   "outputs": [
    {
     "data": {
      "text/plain": [
       "dict_values(['George', 24, 'programmer'])"
      ]
     },
     "execution_count": 27,
     "metadata": {},
     "output_type": "execute_result"
    }
   ],
   "source": [
    "a.values()"
   ]
  },
  {
   "cell_type": "code",
   "execution_count": 28,
   "id": "363b3605-fa1a-42fe-b9f1-d1ca66c97bf2",
   "metadata": {},
   "outputs": [
    {
     "data": {
      "text/plain": [
       "3"
      ]
     },
     "execution_count": 28,
     "metadata": {},
     "output_type": "execute_result"
    }
   ],
   "source": [
    "len(a) ## 3 couples "
   ]
  },
  {
   "cell_type": "markdown",
   "id": "bea33ce1-a3d2-440e-8743-0f9141cff637",
   "metadata": {},
   "source": [
    "### use \"in\" check if key is in dict \n"
   ]
  },
  {
   "cell_type": "code",
   "execution_count": 30,
   "id": "c8313732-c1d9-4296-bc4b-a05398036844",
   "metadata": {},
   "outputs": [
    {
     "data": {
      "text/plain": [
       "True"
      ]
     },
     "execution_count": 30,
     "metadata": {},
     "output_type": "execute_result"
    }
   ],
   "source": [
    "'name' in a "
   ]
  },
  {
   "cell_type": "markdown",
   "id": "d2dbf1af-db05-4e99-825a-01bcaa976ead",
   "metadata": {},
   "source": [
    "## 字典元素的修改\n"
   ]
  },
  {
   "cell_type": "code",
   "execution_count": 31,
   "id": "d5a828f0-1005-4610-afd7-88bc13627036",
   "metadata": {},
   "outputs": [],
   "source": [
    "a={'name':'George','age':24,'job':'programmer'}"
   ]
  },
  {
   "cell_type": "markdown",
   "id": "b3cbc221-6c39-436e-a7de-c7c6b510e957",
   "metadata": {},
   "source": [
    "### adding "
   ]
  },
  {
   "cell_type": "code",
   "execution_count": 34,
   "id": "65304db7-9506-4663-89f3-d6e26c3f4155",
   "metadata": {},
   "outputs": [],
   "source": [
    "## use[] \n",
    "a['address']=\"aqua\" ## if the key didn't exist -> adding new couple, if it existed before it will cover the previous value "
   ]
  },
  {
   "cell_type": "code",
   "execution_count": 33,
   "id": "c1f49238-e9aa-4ae6-89da-fa61ba27bea7",
   "metadata": {},
   "outputs": [
    {
     "data": {
      "text/plain": [
       "{'name': 'George', 'age': 24, 'job': 'programmer', 'address': 'aqua'}"
      ]
     },
     "execution_count": 33,
     "metadata": {},
     "output_type": "execute_result"
    }
   ],
   "source": [
    "a"
   ]
  },
  {
   "cell_type": "code",
   "execution_count": 35,
   "id": "e5e9a28d-6876-45dd-abf1-598b2de435c2",
   "metadata": {},
   "outputs": [
    {
     "data": {
      "text/plain": [
       "{'name': 'George',\n",
       " 'age': 24,\n",
       " 'job': 'programmer',\n",
       " 'address': 'aqua',\n",
       " 'address1': 'George',\n",
       " 'car': 'black',\n",
       " 'hobby': 'scuba diving'}"
      ]
     },
     "execution_count": 35,
     "metadata": {},
     "output_type": "execute_result"
    }
   ],
   "source": [
    "## use update()\n",
    "b=dict(address1='George',car='black',hobby='scuba diving')\n",
    "a.update(b) \n",
    "a"
   ]
  },
  {
   "cell_type": "markdown",
   "id": "166ef819-0851-4c0c-93c9-863ee8bd15c7",
   "metadata": {},
   "source": [
    "### Deleting ## \n",
    "del(), clear()删除所有健值对 ,pop()删除置顶健值对，并返回对应值\n"
   ]
  },
  {
   "cell_type": "code",
   "execution_count": 36,
   "id": "a2885d9a-122d-4f28-a707-074f6464b935",
   "metadata": {},
   "outputs": [
    {
     "data": {
      "text/plain": [
       "{'age': 24, 'job': 'programmer'}"
      ]
     },
     "execution_count": 36,
     "metadata": {},
     "output_type": "execute_result"
    }
   ],
   "source": [
    "## del() \n",
    "a={'name':'George','age':24,'job':'programmer'}\n",
    "del(a['name'])\n",
    "a"
   ]
  },
  {
   "cell_type": "code",
   "execution_count": 37,
   "id": "8dfe5972-4006-4e29-b981-93457f8aae49",
   "metadata": {},
   "outputs": [
    {
     "name": "stdout",
     "output_type": "stream",
     "text": [
      "24\n",
      "{'job': 'programmer'}\n"
     ]
    }
   ],
   "source": [
    "b=a.pop('age')\n",
    "print(b)\n",
    "print(a)"
   ]
  },
  {
   "cell_type": "code",
   "execution_count": 38,
   "id": "9ec18554-eccd-4a92-87e5-113182267b80",
   "metadata": {},
   "outputs": [],
   "source": [
    "a.clear()"
   ]
  },
  {
   "cell_type": "code",
   "execution_count": 39,
   "id": "343e7032-fa9c-4bff-a750-d932032cbae7",
   "metadata": {},
   "outputs": [
    {
     "data": {
      "text/plain": [
       "{}"
      ]
     },
     "execution_count": 39,
     "metadata": {},
     "output_type": "execute_result"
    }
   ],
   "source": [
    "a"
   ]
  },
  {
   "cell_type": "code",
   "execution_count": 40,
   "id": "0e84de03-9d17-4d4d-907b-e25926c3be89",
   "metadata": {},
   "outputs": [],
   "source": [
    "## popitem() 随机移除健值对 因为dict是无序的\n"
   ]
  },
  {
   "cell_type": "markdown",
   "id": "7e283f30-a78c-44cd-ad9f-b396893ea10d",
   "metadata": {},
   "source": [
    "## 序列解包"
   ]
  },
  {
   "cell_type": "code",
   "execution_count": 41,
   "id": "38ade04a-1386-4e05-bf88-54b3ae15dc70",
   "metadata": {},
   "outputs": [],
   "source": [
    "## tuple \n",
    "x,y,z=(10,20,30)"
   ]
  },
  {
   "cell_type": "code",
   "execution_count": 42,
   "id": "70ad7272-363d-4d7e-9517-3a5d87f0e8fa",
   "metadata": {},
   "outputs": [
    {
     "data": {
      "text/plain": [
       "10"
      ]
     },
     "execution_count": 42,
     "metadata": {},
     "output_type": "execute_result"
    }
   ],
   "source": [
    "x"
   ]
  },
  {
   "cell_type": "code",
   "execution_count": 43,
   "id": "0d7922f4-410a-40f2-aba3-d4d7d0b16cc9",
   "metadata": {},
   "outputs": [
    {
     "data": {
      "text/plain": [
       "20"
      ]
     },
     "execution_count": 43,
     "metadata": {},
     "output_type": "execute_result"
    }
   ],
   "source": [
    "y"
   ]
  },
  {
   "cell_type": "code",
   "execution_count": 44,
   "id": "a2791f75-430a-45cc-a507-5bf7cc5bdc1d",
   "metadata": {},
   "outputs": [
    {
     "data": {
      "text/plain": [
       "30"
      ]
     },
     "execution_count": 44,
     "metadata": {},
     "output_type": "execute_result"
    }
   ],
   "source": [
    "z"
   ]
  },
  {
   "cell_type": "code",
   "execution_count": 45,
   "id": "cf0d396f-7141-4ca4-864d-face3e554c92",
   "metadata": {},
   "outputs": [],
   "source": [
    "##list\n",
    "[a,b,c]=[1,2,3]"
   ]
  },
  {
   "cell_type": "code",
   "execution_count": 46,
   "id": "dc907d97-6952-494e-aef5-8bd8a77ac807",
   "metadata": {},
   "outputs": [
    {
     "data": {
      "text/plain": [
       "1"
      ]
     },
     "execution_count": 46,
     "metadata": {},
     "output_type": "execute_result"
    }
   ],
   "source": [
    "a\n"
   ]
  },
  {
   "cell_type": "code",
   "execution_count": 49,
   "id": "f1474304-0e8c-43d6-8f6d-5fe1b0443762",
   "metadata": {},
   "outputs": [
    {
     "data": {
      "text/plain": [
       "2"
      ]
     },
     "execution_count": 49,
     "metadata": {},
     "output_type": "execute_result"
    }
   ],
   "source": [
    "b"
   ]
  },
  {
   "cell_type": "code",
   "execution_count": 50,
   "id": "5faf84a9-a01f-4bf5-95ed-5199203325c7",
   "metadata": {},
   "outputs": [
    {
     "data": {
      "text/plain": [
       "2"
      ]
     },
     "execution_count": 50,
     "metadata": {},
     "output_type": "execute_result"
    }
   ],
   "source": [
    "b"
   ]
  },
  {
   "cell_type": "code",
   "execution_count": 51,
   "id": "beca6867-f727-41a8-b817-efd70ba19c4b",
   "metadata": {},
   "outputs": [],
   "source": [
    "##Dict \n",
    "s={'name':'George','age':24,'job':'programmer'}\n",
    "a,b,c=s"
   ]
  },
  {
   "cell_type": "code",
   "execution_count": 52,
   "id": "ecc09282-4871-4fd1-833d-9d9045544e63",
   "metadata": {},
   "outputs": [
    {
     "data": {
      "text/plain": [
       "'name'"
      ]
     },
     "execution_count": 52,
     "metadata": {},
     "output_type": "execute_result"
    }
   ],
   "source": [
    "a"
   ]
  },
  {
   "cell_type": "code",
   "execution_count": 53,
   "id": "d0412eb6-8734-4b5a-8d48-891dd7388245",
   "metadata": {},
   "outputs": [
    {
     "data": {
      "text/plain": [
       "'age'"
      ]
     },
     "execution_count": 53,
     "metadata": {},
     "output_type": "execute_result"
    }
   ],
   "source": [
    "b"
   ]
  },
  {
   "cell_type": "code",
   "execution_count": 54,
   "id": "12580287-e095-47a5-9e4f-2930b77e6655",
   "metadata": {},
   "outputs": [
    {
     "data": {
      "text/plain": [
       "'job'"
      ]
     },
     "execution_count": 54,
     "metadata": {},
     "output_type": "execute_result"
    }
   ],
   "source": [
    "c"
   ]
  },
  {
   "cell_type": "code",
   "execution_count": 55,
   "id": "daa09bef-3a58-452c-8892-d57d24187313",
   "metadata": {},
   "outputs": [
    {
     "data": {
      "text/plain": [
       "'George'"
      ]
     },
     "execution_count": 55,
     "metadata": {},
     "output_type": "execute_result"
    }
   ],
   "source": [
    "s[a]"
   ]
  },
  {
   "cell_type": "code",
   "execution_count": 57,
   "id": "785c282c-25fb-448c-9855-fbe4e249ddbd",
   "metadata": {},
   "outputs": [
    {
     "data": {
      "text/plain": [
       "24"
      ]
     },
     "execution_count": 57,
     "metadata": {},
     "output_type": "execute_result"
    }
   ],
   "source": [
    "s.get(b)"
   ]
  },
  {
   "cell_type": "code",
   "execution_count": 58,
   "id": "3de251d5-a5dd-440e-b113-14e9750c944f",
   "metadata": {},
   "outputs": [],
   "source": [
    "h,i,j=s.items()"
   ]
  },
  {
   "cell_type": "code",
   "execution_count": 59,
   "id": "faf4d651-6759-4a93-88f4-b24edf5acfc0",
   "metadata": {},
   "outputs": [
    {
     "data": {
      "text/plain": [
       "('name', 'George')"
      ]
     },
     "execution_count": 59,
     "metadata": {},
     "output_type": "execute_result"
    }
   ],
   "source": [
    "h"
   ]
  },
  {
   "cell_type": "code",
   "execution_count": 60,
   "id": "c82e5e28-7a5f-42d2-9d90-61ee5dfe6591",
   "metadata": {},
   "outputs": [
    {
     "data": {
      "text/plain": [
       "('age', 24)"
      ]
     },
     "execution_count": 60,
     "metadata": {},
     "output_type": "execute_result"
    }
   ],
   "source": [
    "i"
   ]
  },
  {
   "cell_type": "code",
   "execution_count": 61,
   "id": "e04151cf-ed0c-4b9e-bb17-b45c4afb66f8",
   "metadata": {},
   "outputs": [
    {
     "data": {
      "text/plain": [
       "('job', 'programmer')"
      ]
     },
     "execution_count": 61,
     "metadata": {},
     "output_type": "execute_result"
    }
   ],
   "source": [
    "j"
   ]
  },
  {
   "cell_type": "code",
   "execution_count": 62,
   "id": "fc095ccf-a72a-449a-800f-41e92f20c5ca",
   "metadata": {},
   "outputs": [
    {
     "data": {
      "text/plain": [
       "'name'"
      ]
     },
     "execution_count": 62,
     "metadata": {},
     "output_type": "execute_result"
    }
   ],
   "source": [
    "\n",
    "h[0]"
   ]
  },
  {
   "cell_type": "code",
   "execution_count": 63,
   "id": "420cbc56-2738-4144-8c54-2beff3342343",
   "metadata": {},
   "outputs": [
    {
     "data": {
      "text/plain": [
       "'George'"
      ]
     },
     "execution_count": 63,
     "metadata": {},
     "output_type": "execute_result"
    }
   ],
   "source": [
    "h[1]"
   ]
  },
  {
   "cell_type": "code",
   "execution_count": null,
   "id": "1264cb60-a267-450f-8446-d065aeaa6d81",
   "metadata": {},
   "outputs": [],
   "source": []
  }
 ],
 "metadata": {
  "kernelspec": {
   "display_name": "Python 3 (ipykernel)",
   "language": "python",
   "name": "python3"
  },
  "language_info": {
   "codemirror_mode": {
    "name": "ipython",
    "version": 3
   },
   "file_extension": ".py",
   "mimetype": "text/x-python",
   "name": "python",
   "nbconvert_exporter": "python",
   "pygments_lexer": "ipython3",
   "version": "3.9.12"
  }
 },
 "nbformat": 4,
 "nbformat_minor": 5
}
