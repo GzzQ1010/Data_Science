{
 "cells": [
  {
   "cell_type": "markdown",
   "metadata": {},
   "source": [
    "<p style=\"text-align:center\">\n",
    "    <a href=\"https://skills.network/?utm_medium=Exinfluencer&utm_source=Exinfluencer&utm_content=000026UJ&utm_term=10006555&utm_id=NA-SkillsNetwork-Channel-SkillsNetworkCoursesIBMDA0321ENSkillsNetwork21426264-2022-01-01\" target=\"_blank\">\n",
    "    <img src=\"https://cf-courses-data.s3.us.cloud-object-storage.appdomain.cloud/assets/logos/SN_web_lightmode.png\" width=\"200\" alt=\"Skills Network Logo\"  />\n",
    "    </a>\n",
    "</p>\n"
   ]
  },
  {
   "cell_type": "markdown",
   "metadata": {},
   "source": [
    "# **Data Visualization Lab**\n"
   ]
  },
  {
   "cell_type": "markdown",
   "metadata": {},
   "source": [
    "Estimated time needed: **45 to 60** minutes\n"
   ]
  },
  {
   "cell_type": "markdown",
   "metadata": {},
   "source": [
    "In this assignment you will be focusing on the visualization of data.\n",
    "\n",
    "The data set will be presented to you in the form of a RDBMS.\n",
    "\n",
    "You will have to use SQL queries to extract the data.\n"
   ]
  },
  {
   "cell_type": "markdown",
   "metadata": {},
   "source": [
    "## Objectives\n"
   ]
  },
  {
   "cell_type": "markdown",
   "metadata": {},
   "source": [
    "In this lab you will perform the following:\n"
   ]
  },
  {
   "cell_type": "markdown",
   "metadata": {},
   "source": [
    "*   Visualize the distribution of data.\n",
    "\n",
    "*   Visualize the relationship between two features.\n",
    "\n",
    "*   Visualize composition of data.\n",
    "\n",
    "*   Visualize comparison of data.\n"
   ]
  },
  {
   "cell_type": "markdown",
   "metadata": {},
   "source": [
    "<hr>\n"
   ]
  },
  {
   "cell_type": "markdown",
   "metadata": {},
   "source": [
    "## Demo: How to work with database\n"
   ]
  },
  {
   "cell_type": "markdown",
   "metadata": {},
   "source": [
    "Download database file.\n"
   ]
  },
  {
   "cell_type": "code",
   "execution_count": 2,
   "metadata": {},
   "outputs": [
    {
     "name": "stdout",
     "output_type": "stream",
     "text": [
      "--2022-10-20 21:15:32--  https://cf-courses-data.s3.us.cloud-object-storage.appdomain.cloud/IBM-DA0321EN-SkillsNetwork/LargeData/m4_survey_data.sqlite\n",
      "Resolving cf-courses-data.s3.us.cloud-object-storage.appdomain.cloud (cf-courses-data.s3.us.cloud-object-storage.appdomain.cloud)... 198.23.119.245\n",
      "Connecting to cf-courses-data.s3.us.cloud-object-storage.appdomain.cloud (cf-courses-data.s3.us.cloud-object-storage.appdomain.cloud)|198.23.119.245|:443... connected.\n",
      "HTTP request sent, awaiting response... 200 OK\n",
      "Length: 36679680 (35M) [application/octet-stream]\n",
      "Saving to: 'm4_survey_data.sqlite.2'\n",
      "\n",
      "m4_survey_data.sqli 100%[===================>]  34.98M  1.86MB/s    in 13s     \n",
      "\n",
      "utime(m4_survey_data.sqlite.2): No such file or directory\n",
      "2022-10-20 21:15:46 (2.61 MB/s) - 'm4_survey_data.sqlite.2' saved [36679680/36679680]\n",
      "\n"
     ]
    }
   ],
   "source": [
    "!wget https://cf-courses-data.s3.us.cloud-object-storage.appdomain.cloud/IBM-DA0321EN-SkillsNetwork/LargeData/m4_survey_data.sqlite"
   ]
  },
  {
   "cell_type": "markdown",
   "metadata": {},
   "source": [
    "Connect to the database.\n"
   ]
  },
  {
   "cell_type": "code",
   "execution_count": 3,
   "metadata": {},
   "outputs": [],
   "source": [
    "import sqlite3\n",
    "conn = sqlite3.connect(\"m4_survey_data.sqlite\") # open a database connection"
   ]
  },
  {
   "cell_type": "markdown",
   "metadata": {},
   "source": [
    "Import pandas module.\n"
   ]
  },
  {
   "cell_type": "code",
   "execution_count": 4,
   "metadata": {},
   "outputs": [],
   "source": [
    "import pandas as pd"
   ]
  },
  {
   "cell_type": "markdown",
   "metadata": {},
   "source": [
    "## Demo: How to run an sql query\n"
   ]
  },
  {
   "cell_type": "code",
   "execution_count": 5,
   "metadata": {},
   "outputs": [
    {
     "data": {
      "text/html": [
       "<div>\n",
       "<style scoped>\n",
       "    .dataframe tbody tr th:only-of-type {\n",
       "        vertical-align: middle;\n",
       "    }\n",
       "\n",
       "    .dataframe tbody tr th {\n",
       "        vertical-align: top;\n",
       "    }\n",
       "\n",
       "    .dataframe thead th {\n",
       "        text-align: right;\n",
       "    }\n",
       "</style>\n",
       "<table border=\"1\" class=\"dataframe\">\n",
       "  <thead>\n",
       "    <tr style=\"text-align: right;\">\n",
       "      <th></th>\n",
       "      <th>COUNT(*)</th>\n",
       "    </tr>\n",
       "  </thead>\n",
       "  <tbody>\n",
       "    <tr>\n",
       "      <th>0</th>\n",
       "      <td>11398</td>\n",
       "    </tr>\n",
       "  </tbody>\n",
       "</table>\n",
       "</div>"
      ],
      "text/plain": [
       "   COUNT(*)\n",
       "0     11398"
      ]
     },
     "execution_count": 5,
     "metadata": {},
     "output_type": "execute_result"
    }
   ],
   "source": [
    "# print how many rows are there in the table named 'master'\n",
    "QUERY = \"\"\"\n",
    "SELECT COUNT(*)\n",
    "FROM master\n",
    "\"\"\"\n",
    "\n",
    "# the read_sql_query runs the sql query and returns the data as a dataframe\n",
    "df = pd.read_sql_query(QUERY,conn)\n",
    "df.head()"
   ]
  },
  {
   "cell_type": "markdown",
   "metadata": {},
   "source": [
    "## Demo: How to list all tables\n"
   ]
  },
  {
   "cell_type": "code",
   "execution_count": 5,
   "metadata": {
    "scrolled": true
   },
   "outputs": [
    {
     "data": {
      "text/html": [
       "<div>\n",
       "<style scoped>\n",
       "    .dataframe tbody tr th:only-of-type {\n",
       "        vertical-align: middle;\n",
       "    }\n",
       "\n",
       "    .dataframe tbody tr th {\n",
       "        vertical-align: top;\n",
       "    }\n",
       "\n",
       "    .dataframe thead th {\n",
       "        text-align: right;\n",
       "    }\n",
       "</style>\n",
       "<table border=\"1\" class=\"dataframe\">\n",
       "  <thead>\n",
       "    <tr style=\"text-align: right;\">\n",
       "      <th></th>\n",
       "      <th>Table_Name</th>\n",
       "    </tr>\n",
       "  </thead>\n",
       "  <tbody>\n",
       "    <tr>\n",
       "      <th>0</th>\n",
       "      <td>EduOther</td>\n",
       "    </tr>\n",
       "    <tr>\n",
       "      <th>1</th>\n",
       "      <td>DevType</td>\n",
       "    </tr>\n",
       "    <tr>\n",
       "      <th>2</th>\n",
       "      <td>LastInt</td>\n",
       "    </tr>\n",
       "    <tr>\n",
       "      <th>3</th>\n",
       "      <td>JobFactors</td>\n",
       "    </tr>\n",
       "    <tr>\n",
       "      <th>4</th>\n",
       "      <td>WorkPlan</td>\n",
       "    </tr>\n",
       "    <tr>\n",
       "      <th>5</th>\n",
       "      <td>WorkChallenge</td>\n",
       "    </tr>\n",
       "    <tr>\n",
       "      <th>6</th>\n",
       "      <td>LanguageWorkedWith</td>\n",
       "    </tr>\n",
       "    <tr>\n",
       "      <th>7</th>\n",
       "      <td>LanguageDesireNextYear</td>\n",
       "    </tr>\n",
       "    <tr>\n",
       "      <th>8</th>\n",
       "      <td>DatabaseWorkedWith</td>\n",
       "    </tr>\n",
       "    <tr>\n",
       "      <th>9</th>\n",
       "      <td>DatabaseDesireNextYear</td>\n",
       "    </tr>\n",
       "    <tr>\n",
       "      <th>10</th>\n",
       "      <td>PlatformWorkedWith</td>\n",
       "    </tr>\n",
       "    <tr>\n",
       "      <th>11</th>\n",
       "      <td>PlatformDesireNextYear</td>\n",
       "    </tr>\n",
       "    <tr>\n",
       "      <th>12</th>\n",
       "      <td>WebFrameWorkedWith</td>\n",
       "    </tr>\n",
       "    <tr>\n",
       "      <th>13</th>\n",
       "      <td>WebFrameDesireNextYear</td>\n",
       "    </tr>\n",
       "    <tr>\n",
       "      <th>14</th>\n",
       "      <td>MiscTechWorkedWith</td>\n",
       "    </tr>\n",
       "    <tr>\n",
       "      <th>15</th>\n",
       "      <td>MiscTechDesireNextYear</td>\n",
       "    </tr>\n",
       "    <tr>\n",
       "      <th>16</th>\n",
       "      <td>DevEnviron</td>\n",
       "    </tr>\n",
       "    <tr>\n",
       "      <th>17</th>\n",
       "      <td>Containers</td>\n",
       "    </tr>\n",
       "    <tr>\n",
       "      <th>18</th>\n",
       "      <td>SOVisitTo</td>\n",
       "    </tr>\n",
       "    <tr>\n",
       "      <th>19</th>\n",
       "      <td>SONewContent</td>\n",
       "    </tr>\n",
       "    <tr>\n",
       "      <th>20</th>\n",
       "      <td>Gender</td>\n",
       "    </tr>\n",
       "    <tr>\n",
       "      <th>21</th>\n",
       "      <td>Sexuality</td>\n",
       "    </tr>\n",
       "    <tr>\n",
       "      <th>22</th>\n",
       "      <td>Ethnicity</td>\n",
       "    </tr>\n",
       "    <tr>\n",
       "      <th>23</th>\n",
       "      <td>master</td>\n",
       "    </tr>\n",
       "  </tbody>\n",
       "</table>\n",
       "</div>"
      ],
      "text/plain": [
       "                Table_Name\n",
       "0                 EduOther\n",
       "1                  DevType\n",
       "2                  LastInt\n",
       "3               JobFactors\n",
       "4                 WorkPlan\n",
       "5            WorkChallenge\n",
       "6       LanguageWorkedWith\n",
       "7   LanguageDesireNextYear\n",
       "8       DatabaseWorkedWith\n",
       "9   DatabaseDesireNextYear\n",
       "10      PlatformWorkedWith\n",
       "11  PlatformDesireNextYear\n",
       "12      WebFrameWorkedWith\n",
       "13  WebFrameDesireNextYear\n",
       "14      MiscTechWorkedWith\n",
       "15  MiscTechDesireNextYear\n",
       "16              DevEnviron\n",
       "17              Containers\n",
       "18               SOVisitTo\n",
       "19            SONewContent\n",
       "20                  Gender\n",
       "21               Sexuality\n",
       "22               Ethnicity\n",
       "23                  master"
      ]
     },
     "execution_count": 5,
     "metadata": {},
     "output_type": "execute_result"
    }
   ],
   "source": [
    "# print all the tables names in the database\n",
    "QUERY = \"\"\"\n",
    "SELECT name as Table_Name FROM\n",
    "sqlite_master WHERE\n",
    "type = 'table'\n",
    "\"\"\"\n",
    "# the read_sql_query runs the sql query and returns the data as a dataframe\n",
    "pd.read_sql_query(QUERY,conn)\n"
   ]
  },
  {
   "cell_type": "markdown",
   "metadata": {},
   "source": [
    "## Demo: How to run a group by query\n"
   ]
  },
  {
   "cell_type": "code",
   "execution_count": 6,
   "metadata": {},
   "outputs": [
    {
     "data": {
      "text/html": [
       "<div>\n",
       "<style scoped>\n",
       "    .dataframe tbody tr th:only-of-type {\n",
       "        vertical-align: middle;\n",
       "    }\n",
       "\n",
       "    .dataframe tbody tr th {\n",
       "        vertical-align: top;\n",
       "    }\n",
       "\n",
       "    .dataframe thead th {\n",
       "        text-align: right;\n",
       "    }\n",
       "</style>\n",
       "<table border=\"1\" class=\"dataframe\">\n",
       "  <thead>\n",
       "    <tr style=\"text-align: right;\">\n",
       "      <th></th>\n",
       "      <th>Age</th>\n",
       "      <th>count</th>\n",
       "    </tr>\n",
       "  </thead>\n",
       "  <tbody>\n",
       "    <tr>\n",
       "      <th>0</th>\n",
       "      <td>NaN</td>\n",
       "      <td>287</td>\n",
       "    </tr>\n",
       "    <tr>\n",
       "      <th>1</th>\n",
       "      <td>16.0</td>\n",
       "      <td>3</td>\n",
       "    </tr>\n",
       "    <tr>\n",
       "      <th>2</th>\n",
       "      <td>17.0</td>\n",
       "      <td>6</td>\n",
       "    </tr>\n",
       "    <tr>\n",
       "      <th>3</th>\n",
       "      <td>18.0</td>\n",
       "      <td>29</td>\n",
       "    </tr>\n",
       "    <tr>\n",
       "      <th>4</th>\n",
       "      <td>19.0</td>\n",
       "      <td>78</td>\n",
       "    </tr>\n",
       "    <tr>\n",
       "      <th>5</th>\n",
       "      <td>20.0</td>\n",
       "      <td>109</td>\n",
       "    </tr>\n",
       "    <tr>\n",
       "      <th>6</th>\n",
       "      <td>21.0</td>\n",
       "      <td>203</td>\n",
       "    </tr>\n",
       "    <tr>\n",
       "      <th>7</th>\n",
       "      <td>22.0</td>\n",
       "      <td>406</td>\n",
       "    </tr>\n",
       "    <tr>\n",
       "      <th>8</th>\n",
       "      <td>23.0</td>\n",
       "      <td>581</td>\n",
       "    </tr>\n",
       "    <tr>\n",
       "      <th>9</th>\n",
       "      <td>24.0</td>\n",
       "      <td>679</td>\n",
       "    </tr>\n",
       "    <tr>\n",
       "      <th>10</th>\n",
       "      <td>25.0</td>\n",
       "      <td>738</td>\n",
       "    </tr>\n",
       "    <tr>\n",
       "      <th>11</th>\n",
       "      <td>26.0</td>\n",
       "      <td>720</td>\n",
       "    </tr>\n",
       "    <tr>\n",
       "      <th>12</th>\n",
       "      <td>27.0</td>\n",
       "      <td>724</td>\n",
       "    </tr>\n",
       "    <tr>\n",
       "      <th>13</th>\n",
       "      <td>28.0</td>\n",
       "      <td>787</td>\n",
       "    </tr>\n",
       "    <tr>\n",
       "      <th>14</th>\n",
       "      <td>29.0</td>\n",
       "      <td>697</td>\n",
       "    </tr>\n",
       "    <tr>\n",
       "      <th>15</th>\n",
       "      <td>30.0</td>\n",
       "      <td>651</td>\n",
       "    </tr>\n",
       "    <tr>\n",
       "      <th>16</th>\n",
       "      <td>31.0</td>\n",
       "      <td>531</td>\n",
       "    </tr>\n",
       "    <tr>\n",
       "      <th>17</th>\n",
       "      <td>32.0</td>\n",
       "      <td>489</td>\n",
       "    </tr>\n",
       "    <tr>\n",
       "      <th>18</th>\n",
       "      <td>33.0</td>\n",
       "      <td>483</td>\n",
       "    </tr>\n",
       "    <tr>\n",
       "      <th>19</th>\n",
       "      <td>34.0</td>\n",
       "      <td>395</td>\n",
       "    </tr>\n",
       "    <tr>\n",
       "      <th>20</th>\n",
       "      <td>35.0</td>\n",
       "      <td>393</td>\n",
       "    </tr>\n",
       "    <tr>\n",
       "      <th>21</th>\n",
       "      <td>36.0</td>\n",
       "      <td>308</td>\n",
       "    </tr>\n",
       "    <tr>\n",
       "      <th>22</th>\n",
       "      <td>37.0</td>\n",
       "      <td>280</td>\n",
       "    </tr>\n",
       "    <tr>\n",
       "      <th>23</th>\n",
       "      <td>38.0</td>\n",
       "      <td>279</td>\n",
       "    </tr>\n",
       "    <tr>\n",
       "      <th>24</th>\n",
       "      <td>39.0</td>\n",
       "      <td>232</td>\n",
       "    </tr>\n",
       "    <tr>\n",
       "      <th>25</th>\n",
       "      <td>40.0</td>\n",
       "      <td>187</td>\n",
       "    </tr>\n",
       "    <tr>\n",
       "      <th>26</th>\n",
       "      <td>41.0</td>\n",
       "      <td>136</td>\n",
       "    </tr>\n",
       "    <tr>\n",
       "      <th>27</th>\n",
       "      <td>42.0</td>\n",
       "      <td>162</td>\n",
       "    </tr>\n",
       "    <tr>\n",
       "      <th>28</th>\n",
       "      <td>43.0</td>\n",
       "      <td>100</td>\n",
       "    </tr>\n",
       "    <tr>\n",
       "      <th>29</th>\n",
       "      <td>44.0</td>\n",
       "      <td>95</td>\n",
       "    </tr>\n",
       "    <tr>\n",
       "      <th>30</th>\n",
       "      <td>45.0</td>\n",
       "      <td>85</td>\n",
       "    </tr>\n",
       "    <tr>\n",
       "      <th>31</th>\n",
       "      <td>46.0</td>\n",
       "      <td>66</td>\n",
       "    </tr>\n",
       "    <tr>\n",
       "      <th>32</th>\n",
       "      <td>47.0</td>\n",
       "      <td>68</td>\n",
       "    </tr>\n",
       "    <tr>\n",
       "      <th>33</th>\n",
       "      <td>48.0</td>\n",
       "      <td>64</td>\n",
       "    </tr>\n",
       "    <tr>\n",
       "      <th>34</th>\n",
       "      <td>49.0</td>\n",
       "      <td>66</td>\n",
       "    </tr>\n",
       "    <tr>\n",
       "      <th>35</th>\n",
       "      <td>50.0</td>\n",
       "      <td>57</td>\n",
       "    </tr>\n",
       "    <tr>\n",
       "      <th>36</th>\n",
       "      <td>51.0</td>\n",
       "      <td>29</td>\n",
       "    </tr>\n",
       "    <tr>\n",
       "      <th>37</th>\n",
       "      <td>52.0</td>\n",
       "      <td>41</td>\n",
       "    </tr>\n",
       "    <tr>\n",
       "      <th>38</th>\n",
       "      <td>53.0</td>\n",
       "      <td>32</td>\n",
       "    </tr>\n",
       "    <tr>\n",
       "      <th>39</th>\n",
       "      <td>54.0</td>\n",
       "      <td>26</td>\n",
       "    </tr>\n",
       "    <tr>\n",
       "      <th>40</th>\n",
       "      <td>55.0</td>\n",
       "      <td>13</td>\n",
       "    </tr>\n",
       "    <tr>\n",
       "      <th>41</th>\n",
       "      <td>56.0</td>\n",
       "      <td>16</td>\n",
       "    </tr>\n",
       "    <tr>\n",
       "      <th>42</th>\n",
       "      <td>57.0</td>\n",
       "      <td>11</td>\n",
       "    </tr>\n",
       "    <tr>\n",
       "      <th>43</th>\n",
       "      <td>58.0</td>\n",
       "      <td>12</td>\n",
       "    </tr>\n",
       "    <tr>\n",
       "      <th>44</th>\n",
       "      <td>59.0</td>\n",
       "      <td>11</td>\n",
       "    </tr>\n",
       "    <tr>\n",
       "      <th>45</th>\n",
       "      <td>60.0</td>\n",
       "      <td>2</td>\n",
       "    </tr>\n",
       "    <tr>\n",
       "      <th>46</th>\n",
       "      <td>61.0</td>\n",
       "      <td>10</td>\n",
       "    </tr>\n",
       "    <tr>\n",
       "      <th>47</th>\n",
       "      <td>62.0</td>\n",
       "      <td>5</td>\n",
       "    </tr>\n",
       "    <tr>\n",
       "      <th>48</th>\n",
       "      <td>63.0</td>\n",
       "      <td>7</td>\n",
       "    </tr>\n",
       "    <tr>\n",
       "      <th>49</th>\n",
       "      <td>65.0</td>\n",
       "      <td>2</td>\n",
       "    </tr>\n",
       "    <tr>\n",
       "      <th>50</th>\n",
       "      <td>66.0</td>\n",
       "      <td>1</td>\n",
       "    </tr>\n",
       "    <tr>\n",
       "      <th>51</th>\n",
       "      <td>67.0</td>\n",
       "      <td>1</td>\n",
       "    </tr>\n",
       "    <tr>\n",
       "      <th>52</th>\n",
       "      <td>69.0</td>\n",
       "      <td>1</td>\n",
       "    </tr>\n",
       "    <tr>\n",
       "      <th>53</th>\n",
       "      <td>71.0</td>\n",
       "      <td>2</td>\n",
       "    </tr>\n",
       "    <tr>\n",
       "      <th>54</th>\n",
       "      <td>72.0</td>\n",
       "      <td>1</td>\n",
       "    </tr>\n",
       "    <tr>\n",
       "      <th>55</th>\n",
       "      <td>99.0</td>\n",
       "      <td>1</td>\n",
       "    </tr>\n",
       "  </tbody>\n",
       "</table>\n",
       "</div>"
      ],
      "text/plain": [
       "     Age  count\n",
       "0    NaN    287\n",
       "1   16.0      3\n",
       "2   17.0      6\n",
       "3   18.0     29\n",
       "4   19.0     78\n",
       "5   20.0    109\n",
       "6   21.0    203\n",
       "7   22.0    406\n",
       "8   23.0    581\n",
       "9   24.0    679\n",
       "10  25.0    738\n",
       "11  26.0    720\n",
       "12  27.0    724\n",
       "13  28.0    787\n",
       "14  29.0    697\n",
       "15  30.0    651\n",
       "16  31.0    531\n",
       "17  32.0    489\n",
       "18  33.0    483\n",
       "19  34.0    395\n",
       "20  35.0    393\n",
       "21  36.0    308\n",
       "22  37.0    280\n",
       "23  38.0    279\n",
       "24  39.0    232\n",
       "25  40.0    187\n",
       "26  41.0    136\n",
       "27  42.0    162\n",
       "28  43.0    100\n",
       "29  44.0     95\n",
       "30  45.0     85\n",
       "31  46.0     66\n",
       "32  47.0     68\n",
       "33  48.0     64\n",
       "34  49.0     66\n",
       "35  50.0     57\n",
       "36  51.0     29\n",
       "37  52.0     41\n",
       "38  53.0     32\n",
       "39  54.0     26\n",
       "40  55.0     13\n",
       "41  56.0     16\n",
       "42  57.0     11\n",
       "43  58.0     12\n",
       "44  59.0     11\n",
       "45  60.0      2\n",
       "46  61.0     10\n",
       "47  62.0      5\n",
       "48  63.0      7\n",
       "49  65.0      2\n",
       "50  66.0      1\n",
       "51  67.0      1\n",
       "52  69.0      1\n",
       "53  71.0      2\n",
       "54  72.0      1\n",
       "55  99.0      1"
      ]
     },
     "execution_count": 6,
     "metadata": {},
     "output_type": "execute_result"
    }
   ],
   "source": [
    "QUERY = \"\"\"\n",
    "SELECT Age,COUNT(*) as count\n",
    "FROM master\n",
    "group by age\n",
    "order by age\n",
    "\"\"\"\n",
    "pd.read_sql_query(QUERY,conn)"
   ]
  },
  {
   "cell_type": "markdown",
   "metadata": {},
   "source": [
    "## Demo: How to describe a table\n"
   ]
  },
  {
   "cell_type": "code",
   "execution_count": 7,
   "metadata": {},
   "outputs": [
    {
     "name": "stdout",
     "output_type": "stream",
     "text": [
      "CREATE TABLE \"master\" (\n",
      "\"index\" INTEGER,\n",
      "  \"Respondent\" INTEGER,\n",
      "  \"MainBranch\" TEXT,\n",
      "  \"Hobbyist\" TEXT,\n",
      "  \"OpenSourcer\" TEXT,\n",
      "  \"OpenSource\" TEXT,\n",
      "  \"Employment\" TEXT,\n",
      "  \"Country\" TEXT,\n",
      "  \"Student\" TEXT,\n",
      "  \"EdLevel\" TEXT,\n",
      "  \"UndergradMajor\" TEXT,\n",
      "  \"OrgSize\" TEXT,\n",
      "  \"YearsCode\" TEXT,\n",
      "  \"Age1stCode\" TEXT,\n",
      "  \"YearsCodePro\" TEXT,\n",
      "  \"CareerSat\" TEXT,\n",
      "  \"JobSat\" TEXT,\n",
      "  \"MgrIdiot\" TEXT,\n",
      "  \"MgrMoney\" TEXT,\n",
      "  \"MgrWant\" TEXT,\n",
      "  \"JobSeek\" TEXT,\n",
      "  \"LastHireDate\" TEXT,\n",
      "  \"FizzBuzz\" TEXT,\n",
      "  \"ResumeUpdate\" TEXT,\n",
      "  \"CurrencySymbol\" TEXT,\n",
      "  \"CurrencyDesc\" TEXT,\n",
      "  \"CompTotal\" REAL,\n",
      "  \"CompFreq\" TEXT,\n",
      "  \"ConvertedComp\" REAL,\n",
      "  \"WorkWeekHrs\" REAL,\n",
      "  \"WorkRemote\" TEXT,\n",
      "  \"WorkLoc\" TEXT,\n",
      "  \"ImpSyn\" TEXT,\n",
      "  \"CodeRev\" TEXT,\n",
      "  \"CodeRevHrs\" REAL,\n",
      "  \"UnitTests\" TEXT,\n",
      "  \"PurchaseHow\" TEXT,\n",
      "  \"PurchaseWhat\" TEXT,\n",
      "  \"OpSys\" TEXT,\n",
      "  \"BlockchainOrg\" TEXT,\n",
      "  \"BlockchainIs\" TEXT,\n",
      "  \"BetterLife\" TEXT,\n",
      "  \"ITperson\" TEXT,\n",
      "  \"OffOn\" TEXT,\n",
      "  \"SocialMedia\" TEXT,\n",
      "  \"Extraversion\" TEXT,\n",
      "  \"ScreenName\" TEXT,\n",
      "  \"SOVisit1st\" TEXT,\n",
      "  \"SOVisitFreq\" TEXT,\n",
      "  \"SOFindAnswer\" TEXT,\n",
      "  \"SOTimeSaved\" TEXT,\n",
      "  \"SOHowMuchTime\" TEXT,\n",
      "  \"SOAccount\" TEXT,\n",
      "  \"SOPartFreq\" TEXT,\n",
      "  \"SOJobs\" TEXT,\n",
      "  \"EntTeams\" TEXT,\n",
      "  \"SOComm\" TEXT,\n",
      "  \"WelcomeChange\" TEXT,\n",
      "  \"Age\" REAL,\n",
      "  \"Trans\" TEXT,\n",
      "  \"Dependents\" TEXT,\n",
      "  \"SurveyLength\" TEXT,\n",
      "  \"SurveyEase\" TEXT\n",
      ")\n"
     ]
    }
   ],
   "source": [
    "table_name = 'master'  # the table you wish to describe\n",
    "\n",
    "QUERY = \"\"\"\n",
    "SELECT sql FROM sqlite_master\n",
    "WHERE name= '{}'\n",
    "\"\"\".format(table_name)\n",
    "\n",
    "df = pd.read_sql_query(QUERY,conn)\n",
    "print(df.iat[0,0])"
   ]
  },
  {
   "cell_type": "markdown",
   "metadata": {},
   "source": [
    "# Hands-on Lab\n"
   ]
  },
  {
   "cell_type": "markdown",
   "metadata": {},
   "source": [
    "## Visualizing distribution of data\n"
   ]
  },
  {
   "cell_type": "markdown",
   "metadata": {},
   "source": [
    "### Histograms\n"
   ]
  },
  {
   "cell_type": "markdown",
   "metadata": {},
   "source": [
    "Plot a histogram of `ConvertedComp.`\n"
   ]
  },
  {
   "cell_type": "code",
   "execution_count": 6,
   "metadata": {},
   "outputs": [],
   "source": [
    "%load_ext sql"
   ]
  },
  {
   "cell_type": "code",
   "execution_count": 7,
   "metadata": {},
   "outputs": [],
   "source": [
    "%sql sqlite:///m4_survey_data.sqlite"
   ]
  },
  {
   "cell_type": "code",
   "execution_count": 33,
   "metadata": {},
   "outputs": [
    {
     "name": "stdout",
     "output_type": "stream",
     "text": [
      " * sqlite:///m4_survey_data.sqlite\n",
      "(sqlite3.OperationalError) no such column: TABNAME\n",
      "[SQL: select TABNAME from master]\n",
      "(Background on this error at: http://sqlalche.me/e/13/e3q8)\n"
     ]
    }
   ],
   "source": []
  },
  {
   "cell_type": "code",
   "execution_count": 8,
   "metadata": {},
   "outputs": [
    {
     "name": "stdout",
     "output_type": "stream",
     "text": [
      " * sqlite:///m4_survey_data.sqlite\n",
      "Done.\n"
     ]
    },
    {
     "data": {
      "text/html": [
       "<table>\n",
       "    <tr>\n",
       "        <th>index</th>\n",
       "        <th>Respondent</th>\n",
       "        <th>MainBranch</th>\n",
       "        <th>Hobbyist</th>\n",
       "        <th>OpenSourcer</th>\n",
       "        <th>OpenSource</th>\n",
       "        <th>Employment</th>\n",
       "        <th>Country</th>\n",
       "        <th>Student</th>\n",
       "        <th>EdLevel</th>\n",
       "        <th>UndergradMajor</th>\n",
       "        <th>OrgSize</th>\n",
       "        <th>YearsCode</th>\n",
       "        <th>Age1stCode</th>\n",
       "        <th>YearsCodePro</th>\n",
       "        <th>CareerSat</th>\n",
       "        <th>JobSat</th>\n",
       "        <th>MgrIdiot</th>\n",
       "        <th>MgrMoney</th>\n",
       "        <th>MgrWant</th>\n",
       "        <th>JobSeek</th>\n",
       "        <th>LastHireDate</th>\n",
       "        <th>FizzBuzz</th>\n",
       "        <th>ResumeUpdate</th>\n",
       "        <th>CurrencySymbol</th>\n",
       "        <th>CurrencyDesc</th>\n",
       "        <th>CompTotal</th>\n",
       "        <th>CompFreq</th>\n",
       "        <th>ConvertedComp</th>\n",
       "        <th>WorkWeekHrs</th>\n",
       "        <th>WorkRemote</th>\n",
       "        <th>WorkLoc</th>\n",
       "        <th>ImpSyn</th>\n",
       "        <th>CodeRev</th>\n",
       "        <th>CodeRevHrs</th>\n",
       "        <th>UnitTests</th>\n",
       "        <th>PurchaseHow</th>\n",
       "        <th>PurchaseWhat</th>\n",
       "        <th>OpSys</th>\n",
       "        <th>BlockchainOrg</th>\n",
       "        <th>BlockchainIs</th>\n",
       "        <th>BetterLife</th>\n",
       "        <th>ITperson</th>\n",
       "        <th>OffOn</th>\n",
       "        <th>SocialMedia</th>\n",
       "        <th>Extraversion</th>\n",
       "        <th>ScreenName</th>\n",
       "        <th>SOVisit1st</th>\n",
       "        <th>SOVisitFreq</th>\n",
       "        <th>SOFindAnswer</th>\n",
       "        <th>SOTimeSaved</th>\n",
       "        <th>SOHowMuchTime</th>\n",
       "        <th>SOAccount</th>\n",
       "        <th>SOPartFreq</th>\n",
       "        <th>SOJobs</th>\n",
       "        <th>EntTeams</th>\n",
       "        <th>SOComm</th>\n",
       "        <th>WelcomeChange</th>\n",
       "        <th>Age</th>\n",
       "        <th>Trans</th>\n",
       "        <th>Dependents</th>\n",
       "        <th>SurveyLength</th>\n",
       "        <th>SurveyEase</th>\n",
       "    </tr>\n",
       "    <tr>\n",
       "        <td>0</td>\n",
       "        <td>4</td>\n",
       "        <td>I am a developer by profession</td>\n",
       "        <td>No</td>\n",
       "        <td>Never</td>\n",
       "        <td>The quality of OSS and closed source software is about the same</td>\n",
       "        <td>Employed full-time</td>\n",
       "        <td>United States</td>\n",
       "        <td>No</td>\n",
       "        <td>Bachelor’s degree (BA, BS, B.Eng., etc.)</td>\n",
       "        <td>Computer science, computer engineering, or software engineering</td>\n",
       "        <td>100 to 499 employees</td>\n",
       "        <td>3</td>\n",
       "        <td>16</td>\n",
       "        <td>Less than 1 year</td>\n",
       "        <td>Very satisfied</td>\n",
       "        <td>Slightly satisfied</td>\n",
       "        <td>Very confident</td>\n",
       "        <td>No</td>\n",
       "        <td>Not sure</td>\n",
       "        <td>I am not interested in new job opportunities</td>\n",
       "        <td>Less than a year ago</td>\n",
       "        <td>No</td>\n",
       "        <td>I was preparing for a job search</td>\n",
       "        <td>USD</td>\n",
       "        <td>United States dollar</td>\n",
       "        <td>61000.0</td>\n",
       "        <td>Yearly</td>\n",
       "        <td>61000.0</td>\n",
       "        <td>80.0</td>\n",
       "        <td>Less than once per month / Never</td>\n",
       "        <td>Home</td>\n",
       "        <td>A little below average</td>\n",
       "        <td>No</td>\n",
       "        <td>None</td>\n",
       "        <td>No, but I think we should</td>\n",
       "        <td>Developers typically have the most influence on purchasing new technology</td>\n",
       "        <td>I have little or no influence</td>\n",
       "        <td>Windows</td>\n",
       "        <td>Not at all</td>\n",
       "        <td>Useful for decentralized currency (i.e., Bitcoin)</td>\n",
       "        <td>Yes</td>\n",
       "        <td>SIGH</td>\n",
       "        <td>Yes</td>\n",
       "        <td>Reddit</td>\n",
       "        <td>In real life (in person)</td>\n",
       "        <td>Username</td>\n",
       "        <td>2014</td>\n",
       "        <td>Daily or almost daily</td>\n",
       "        <td>1-2 times per week</td>\n",
       "        <td>Stack Overflow was much faster</td>\n",
       "        <td>31-60 minutes</td>\n",
       "        <td>Yes</td>\n",
       "        <td>Less than once per month or monthly</td>\n",
       "        <td>Yes</td>\n",
       "        <td>No, and I don&#x27;t know what those are</td>\n",
       "        <td>No, not really</td>\n",
       "        <td>Just as welcome now as I felt last year</td>\n",
       "        <td>22.0</td>\n",
       "        <td>No</td>\n",
       "        <td>No</td>\n",
       "        <td>Appropriate in length</td>\n",
       "        <td>Easy</td>\n",
       "    </tr>\n",
       "    <tr>\n",
       "        <td>1</td>\n",
       "        <td>9</td>\n",
       "        <td>I am a developer by profession</td>\n",
       "        <td>Yes</td>\n",
       "        <td>Once a month or more often</td>\n",
       "        <td>The quality of OSS and closed source software is about the same</td>\n",
       "        <td>Employed full-time</td>\n",
       "        <td>New Zealand</td>\n",
       "        <td>No</td>\n",
       "        <td>Some college/university study without earning a degree</td>\n",
       "        <td>Computer science, computer engineering, or software engineering</td>\n",
       "        <td>10 to 19 employees</td>\n",
       "        <td>12</td>\n",
       "        <td>11</td>\n",
       "        <td>4</td>\n",
       "        <td>Slightly satisfied</td>\n",
       "        <td>Slightly satisfied</td>\n",
       "        <td>Somewhat confident</td>\n",
       "        <td>No</td>\n",
       "        <td>Not sure</td>\n",
       "        <td>I’m not actively looking, but I am open to new opportunities</td>\n",
       "        <td>Less than a year ago</td>\n",
       "        <td>Yes</td>\n",
       "        <td>I was preparing for a job search</td>\n",
       "        <td>NZD</td>\n",
       "        <td>New Zealand dollar</td>\n",
       "        <td>138000.0</td>\n",
       "        <td>Yearly</td>\n",
       "        <td>95179.0</td>\n",
       "        <td>32.0</td>\n",
       "        <td>Less than once per month / Never</td>\n",
       "        <td>Office</td>\n",
       "        <td>A little above average</td>\n",
       "        <td>Yes, because I see value in code review</td>\n",
       "        <td>12.0</td>\n",
       "        <td>Yes, it&#x27;s not part of our process but the developers do it on their own</td>\n",
       "        <td>Not sure</td>\n",
       "        <td>I have some influence</td>\n",
       "        <td>MacOS</td>\n",
       "        <td>Not at all</td>\n",
       "        <td>An irresponsible use of resources</td>\n",
       "        <td>No</td>\n",
       "        <td>SIGH</td>\n",
       "        <td>Yes</td>\n",
       "        <td>Twitter</td>\n",
       "        <td>In real life (in person)</td>\n",
       "        <td>Username</td>\n",
       "        <td>2013</td>\n",
       "        <td>Daily or almost daily</td>\n",
       "        <td>3-5 times per week</td>\n",
       "        <td>They were about the same</td>\n",
       "        <td>None</td>\n",
       "        <td>Yes</td>\n",
       "        <td>Less than once per month or monthly</td>\n",
       "        <td>No, I knew that Stack Overflow had a job board but have never used or visited it</td>\n",
       "        <td>No, and I don&#x27;t know what those are</td>\n",
       "        <td>Yes, somewhat</td>\n",
       "        <td>Just as welcome now as I felt last year</td>\n",
       "        <td>23.0</td>\n",
       "        <td>No</td>\n",
       "        <td>No</td>\n",
       "        <td>Appropriate in length</td>\n",
       "        <td>Neither easy nor difficult</td>\n",
       "    </tr>\n",
       "    <tr>\n",
       "        <td>2</td>\n",
       "        <td>13</td>\n",
       "        <td>I am a developer by profession</td>\n",
       "        <td>Yes</td>\n",
       "        <td>Less than once a month but more than once per year</td>\n",
       "        <td>OSS is, on average, of HIGHER quality than proprietary / closed source software</td>\n",
       "        <td>Employed full-time</td>\n",
       "        <td>United States</td>\n",
       "        <td>No</td>\n",
       "        <td>Master’s degree (MA, MS, M.Eng., MBA, etc.)</td>\n",
       "        <td>Computer science, computer engineering, or software engineering</td>\n",
       "        <td>10 to 19 employees</td>\n",
       "        <td>17</td>\n",
       "        <td>11</td>\n",
       "        <td>8</td>\n",
       "        <td>Very satisfied</td>\n",
       "        <td>Very satisfied</td>\n",
       "        <td>None</td>\n",
       "        <td>None</td>\n",
       "        <td>None</td>\n",
       "        <td>I am not interested in new job opportunities</td>\n",
       "        <td>3-4 years ago</td>\n",
       "        <td>Yes</td>\n",
       "        <td>I was preparing for a job search</td>\n",
       "        <td>USD</td>\n",
       "        <td>United States dollar</td>\n",
       "        <td>90000.0</td>\n",
       "        <td>Yearly</td>\n",
       "        <td>90000.0</td>\n",
       "        <td>40.0</td>\n",
       "        <td>All or almost all the time (I&#x27;m full-time remote)</td>\n",
       "        <td>Home</td>\n",
       "        <td>A little above average</td>\n",
       "        <td>Yes, because I see value in code review</td>\n",
       "        <td>5.0</td>\n",
       "        <td>No, but I think we should</td>\n",
       "        <td>Developers and management have nearly equal input into purchasing new technology</td>\n",
       "        <td>I have a great deal of influence</td>\n",
       "        <td>Windows</td>\n",
       "        <td>Not at all</td>\n",
       "        <td>Useful for decentralized currency (i.e., Bitcoin)</td>\n",
       "        <td>Yes</td>\n",
       "        <td>Yes</td>\n",
       "        <td>Yes</td>\n",
       "        <td>Twitter</td>\n",
       "        <td>In real life (in person)</td>\n",
       "        <td>Username</td>\n",
       "        <td>2011</td>\n",
       "        <td>Multiple times per day</td>\n",
       "        <td>More than 10 times per week</td>\n",
       "        <td>Stack Overflow was much faster</td>\n",
       "        <td>11-30 minutes</td>\n",
       "        <td>Yes</td>\n",
       "        <td>Less than once per month or monthly</td>\n",
       "        <td>Yes</td>\n",
       "        <td>No, I&#x27;ve heard of them, but I am not part of a private Q&amp;A instance</td>\n",
       "        <td>Neutral</td>\n",
       "        <td>Somewhat more welcome now than last year</td>\n",
       "        <td>28.0</td>\n",
       "        <td>No</td>\n",
       "        <td>Yes</td>\n",
       "        <td>Appropriate in length</td>\n",
       "        <td>Easy</td>\n",
       "    </tr>\n",
       "    <tr>\n",
       "        <td>3</td>\n",
       "        <td>16</td>\n",
       "        <td>I am a developer by profession</td>\n",
       "        <td>Yes</td>\n",
       "        <td>Never</td>\n",
       "        <td>The quality of OSS and closed source software is about the same</td>\n",
       "        <td>Employed full-time</td>\n",
       "        <td>United Kingdom</td>\n",
       "        <td>No</td>\n",
       "        <td>Master’s degree (MA, MS, M.Eng., MBA, etc.)</td>\n",
       "        <td>None</td>\n",
       "        <td>100 to 499 employees</td>\n",
       "        <td>10</td>\n",
       "        <td>17</td>\n",
       "        <td>3</td>\n",
       "        <td>Very satisfied</td>\n",
       "        <td>Slightly satisfied</td>\n",
       "        <td>Somewhat confident</td>\n",
       "        <td>No</td>\n",
       "        <td>No</td>\n",
       "        <td>I’m not actively looking, but I am open to new opportunities</td>\n",
       "        <td>3-4 years ago</td>\n",
       "        <td>Yes</td>\n",
       "        <td>I heard about a job opportunity (from a recruiter, online job posting, etc.)</td>\n",
       "        <td>GBP</td>\n",
       "        <td>Pound sterling</td>\n",
       "        <td>29000.0</td>\n",
       "        <td>Monthly</td>\n",
       "        <td>455352.0</td>\n",
       "        <td>40.0</td>\n",
       "        <td>A few days each month</td>\n",
       "        <td>Home</td>\n",
       "        <td>Average</td>\n",
       "        <td>No</td>\n",
       "        <td>None</td>\n",
       "        <td>No, but I think we should</td>\n",
       "        <td>Developers and management have nearly equal input into purchasing new technology</td>\n",
       "        <td>I have some influence</td>\n",
       "        <td>Windows</td>\n",
       "        <td>Not at all</td>\n",
       "        <td>A passing fad</td>\n",
       "        <td>No</td>\n",
       "        <td>SIGH</td>\n",
       "        <td>No</td>\n",
       "        <td>YouTube</td>\n",
       "        <td>Online</td>\n",
       "        <td>Username</td>\n",
       "        <td>2010</td>\n",
       "        <td>Multiple times per day</td>\n",
       "        <td>Less than once per week</td>\n",
       "        <td>Stack Overflow was much faster</td>\n",
       "        <td>11-30 minutes</td>\n",
       "        <td>Yes</td>\n",
       "        <td>Less than once per month or monthly</td>\n",
       "        <td>Yes</td>\n",
       "        <td>No, I&#x27;ve heard of them, but I am not part of a private Q&amp;A instance</td>\n",
       "        <td>Yes, somewhat</td>\n",
       "        <td>Just as welcome now as I felt last year</td>\n",
       "        <td>26.0</td>\n",
       "        <td>No</td>\n",
       "        <td>No</td>\n",
       "        <td>Appropriate in length</td>\n",
       "        <td>Neither easy nor difficult</td>\n",
       "    </tr>\n",
       "    <tr>\n",
       "        <td>4</td>\n",
       "        <td>17</td>\n",
       "        <td>I am a developer by profession</td>\n",
       "        <td>Yes</td>\n",
       "        <td>Less than once a month but more than once per year</td>\n",
       "        <td>The quality of OSS and closed source software is about the same</td>\n",
       "        <td>Employed full-time</td>\n",
       "        <td>Australia</td>\n",
       "        <td>No</td>\n",
       "        <td>Bachelor’s degree (BA, BS, B.Eng., etc.)</td>\n",
       "        <td>Computer science, computer engineering, or software engineering</td>\n",
       "        <td>20 to 99 employees</td>\n",
       "        <td>5</td>\n",
       "        <td>18</td>\n",
       "        <td>2</td>\n",
       "        <td>Slightly satisfied</td>\n",
       "        <td>Neither satisfied nor dissatisfied</td>\n",
       "        <td>Somewhat confident</td>\n",
       "        <td>No</td>\n",
       "        <td>No</td>\n",
       "        <td>I am actively looking for a job</td>\n",
       "        <td>Less than a year ago</td>\n",
       "        <td>No</td>\n",
       "        <td>I was preparing for a job search</td>\n",
       "        <td>AUD</td>\n",
       "        <td>Australian dollar</td>\n",
       "        <td>90000.0</td>\n",
       "        <td>Yearly</td>\n",
       "        <td>65277.0</td>\n",
       "        <td>45.0</td>\n",
       "        <td>A few days each month</td>\n",
       "        <td>Other place, such as a coworking space or cafe</td>\n",
       "        <td>A little above average</td>\n",
       "        <td>Yes, because I see value in code review</td>\n",
       "        <td>5.0</td>\n",
       "        <td>Yes, it&#x27;s part of our process</td>\n",
       "        <td>Developers typically have the most influence on purchasing new technology</td>\n",
       "        <td>I have little or no influence</td>\n",
       "        <td>Linux-based</td>\n",
       "        <td>Not at all</td>\n",
       "        <td>A passing fad</td>\n",
       "        <td>Yes</td>\n",
       "        <td>Fortunately, someone else has that title</td>\n",
       "        <td>What?</td>\n",
       "        <td>YouTube</td>\n",
       "        <td>In real life (in person)</td>\n",
       "        <td>None</td>\n",
       "        <td>2014</td>\n",
       "        <td>Daily or almost daily</td>\n",
       "        <td>6-10 times per week</td>\n",
       "        <td>Stack Overflow was slightly faster</td>\n",
       "        <td>0-10 minutes</td>\n",
       "        <td>Yes</td>\n",
       "        <td>A few times per week</td>\n",
       "        <td>No, I didn&#x27;t know that Stack Overflow had a job board</td>\n",
       "        <td>No, I&#x27;ve heard of them, but I am not part of a private Q&amp;A instance</td>\n",
       "        <td>Yes, somewhat</td>\n",
       "        <td>Just as welcome now as I felt last year</td>\n",
       "        <td>29.0</td>\n",
       "        <td>No</td>\n",
       "        <td>No</td>\n",
       "        <td>Appropriate in length</td>\n",
       "        <td>Easy</td>\n",
       "    </tr>\n",
       "</table>"
      ],
      "text/plain": [
       "[(0, 4, 'I am a developer by profession', 'No', 'Never', 'The quality of OSS and closed source software is about the same', 'Employed full-time', 'United States', 'No', 'Bachelor’s degree (BA, BS, B.Eng., etc.)', 'Computer science, computer engineering, or software engineering', '100 to 499 employees', '3', '16', 'Less than 1 year', 'Very satisfied', 'Slightly satisfied', 'Very confident', 'No', 'Not sure', 'I am not interested in new job opportunities', 'Less than a year ago', 'No', 'I was preparing for a job search', 'USD', 'United States dollar', 61000.0, 'Yearly', 61000.0, 80.0, 'Less than once per month / Never', 'Home', 'A little below average', 'No', None, 'No, but I think we should', 'Developers typically have the most influence on purchasing new technology', 'I have little or no influence', 'Windows', 'Not at all', 'Useful for decentralized currency (i.e., Bitcoin)', 'Yes', 'SIGH', 'Yes', 'Reddit', 'In real life (in person)', 'Username', '2014', 'Daily or almost daily', '1-2 times per week', 'Stack Overflow was much faster', '31-60 minutes', 'Yes', 'Less than once per month or monthly', 'Yes', \"No, and I don't know what those are\", 'No, not really', 'Just as welcome now as I felt last year', 22.0, 'No', 'No', 'Appropriate in length', 'Easy'),\n",
       " (1, 9, 'I am a developer by profession', 'Yes', 'Once a month or more often', 'The quality of OSS and closed source software is about the same', 'Employed full-time', 'New Zealand', 'No', 'Some college/university study without earning a degree', 'Computer science, computer engineering, or software engineering', '10 to 19 employees', '12', '11', '4', 'Slightly satisfied', 'Slightly satisfied', 'Somewhat confident', 'No', 'Not sure', 'I’m not actively looking, but I am open to new opportunities', 'Less than a year ago', 'Yes', 'I was preparing for a job search', 'NZD', 'New Zealand dollar', 138000.0, 'Yearly', 95179.0, 32.0, 'Less than once per month / Never', 'Office', 'A little above average', 'Yes, because I see value in code review', 12.0, \"Yes, it's not part of our process but the developers do it on their own\", 'Not sure', 'I have some influence', 'MacOS', 'Not at all', 'An irresponsible use of resources', 'No', 'SIGH', 'Yes', 'Twitter', 'In real life (in person)', 'Username', '2013', 'Daily or almost daily', '3-5 times per week', 'They were about the same', None, 'Yes', 'Less than once per month or monthly', 'No, I knew that Stack Overflow had a job board but have never used or visited it', \"No, and I don't know what those are\", 'Yes, somewhat', 'Just as welcome now as I felt last year', 23.0, 'No', 'No', 'Appropriate in length', 'Neither easy nor difficult'),\n",
       " (2, 13, 'I am a developer by profession', 'Yes', 'Less than once a month but more than once per year', 'OSS is, on average, of HIGHER quality than proprietary / closed source software', 'Employed full-time', 'United States', 'No', 'Master’s degree (MA, MS, M.Eng., MBA, etc.)', 'Computer science, computer engineering, or software engineering', '10 to 19 employees', '17', '11', '8', 'Very satisfied', 'Very satisfied', None, None, None, 'I am not interested in new job opportunities', '3-4 years ago', 'Yes', 'I was preparing for a job search', 'USD', 'United States dollar', 90000.0, 'Yearly', 90000.0, 40.0, \"All or almost all the time (I'm full-time remote)\", 'Home', 'A little above average', 'Yes, because I see value in code review', 5.0, 'No, but I think we should', 'Developers and management have nearly equal input into purchasing new technology', 'I have a great deal of influence', 'Windows', 'Not at all', 'Useful for decentralized currency (i.e., Bitcoin)', 'Yes', 'Yes', 'Yes', 'Twitter', 'In real life (in person)', 'Username', '2011', 'Multiple times per day', 'More than 10 times per week', 'Stack Overflow was much faster', '11-30 minutes', 'Yes', 'Less than once per month or monthly', 'Yes', \"No, I've heard of them, but I am not part of a private Q&A instance\", 'Neutral', 'Somewhat more welcome now than last year', 28.0, 'No', 'Yes', 'Appropriate in length', 'Easy'),\n",
       " (3, 16, 'I am a developer by profession', 'Yes', 'Never', 'The quality of OSS and closed source software is about the same', 'Employed full-time', 'United Kingdom', 'No', 'Master’s degree (MA, MS, M.Eng., MBA, etc.)', None, '100 to 499 employees', '10', '17', '3', 'Very satisfied', 'Slightly satisfied', 'Somewhat confident', 'No', 'No', 'I’m not actively looking, but I am open to new opportunities', '3-4 years ago', 'Yes', 'I heard about a job opportunity (from a recruiter, online job posting, etc.)', 'GBP', 'Pound sterling', 29000.0, 'Monthly', 455352.0, 40.0, 'A few days each month', 'Home', 'Average', 'No', None, 'No, but I think we should', 'Developers and management have nearly equal input into purchasing new technology', 'I have some influence', 'Windows', 'Not at all', 'A passing fad', 'No', 'SIGH', 'No', 'YouTube', 'Online', 'Username', '2010', 'Multiple times per day', 'Less than once per week', 'Stack Overflow was much faster', '11-30 minutes', 'Yes', 'Less than once per month or monthly', 'Yes', \"No, I've heard of them, but I am not part of a private Q&A instance\", 'Yes, somewhat', 'Just as welcome now as I felt last year', 26.0, 'No', 'No', 'Appropriate in length', 'Neither easy nor difficult'),\n",
       " (4, 17, 'I am a developer by profession', 'Yes', 'Less than once a month but more than once per year', 'The quality of OSS and closed source software is about the same', 'Employed full-time', 'Australia', 'No', 'Bachelor’s degree (BA, BS, B.Eng., etc.)', 'Computer science, computer engineering, or software engineering', '20 to 99 employees', '5', '18', '2', 'Slightly satisfied', 'Neither satisfied nor dissatisfied', 'Somewhat confident', 'No', 'No', 'I am actively looking for a job', 'Less than a year ago', 'No', 'I was preparing for a job search', 'AUD', 'Australian dollar', 90000.0, 'Yearly', 65277.0, 45.0, 'A few days each month', 'Other place, such as a coworking space or cafe', 'A little above average', 'Yes, because I see value in code review', 5.0, \"Yes, it's part of our process\", 'Developers typically have the most influence on purchasing new technology', 'I have little or no influence', 'Linux-based', 'Not at all', 'A passing fad', 'Yes', 'Fortunately, someone else has that title', 'What?', 'YouTube', 'In real life (in person)', None, '2014', 'Daily or almost daily', '6-10 times per week', 'Stack Overflow was slightly faster', '0-10 minutes', 'Yes', 'A few times per week', \"No, I didn't know that Stack Overflow had a job board\", \"No, I've heard of them, but I am not part of a private Q&A instance\", 'Yes, somewhat', 'Just as welcome now as I felt last year', 29.0, 'No', 'No', 'Appropriate in length', 'Easy')]"
      ]
     },
     "execution_count": 8,
     "metadata": {},
     "output_type": "execute_result"
    }
   ],
   "source": [
    "%sql select * from master limit 5 "
   ]
  },
  {
   "cell_type": "code",
   "execution_count": 10,
   "metadata": {},
   "outputs": [
    {
     "name": "stdout",
     "output_type": "stream",
     "text": [
      " * sqlite:///m4_survey_data.sqlite\n",
      "Done.\n",
      " * sqlite:///m4_survey_data.sqlite\n",
      "Done.\n"
     ]
    }
   ],
   "source": [
    "%sql select count(*) from master\n",
    "df=%sql select * from master "
   ]
  },
  {
   "cell_type": "code",
   "execution_count": 13,
   "metadata": {},
   "outputs": [
    {
     "ename": "AttributeError",
     "evalue": "'ResultSet' object has no attribute 'head'",
     "output_type": "error",
     "traceback": [
      "\u001b[0;31m---------------------------------------------------------------------------\u001b[0m",
      "\u001b[0;31mAttributeError\u001b[0m                            Traceback (most recent call last)",
      "Input \u001b[0;32mIn [13]\u001b[0m, in \u001b[0;36m<cell line: 1>\u001b[0;34m()\u001b[0m\n\u001b[0;32m----> 1\u001b[0m \u001b[43mdf\u001b[49m\u001b[38;5;241;43m.\u001b[39;49m\u001b[43mhead\u001b[49m()\n",
      "\u001b[0;31mAttributeError\u001b[0m: 'ResultSet' object has no attribute 'head'"
     ]
    }
   ],
   "source": []
  },
  {
   "cell_type": "code",
   "execution_count": 17,
   "metadata": {},
   "outputs": [],
   "source": [
    "import numpy as np  \n",
    "import pandas as pd \n",
    "df=df.DataFrame()"
   ]
  },
  {
   "cell_type": "code",
   "execution_count": 15,
   "metadata": {},
   "outputs": [],
   "source": [
    "# your code goes here\n",
    "%matplotlib inline\n",
    "\n",
    "import matplotlib as mpl\n",
    "import matplotlib.pyplot as plt\n",
    "mpl.style.use('classic') "
   ]
  },
  {
   "cell_type": "markdown",
   "metadata": {},
   "source": [
    "### Box Plots\n"
   ]
  },
  {
   "cell_type": "markdown",
   "metadata": {},
   "source": [
    "Plot a box plot of `Age.`\n"
   ]
  },
  {
   "cell_type": "code",
   "execution_count": 169,
   "metadata": {},
   "outputs": [
    {
     "data": {
      "text/plain": [
       "Text(0.5, 0, 'Age')"
      ]
     },
     "execution_count": 169,
     "metadata": {},
     "output_type": "execute_result"
    },
    {
     "data": {
      "image/png": "[encoded data removed]",
      "text/plain": [
       "<Figure size 640x400 with 1 Axes>"
      ]
     },
     "metadata": {},
     "output_type": "display_data"
    }
   ],
   "source": [
    "# your code goes here\n",
    "df.Age.plot(kind='box',figsize=(8,5))\n",
    "plt.title('Histogram of Age' )\n",
    "plt.ylabel('Frequency')\n",
    "plt.xlabel('Age')"
   ]
  },
  {
   "cell_type": "markdown",
   "metadata": {},
   "source": [
    "## Visualizing relationships in data\n"
   ]
  },
  {
   "cell_type": "markdown",
   "metadata": {},
   "source": [
    "### Scatter Plots\n"
   ]
  },
  {
   "cell_type": "markdown",
   "metadata": {},
   "source": [
    "Create a scatter plot of `Age` and `WorkWeekHrs.`\n"
   ]
  },
  {
   "cell_type": "code",
   "execution_count": 26,
   "metadata": {},
   "outputs": [
    {
     "data": {
      "text/plain": [
       "Text(0.5, 1.0, 'Age over WorkWeekHrs')"
      ]
     },
     "execution_count": 26,
     "metadata": {},
     "output_type": "execute_result"
    },
    {
     "data": {
      "image/png": "[encoded data removed]",
      "text/plain": [
       "<Figure size 800x480 with 1 Axes>"
      ]
     },
     "metadata": {},
     "output_type": "display_data"
    }
   ],
   "source": [
    "# your code goes here\n",
    "df.plot(kind='scatter',x='Age',y='WorkWeekHrs',figsize=(10, 6), color='darkblue')\n",
    "plt.title('Age over WorkWeekHrs')\n"
   ]
  },
  {
   "cell_type": "markdown",
   "metadata": {},
   "source": [
    "### Bubble Plots\n"
   ]
  },
  {
   "cell_type": "markdown",
   "metadata": {},
   "source": [
    "Create a bubble plot of `WorkWeekHrs` and `CodeRevHrs`, use `Age` column as bubble size.\n"
   ]
  },
  {
   "cell_type": "code",
   "execution_count": 29,
   "metadata": {},
   "outputs": [
    {
     "data": {
      "text/plain": [
       "<AxesSubplot:xlabel='WorkWeekHrs', ylabel='CodeRevHrs'>"
      ]
     },
     "execution_count": 29,
     "metadata": {},
     "output_type": "execute_result"
    },
    {
     "data": {
      "image/png": "[encoded data removed]",
      "text/plain": [
       "<Figure size 800x720 with 1 Axes>"
      ]
     },
     "metadata": {},
     "output_type": "display_data"
    }
   ],
   "source": [
    "# your code goes here\n",
    "normalized_Age=(df.Age-df.Age.min())/(df.Age.max()-df.Age.min())\n",
    "\n",
    "df.plot(kind='scatter',x='WorkWeekHrs',y='CodeRevHrs',\n",
    "       figsize=(10,9),alpha=0.5,s=normalized_Age*2000+10)"
   ]
  },
  {
   "cell_type": "markdown",
   "metadata": {},
   "source": [
    "## Visualizing composition of data\n"
   ]
  },
  {
   "cell_type": "markdown",
   "metadata": {},
   "source": [
    "### Pie Charts\n"
   ]
  },
  {
   "cell_type": "markdown",
   "metadata": {},
   "source": [
    "Create a pie chart of the top 5 databases that respondents wish to learn next year. Label the pie chart with database names. Display percentages of each database on the pie chart.\n"
   ]
  },
  {
   "cell_type": "code",
   "execution_count": 174,
   "metadata": {},
   "outputs": [
    {
     "name": "stdout",
     "output_type": "stream",
     "text": [
      " * sqlite:///m4_survey_data.sqlite\n",
      "Done.\n"
     ]
    },
    {
     "data": {
      "text/plain": [
       "<matplotlib.legend.Legend at 0x7fa8ac876c40>"
      ]
     },
     "execution_count": 174,
     "metadata": {},
     "output_type": "execute_result"
    },
    {
     "data": {
      "image/png": "[encoded data removed]",
      "text/plain": [
       "<Figure size 1200x480 with 1 Axes>"
      ]
     },
     "metadata": {},
     "output_type": "display_data"
    }
   ],
   "source": [
    "# your code goes here\n",
    "df_database=%sql select DatabaseDesireNextYear,count(*) as count from DatabaseDesireNextYear group by\\\n",
    "DatabaseDesireNextYear order by count desc limit 5\n",
    "df_database=df_database.DataFrame()\n",
    "df_database.set_index('DatabaseDesireNextYear',inplace=True)\n",
    "df_database\n",
    "colors_list = ['gold', 'yellowgreen', 'lightcoral', 'lightskyblue', 'lightgreen', 'pink']\n",
    "df_database['count'].plot(kind='pie',figsize=(15, 6),autopct='%1.1f%%',\n",
    "                 startangle=90,shadow=True)\n",
    "plt.legend(labels=df_database.index,loc='upper left',prop={'size': 6})"
   ]
  },
  {
   "cell_type": "code",
   "execution_count": 177,
   "metadata": {},
   "outputs": [
    {
     "name": "stdout",
     "output_type": "stream",
     "text": [
      " * sqlite:///m4_survey_data.sqlite\n",
      "Done.\n"
     ]
    }
   ],
   "source": [
    "language_database=%sql select LanguageDesireNextYear,count(*) as count from LanguageDesireNextYear group by \\\n",
    "LanguageDesireNextYear order by count desc\n"
   ]
  },
  {
   "cell_type": "code",
   "execution_count": 183,
   "metadata": {},
   "outputs": [
    {
     "data": {
      "text/html": [
       "<div>\n",
       "<style scoped>\n",
       "    .dataframe tbody tr th:only-of-type {\n",
       "        vertical-align: middle;\n",
       "    }\n",
       "\n",
       "    .dataframe tbody tr th {\n",
       "        vertical-align: top;\n",
       "    }\n",
       "\n",
       "    .dataframe thead th {\n",
       "        text-align: right;\n",
       "    }\n",
       "</style>\n",
       "<table border=\"1\" class=\"dataframe\">\n",
       "  <thead>\n",
       "    <tr style=\"text-align: right;\">\n",
       "      <th></th>\n",
       "      <th>index</th>\n",
       "      <th>LanguageDesireNextYear</th>\n",
       "      <th>count</th>\n",
       "    </tr>\n",
       "  </thead>\n",
       "  <tbody>\n",
       "    <tr>\n",
       "      <th>0</th>\n",
       "      <td>0</td>\n",
       "      <td>JavaScript</td>\n",
       "      <td>6630</td>\n",
       "    </tr>\n",
       "    <tr>\n",
       "      <th>1</th>\n",
       "      <td>1</td>\n",
       "      <td>HTML/CSS</td>\n",
       "      <td>5328</td>\n",
       "    </tr>\n",
       "    <tr>\n",
       "      <th>2</th>\n",
       "      <td>2</td>\n",
       "      <td>Python</td>\n",
       "      <td>5239</td>\n",
       "    </tr>\n",
       "    <tr>\n",
       "      <th>3</th>\n",
       "      <td>3</td>\n",
       "      <td>SQL</td>\n",
       "      <td>5012</td>\n",
       "    </tr>\n",
       "    <tr>\n",
       "      <th>4</th>\n",
       "      <td>4</td>\n",
       "      <td>TypeScript</td>\n",
       "      <td>4088</td>\n",
       "    </tr>\n",
       "    <tr>\n",
       "      <th>5</th>\n",
       "      <td>5</td>\n",
       "      <td>C#</td>\n",
       "      <td>3591</td>\n",
       "    </tr>\n",
       "    <tr>\n",
       "      <th>6</th>\n",
       "      <td>6</td>\n",
       "      <td>Bash/Shell/PowerShell</td>\n",
       "      <td>3097</td>\n",
       "    </tr>\n",
       "    <tr>\n",
       "      <th>7</th>\n",
       "      <td>7</td>\n",
       "      <td>Java</td>\n",
       "      <td>2953</td>\n",
       "    </tr>\n",
       "    <tr>\n",
       "      <th>8</th>\n",
       "      <td>8</td>\n",
       "      <td>Go</td>\n",
       "      <td>2759</td>\n",
       "    </tr>\n",
       "    <tr>\n",
       "      <th>9</th>\n",
       "      <td>9</td>\n",
       "      <td>Kotlin</td>\n",
       "      <td>1890</td>\n",
       "    </tr>\n",
       "    <tr>\n",
       "      <th>10</th>\n",
       "      <td>10</td>\n",
       "      <td>C++</td>\n",
       "      <td>1633</td>\n",
       "    </tr>\n",
       "    <tr>\n",
       "      <th>11</th>\n",
       "      <td>11</td>\n",
       "      <td>Rust</td>\n",
       "      <td>1520</td>\n",
       "    </tr>\n",
       "    <tr>\n",
       "      <th>12</th>\n",
       "      <td>12</td>\n",
       "      <td>PHP</td>\n",
       "      <td>1457</td>\n",
       "    </tr>\n",
       "    <tr>\n",
       "      <th>13</th>\n",
       "      <td>13</td>\n",
       "      <td>WebAssembly</td>\n",
       "      <td>1397</td>\n",
       "    </tr>\n",
       "    <tr>\n",
       "      <th>14</th>\n",
       "      <td>14</td>\n",
       "      <td>Swift</td>\n",
       "      <td>1179</td>\n",
       "    </tr>\n",
       "    <tr>\n",
       "      <th>15</th>\n",
       "      <td>15</td>\n",
       "      <td>Ruby</td>\n",
       "      <td>1029</td>\n",
       "    </tr>\n",
       "    <tr>\n",
       "      <th>16</th>\n",
       "      <td>16</td>\n",
       "      <td>C</td>\n",
       "      <td>1028</td>\n",
       "    </tr>\n",
       "    <tr>\n",
       "      <th>17</th>\n",
       "      <td>17</td>\n",
       "      <td>Scala</td>\n",
       "      <td>879</td>\n",
       "    </tr>\n",
       "    <tr>\n",
       "      <th>18</th>\n",
       "      <td>18</td>\n",
       "      <td>R</td>\n",
       "      <td>850</td>\n",
       "    </tr>\n",
       "    <tr>\n",
       "      <th>19</th>\n",
       "      <td>19</td>\n",
       "      <td>Other(s):</td>\n",
       "      <td>836</td>\n",
       "    </tr>\n",
       "    <tr>\n",
       "      <th>20</th>\n",
       "      <td>20</td>\n",
       "      <td>F#</td>\n",
       "      <td>621</td>\n",
       "    </tr>\n",
       "    <tr>\n",
       "      <th>21</th>\n",
       "      <td>21</td>\n",
       "      <td>Elixir</td>\n",
       "      <td>620</td>\n",
       "    </tr>\n",
       "    <tr>\n",
       "      <th>22</th>\n",
       "      <td>22</td>\n",
       "      <td>Dart</td>\n",
       "      <td>610</td>\n",
       "    </tr>\n",
       "    <tr>\n",
       "      <th>23</th>\n",
       "      <td>23</td>\n",
       "      <td>Clojure</td>\n",
       "      <td>413</td>\n",
       "    </tr>\n",
       "    <tr>\n",
       "      <th>24</th>\n",
       "      <td>24</td>\n",
       "      <td>Assembly</td>\n",
       "      <td>336</td>\n",
       "    </tr>\n",
       "    <tr>\n",
       "      <th>25</th>\n",
       "      <td>25</td>\n",
       "      <td>Objective-C</td>\n",
       "      <td>310</td>\n",
       "    </tr>\n",
       "    <tr>\n",
       "      <th>26</th>\n",
       "      <td>26</td>\n",
       "      <td>Erlang</td>\n",
       "      <td>310</td>\n",
       "    </tr>\n",
       "    <tr>\n",
       "      <th>27</th>\n",
       "      <td>27</td>\n",
       "      <td>VBA</td>\n",
       "      <td>149</td>\n",
       "    </tr>\n",
       "  </tbody>\n",
       "</table>\n",
       "</div>"
      ],
      "text/plain": [
       "    index LanguageDesireNextYear  count\n",
       "0       0             JavaScript   6630\n",
       "1       1               HTML/CSS   5328\n",
       "2       2                 Python   5239\n",
       "3       3                    SQL   5012\n",
       "4       4             TypeScript   4088\n",
       "5       5                     C#   3591\n",
       "6       6  Bash/Shell/PowerShell   3097\n",
       "7       7                   Java   2953\n",
       "8       8                     Go   2759\n",
       "9       9                 Kotlin   1890\n",
       "10     10                    C++   1633\n",
       "11     11                   Rust   1520\n",
       "12     12                    PHP   1457\n",
       "13     13            WebAssembly   1397\n",
       "14     14                  Swift   1179\n",
       "15     15                   Ruby   1029\n",
       "16     16                      C   1028\n",
       "17     17                  Scala    879\n",
       "18     18                      R    850\n",
       "19     19              Other(s):    836\n",
       "20     20                     F#    621\n",
       "21     21                 Elixir    620\n",
       "22     22                   Dart    610\n",
       "23     23                Clojure    413\n",
       "24     24               Assembly    336\n",
       "25     25            Objective-C    310\n",
       "26     26                 Erlang    310\n",
       "27     27                    VBA    149"
      ]
     },
     "execution_count": 183,
     "metadata": {},
     "output_type": "execute_result"
    }
   ],
   "source": [
    "\n",
    "language_database"
   ]
  },
  {
   "cell_type": "code",
   "execution_count": 186,
   "metadata": {},
   "outputs": [
    {
     "name": "stdout",
     "output_type": "stream",
     "text": [
      " * sqlite:///m4_survey_data.sqlite\n",
      "Done.\n"
     ]
    }
   ],
   "source": [
    "current_db_dataset=%sql select DatabaseWorkedWith,count(*) as count from DatabaseWorkedWith group by DatabaseWorkedWith \\\n",
    "order by count "
   ]
  },
  {
   "cell_type": "code",
   "execution_count": 187,
   "metadata": {},
   "outputs": [
    {
     "data": {
      "text/html": [
       "<table>\n",
       "    <tr>\n",
       "        <th>DatabaseWorkedWith</th>\n",
       "        <th>count</th>\n",
       "    </tr>\n",
       "    <tr>\n",
       "        <td>Couchbase</td>\n",
       "        <td>250</td>\n",
       "    </tr>\n",
       "    <tr>\n",
       "        <td>Cassandra</td>\n",
       "        <td>397</td>\n",
       "    </tr>\n",
       "    <tr>\n",
       "        <td>Other(s):</td>\n",
       "        <td>728</td>\n",
       "    </tr>\n",
       "    <tr>\n",
       "        <td>DynamoDB</td>\n",
       "        <td>831</td>\n",
       "    </tr>\n",
       "    <tr>\n",
       "        <td>Firebase</td>\n",
       "        <td>1314</td>\n",
       "    </tr>\n",
       "    <tr>\n",
       "        <td>MariaDB</td>\n",
       "        <td>1709</td>\n",
       "    </tr>\n",
       "    <tr>\n",
       "        <td>Oracle</td>\n",
       "        <td>1744</td>\n",
       "    </tr>\n",
       "    <tr>\n",
       "        <td>Elasticsearch</td>\n",
       "        <td>1954</td>\n",
       "    </tr>\n",
       "    <tr>\n",
       "        <td>Redis</td>\n",
       "        <td>2508</td>\n",
       "    </tr>\n",
       "    <tr>\n",
       "        <td>MongoDB</td>\n",
       "        <td>3016</td>\n",
       "    </tr>\n",
       "    <tr>\n",
       "        <td>SQLite</td>\n",
       "        <td>3248</td>\n",
       "    </tr>\n",
       "    <tr>\n",
       "        <td>PostgreSQL</td>\n",
       "        <td>4097</td>\n",
       "    </tr>\n",
       "    <tr>\n",
       "        <td>Microsoft SQL Server</td>\n",
       "        <td>4110</td>\n",
       "    </tr>\n",
       "    <tr>\n",
       "        <td>MySQL</td>\n",
       "        <td>5469</td>\n",
       "    </tr>\n",
       "</table>"
      ],
      "text/plain": [
       "[('Couchbase', 250),\n",
       " ('Cassandra', 397),\n",
       " ('Other(s):', 728),\n",
       " ('DynamoDB', 831),\n",
       " ('Firebase', 1314),\n",
       " ('MariaDB', 1709),\n",
       " ('Oracle', 1744),\n",
       " ('Elasticsearch', 1954),\n",
       " ('Redis', 2508),\n",
       " ('MongoDB', 3016),\n",
       " ('SQLite', 3248),\n",
       " ('PostgreSQL', 4097),\n",
       " ('Microsoft SQL Server', 4110),\n",
       " ('MySQL', 5469)]"
      ]
     },
     "execution_count": 187,
     "metadata": {},
     "output_type": "execute_result"
    }
   ],
   "source": [
    "current_db_dataset"
   ]
  },
  {
   "cell_type": "code",
   "execution_count": 190,
   "metadata": {},
   "outputs": [
    {
     "name": "stdout",
     "output_type": "stream",
     "text": [
      " * sqlite:///m4_survey_data.sqlite\n",
      "Done.\n"
     ]
    },
    {
     "data": {
      "text/html": [
       "<table>\n",
       "    <tr>\n",
       "        <th>LanguageWorkedWith</th>\n",
       "        <th>count</th>\n",
       "    </tr>\n",
       "    <tr>\n",
       "        <td>Erlang</td>\n",
       "        <td>98</td>\n",
       "    </tr>\n",
       "    <tr>\n",
       "        <td>WebAssembly</td>\n",
       "        <td>133</td>\n",
       "    </tr>\n",
       "    <tr>\n",
       "        <td>F#</td>\n",
       "        <td>158</td>\n",
       "    </tr>\n",
       "    <tr>\n",
       "        <td>Clojure</td>\n",
       "        <td>164</td>\n",
       "    </tr>\n",
       "    <tr>\n",
       "        <td>Elixir</td>\n",
       "        <td>187</td>\n",
       "    </tr>\n",
       "    <tr>\n",
       "        <td>Dart</td>\n",
       "        <td>237</td>\n",
       "    </tr>\n",
       "    <tr>\n",
       "        <td>Rust</td>\n",
       "        <td>324</td>\n",
       "    </tr>\n",
       "    <tr>\n",
       "        <td>Assembly</td>\n",
       "        <td>437</td>\n",
       "    </tr>\n",
       "    <tr>\n",
       "        <td>Scala</td>\n",
       "        <td>492</td>\n",
       "    </tr>\n",
       "    <tr>\n",
       "        <td>Objective-C</td>\n",
       "        <td>518</td>\n",
       "    </tr>\n",
       "    <tr>\n",
       "        <td>R</td>\n",
       "        <td>585</td>\n",
       "    </tr>\n",
       "    <tr>\n",
       "        <td>VBA</td>\n",
       "        <td>628</td>\n",
       "    </tr>\n",
       "    <tr>\n",
       "        <td>Swift</td>\n",
       "        <td>707</td>\n",
       "    </tr>\n",
       "    <tr>\n",
       "        <td>Kotlin</td>\n",
       "        <td>751</td>\n",
       "    </tr>\n",
       "    <tr>\n",
       "        <td>Other(s):</td>\n",
       "        <td>840</td>\n",
       "    </tr>\n",
       "    <tr>\n",
       "        <td>Go</td>\n",
       "        <td>1114</td>\n",
       "    </tr>\n",
       "    <tr>\n",
       "        <td>Ruby</td>\n",
       "        <td>1149</td>\n",
       "    </tr>\n",
       "    <tr>\n",
       "        <td>C</td>\n",
       "        <td>1578</td>\n",
       "    </tr>\n",
       "    <tr>\n",
       "        <td>C++</td>\n",
       "        <td>1946</td>\n",
       "    </tr>\n",
       "    <tr>\n",
       "        <td>PHP</td>\n",
       "        <td>2913</td>\n",
       "    </tr>\n",
       "    <tr>\n",
       "        <td>TypeScript</td>\n",
       "        <td>3232</td>\n",
       "    </tr>\n",
       "    <tr>\n",
       "        <td>C#</td>\n",
       "        <td>4288</td>\n",
       "    </tr>\n",
       "    <tr>\n",
       "        <td>Java</td>\n",
       "        <td>4506</td>\n",
       "    </tr>\n",
       "    <tr>\n",
       "        <td>Python</td>\n",
       "        <td>4542</td>\n",
       "    </tr>\n",
       "    <tr>\n",
       "        <td>Bash/Shell/PowerShell</td>\n",
       "        <td>4642</td>\n",
       "    </tr>\n",
       "    <tr>\n",
       "        <td>SQL</td>\n",
       "        <td>7106</td>\n",
       "    </tr>\n",
       "    <tr>\n",
       "        <td>HTML/CSS</td>\n",
       "        <td>7830</td>\n",
       "    </tr>\n",
       "    <tr>\n",
       "        <td>JavaScript</td>\n",
       "        <td>8687</td>\n",
       "    </tr>\n",
       "</table>"
      ],
      "text/plain": [
       "[('Erlang', 98),\n",
       " ('WebAssembly', 133),\n",
       " ('F#', 158),\n",
       " ('Clojure', 164),\n",
       " ('Elixir', 187),\n",
       " ('Dart', 237),\n",
       " ('Rust', 324),\n",
       " ('Assembly', 437),\n",
       " ('Scala', 492),\n",
       " ('Objective-C', 518),\n",
       " ('R', 585),\n",
       " ('VBA', 628),\n",
       " ('Swift', 707),\n",
       " ('Kotlin', 751),\n",
       " ('Other(s):', 840),\n",
       " ('Go', 1114),\n",
       " ('Ruby', 1149),\n",
       " ('C', 1578),\n",
       " ('C++', 1946),\n",
       " ('PHP', 2913),\n",
       " ('TypeScript', 3232),\n",
       " ('C#', 4288),\n",
       " ('Java', 4506),\n",
       " ('Python', 4542),\n",
       " ('Bash/Shell/PowerShell', 4642),\n",
       " ('SQL', 7106),\n",
       " ('HTML/CSS', 7830),\n",
       " ('JavaScript', 8687)]"
      ]
     },
     "execution_count": 190,
     "metadata": {},
     "output_type": "execute_result"
    }
   ],
   "source": [
    "C_language_data=%sql select LanguageWorkedWith, count(*) as count from LanguageWorkedWith group by LanguageWorkedWith order by count\n",
    "C_language_data"
   ]
  },
  {
   "cell_type": "code",
   "execution_count": 194,
   "metadata": {},
   "outputs": [
    {
     "name": "stdout",
     "output_type": "stream",
     "text": [
      "CREATE TABLE \"LanguageWorkedWith\" (\n",
      "\"Respondent\" INTEGER,\n",
      "  \"LanguageWorkedWith\" TEXT\n",
      ")\n"
     ]
    }
   ],
   "source": [
    "table_name = 'LanguageWorkedWith'  # the table you wish to describe\n",
    "\n",
    "QUERY = \"\"\"\n",
    "SELECT sql FROM sqlite_master\n",
    "WHERE name= '{}'\n",
    "\"\"\".format(table_name)\n",
    "\n",
    "df = pd.read_sql_query(QUERY,conn)\n",
    "print(df.iat[0,0])"
   ]
  },
  {
   "cell_type": "markdown",
   "metadata": {},
   "source": [
    "### Stacked Charts\n"
   ]
  },
  {
   "cell_type": "markdown",
   "metadata": {},
   "source": [
    "Create a stacked chart of median `WorkWeekHrs` and `CodeRevHrs` for the age group 30 to 35.\n"
   ]
  },
  {
   "cell_type": "code",
   "execution_count": 89,
   "metadata": {},
   "outputs": [
    {
     "name": "stdout",
     "output_type": "stream",
     "text": [
      " * sqlite:///m4_survey_data.sqlite\n",
      "Done.\n"
     ]
    },
    {
     "data": {
      "text/html": [
       "<div>\n",
       "<style scoped>\n",
       "    .dataframe tbody tr th:only-of-type {\n",
       "        vertical-align: middle;\n",
       "    }\n",
       "\n",
       "    .dataframe tbody tr th {\n",
       "        vertical-align: top;\n",
       "    }\n",
       "\n",
       "    .dataframe thead th {\n",
       "        text-align: right;\n",
       "    }\n",
       "</style>\n",
       "<table border=\"1\" class=\"dataframe\">\n",
       "  <thead>\n",
       "    <tr style=\"text-align: right;\">\n",
       "      <th></th>\n",
       "      <th>Age</th>\n",
       "      <th>WorkWeekHrs</th>\n",
       "      <th>CodeRevHrs</th>\n",
       "    </tr>\n",
       "  </thead>\n",
       "  <tbody>\n",
       "    <tr>\n",
       "      <th>0</th>\n",
       "      <td>31.0</td>\n",
       "      <td>8.0</td>\n",
       "      <td>3.0</td>\n",
       "    </tr>\n",
       "    <tr>\n",
       "      <th>1</th>\n",
       "      <td>34.0</td>\n",
       "      <td>40.0</td>\n",
       "      <td>2.0</td>\n",
       "    </tr>\n",
       "    <tr>\n",
       "      <th>2</th>\n",
       "      <td>32.0</td>\n",
       "      <td>40.0</td>\n",
       "      <td>2.0</td>\n",
       "    </tr>\n",
       "    <tr>\n",
       "      <th>3</th>\n",
       "      <td>34.0</td>\n",
       "      <td>42.0</td>\n",
       "      <td>15.0</td>\n",
       "    </tr>\n",
       "    <tr>\n",
       "      <th>4</th>\n",
       "      <td>33.0</td>\n",
       "      <td>40.0</td>\n",
       "      <td>2.0</td>\n",
       "    </tr>\n",
       "    <tr>\n",
       "      <th>...</th>\n",
       "      <td>...</td>\n",
       "      <td>...</td>\n",
       "      <td>...</td>\n",
       "    </tr>\n",
       "    <tr>\n",
       "      <th>2937</th>\n",
       "      <td>32.0</td>\n",
       "      <td>42.0</td>\n",
       "      <td>4.0</td>\n",
       "    </tr>\n",
       "    <tr>\n",
       "      <th>2938</th>\n",
       "      <td>32.0</td>\n",
       "      <td>50.0</td>\n",
       "      <td>2.0</td>\n",
       "    </tr>\n",
       "    <tr>\n",
       "      <th>2939</th>\n",
       "      <td>32.0</td>\n",
       "      <td>56.0</td>\n",
       "      <td>14.0</td>\n",
       "    </tr>\n",
       "    <tr>\n",
       "      <th>2940</th>\n",
       "      <td>34.0</td>\n",
       "      <td>40.0</td>\n",
       "      <td>5.0</td>\n",
       "    </tr>\n",
       "    <tr>\n",
       "      <th>2941</th>\n",
       "      <td>30.0</td>\n",
       "      <td>80.0</td>\n",
       "      <td>1.0</td>\n",
       "    </tr>\n",
       "  </tbody>\n",
       "</table>\n",
       "<p>2942 rows × 3 columns</p>\n",
       "</div>"
      ],
      "text/plain": [
       "       Age  WorkWeekHrs  CodeRevHrs\n",
       "0     31.0          8.0         3.0\n",
       "1     34.0         40.0         2.0\n",
       "2     32.0         40.0         2.0\n",
       "3     34.0         42.0        15.0\n",
       "4     33.0         40.0         2.0\n",
       "...    ...          ...         ...\n",
       "2937  32.0         42.0         4.0\n",
       "2938  32.0         50.0         2.0\n",
       "2939  32.0         56.0        14.0\n",
       "2940  34.0         40.0         5.0\n",
       "2941  30.0         80.0         1.0\n",
       "\n",
       "[2942 rows x 3 columns]"
      ]
     },
     "execution_count": 89,
     "metadata": {},
     "output_type": "execute_result"
    }
   ],
   "source": [
    "# your code goes here\n",
    "df_age_selected=%sql select Age,WorkWeekHrs,CodeRevHrs from master where Age>=30 and Age<=35 \n",
    "df_age_selected=df_age_selected.DataFrame()\n",
    "df_age_selected"
   ]
  },
  {
   "cell_type": "code",
   "execution_count": 97,
   "metadata": {},
   "outputs": [
    {
     "data": {
      "text/html": [
       "<div>\n",
       "<style scoped>\n",
       "    .dataframe tbody tr th:only-of-type {\n",
       "        vertical-align: middle;\n",
       "    }\n",
       "\n",
       "    .dataframe tbody tr th {\n",
       "        vertical-align: top;\n",
       "    }\n",
       "\n",
       "    .dataframe thead th {\n",
       "        text-align: right;\n",
       "    }\n",
       "</style>\n",
       "<table border=\"1\" class=\"dataframe\">\n",
       "  <thead>\n",
       "    <tr style=\"text-align: right;\">\n",
       "      <th></th>\n",
       "      <th>WorkWeekHrs</th>\n",
       "      <th>CodeRevHrs</th>\n",
       "    </tr>\n",
       "    <tr>\n",
       "      <th>Age</th>\n",
       "      <th></th>\n",
       "      <th></th>\n",
       "    </tr>\n",
       "  </thead>\n",
       "  <tbody>\n",
       "    <tr>\n",
       "      <th>30.0</th>\n",
       "      <td>40.0</td>\n",
       "      <td>4.0</td>\n",
       "    </tr>\n",
       "    <tr>\n",
       "      <th>31.0</th>\n",
       "      <td>40.0</td>\n",
       "      <td>4.0</td>\n",
       "    </tr>\n",
       "    <tr>\n",
       "      <th>32.0</th>\n",
       "      <td>40.0</td>\n",
       "      <td>4.0</td>\n",
       "    </tr>\n",
       "    <tr>\n",
       "      <th>33.0</th>\n",
       "      <td>40.0</td>\n",
       "      <td>4.0</td>\n",
       "    </tr>\n",
       "    <tr>\n",
       "      <th>34.0</th>\n",
       "      <td>40.0</td>\n",
       "      <td>4.0</td>\n",
       "    </tr>\n",
       "    <tr>\n",
       "      <th>35.0</th>\n",
       "      <td>40.0</td>\n",
       "      <td>4.0</td>\n",
       "    </tr>\n",
       "  </tbody>\n",
       "</table>\n",
       "</div>"
      ],
      "text/plain": [
       "      WorkWeekHrs  CodeRevHrs\n",
       "Age                          \n",
       "30.0         40.0         4.0\n",
       "31.0         40.0         4.0\n",
       "32.0         40.0         4.0\n",
       "33.0         40.0         4.0\n",
       "34.0         40.0         4.0\n",
       "35.0         40.0         4.0"
      ]
     },
     "execution_count": 97,
     "metadata": {},
     "output_type": "execute_result"
    }
   ],
   "source": [
    "df_age_selected=df_age_selected.groupby('Age').median()\n",
    "df_age_selected"
   ]
  },
  {
   "cell_type": "code",
   "execution_count": 95,
   "metadata": {},
   "outputs": [
    {
     "data": {
      "text/plain": [
       "<AxesSubplot:xlabel='Age'>"
      ]
     },
     "execution_count": 95,
     "metadata": {},
     "output_type": "execute_result"
    },
    {
     "data": {
      "image/png": "[encoded data removed]",
      "text/plain": [
       "<Figure size 800x480 with 1 Axes>"
      ]
     },
     "metadata": {},
     "output_type": "display_data"
    }
   ],
   "source": [
    "df_age_selected.plot(kind ='bar',\n",
    "          figsize=(10, 6),\n",
    "          alpha=0.6,\n",
    "                     stacked=True\n",
    "          # color=['coral', 'darkslateblue', 'mediumseagreen']\n",
    "         )"
   ]
  },
  {
   "cell_type": "code",
   "execution_count": 68,
   "metadata": {},
   "outputs": [
    {
     "name": "stdout",
     "output_type": "stream",
     "text": [
      " * sqlite:///m4_survey_data.sqlite\n",
      "Done.\n"
     ]
    },
    {
     "ename": "TypeError",
     "evalue": "missing a required argument: 'height'",
     "output_type": "error",
     "traceback": [
      "\u001b[0;31m---------------------------------------------------------------------------\u001b[0m",
      "\u001b[0;31mTypeError\u001b[0m                                 Traceback (most recent call last)",
      "Input \u001b[0;32mIn [68]\u001b[0m, in \u001b[0;36m<cell line: 5>\u001b[0;34m()\u001b[0m\n\u001b[1;32m      3\u001b[0m df_age_selected\u001b[38;5;241m=\u001b[39mdf_age_selected\u001b[38;5;241m.\u001b[39mDataFrame()\n\u001b[1;32m      4\u001b[0m fig,ax\u001b[38;5;241m=\u001b[39mplt\u001b[38;5;241m.\u001b[39msubplots()\n\u001b[0;32m----> 5\u001b[0m \u001b[43max\u001b[49m\u001b[38;5;241;43m.\u001b[39;49m\u001b[43mbar\u001b[49m\u001b[43m(\u001b[49m\u001b[43mdata\u001b[49m\u001b[38;5;241;43m=\u001b[39;49m\u001b[43mdf_age_selected\u001b[49m\u001b[43m,\u001b[49m\u001b[43mx\u001b[49m\u001b[38;5;241;43m=\u001b[39;49m\u001b[38;5;124;43m'\u001b[39;49m\u001b[38;5;124;43mAge\u001b[39;49m\u001b[38;5;124;43m'\u001b[39;49m\u001b[43m,\u001b[49m\u001b[43m \u001b[49m\u001b[43my\u001b[49m\u001b[38;5;241;43m=\u001b[39;49m\u001b[38;5;124;43m'\u001b[39;49m\u001b[38;5;124;43mWorkWeekHrs\u001b[39;49m\u001b[38;5;124;43m'\u001b[39;49m\u001b[43m)\u001b[49m\n",
      "File \u001b[0;32m~/opt/anaconda3/lib/python3.9/site-packages/matplotlib/__init__.py:1414\u001b[0m, in \u001b[0;36m_preprocess_data.<locals>.inner\u001b[0;34m(ax, data, *args, **kwargs)\u001b[0m\n\u001b[1;32m   1411\u001b[0m \u001b[38;5;28;01mif\u001b[39;00m data \u001b[38;5;129;01mis\u001b[39;00m \u001b[38;5;28;01mNone\u001b[39;00m:\n\u001b[1;32m   1412\u001b[0m     \u001b[38;5;28;01mreturn\u001b[39;00m func(ax, \u001b[38;5;241m*\u001b[39m\u001b[38;5;28mmap\u001b[39m(sanitize_sequence, args), \u001b[38;5;241m*\u001b[39m\u001b[38;5;241m*\u001b[39mkwargs)\n\u001b[0;32m-> 1414\u001b[0m bound \u001b[38;5;241m=\u001b[39m \u001b[43mnew_sig\u001b[49m\u001b[38;5;241;43m.\u001b[39;49m\u001b[43mbind\u001b[49m\u001b[43m(\u001b[49m\u001b[43max\u001b[49m\u001b[43m,\u001b[49m\u001b[43m \u001b[49m\u001b[38;5;241;43m*\u001b[39;49m\u001b[43margs\u001b[49m\u001b[43m,\u001b[49m\u001b[43m \u001b[49m\u001b[38;5;241;43m*\u001b[39;49m\u001b[38;5;241;43m*\u001b[39;49m\u001b[43mkwargs\u001b[49m\u001b[43m)\u001b[49m\n\u001b[1;32m   1415\u001b[0m auto_label \u001b[38;5;241m=\u001b[39m (bound\u001b[38;5;241m.\u001b[39marguments\u001b[38;5;241m.\u001b[39mget(label_namer)\n\u001b[1;32m   1416\u001b[0m               \u001b[38;5;129;01mor\u001b[39;00m bound\u001b[38;5;241m.\u001b[39mkwargs\u001b[38;5;241m.\u001b[39mget(label_namer))\n\u001b[1;32m   1418\u001b[0m \u001b[38;5;28;01mfor\u001b[39;00m k, v \u001b[38;5;129;01min\u001b[39;00m bound\u001b[38;5;241m.\u001b[39marguments\u001b[38;5;241m.\u001b[39mitems():\n",
      "File \u001b[0;32m~/opt/anaconda3/lib/python3.9/inspect.py:3045\u001b[0m, in \u001b[0;36mSignature.bind\u001b[0;34m(self, *args, **kwargs)\u001b[0m\n\u001b[1;32m   3040\u001b[0m \u001b[38;5;28;01mdef\u001b[39;00m \u001b[38;5;21mbind\u001b[39m(\u001b[38;5;28mself\u001b[39m, \u001b[38;5;241m/\u001b[39m, \u001b[38;5;241m*\u001b[39margs, \u001b[38;5;241m*\u001b[39m\u001b[38;5;241m*\u001b[39mkwargs):\n\u001b[1;32m   3041\u001b[0m     \u001b[38;5;124;03m\"\"\"Get a BoundArguments object, that maps the passed `args`\u001b[39;00m\n\u001b[1;32m   3042\u001b[0m \u001b[38;5;124;03m    and `kwargs` to the function's signature.  Raises `TypeError`\u001b[39;00m\n\u001b[1;32m   3043\u001b[0m \u001b[38;5;124;03m    if the passed arguments can not be bound.\u001b[39;00m\n\u001b[1;32m   3044\u001b[0m \u001b[38;5;124;03m    \"\"\"\u001b[39;00m\n\u001b[0;32m-> 3045\u001b[0m     \u001b[38;5;28;01mreturn\u001b[39;00m \u001b[38;5;28;43mself\u001b[39;49m\u001b[38;5;241;43m.\u001b[39;49m\u001b[43m_bind\u001b[49m\u001b[43m(\u001b[49m\u001b[43margs\u001b[49m\u001b[43m,\u001b[49m\u001b[43m \u001b[49m\u001b[43mkwargs\u001b[49m\u001b[43m)\u001b[49m\n",
      "File \u001b[0;32m~/opt/anaconda3/lib/python3.9/inspect.py:3015\u001b[0m, in \u001b[0;36mSignature._bind\u001b[0;34m(self, args, kwargs, partial)\u001b[0m\n\u001b[1;32m   3008\u001b[0m \u001b[38;5;28;01mexcept\u001b[39;00m \u001b[38;5;167;01mKeyError\u001b[39;00m:\n\u001b[1;32m   3009\u001b[0m     \u001b[38;5;66;03m# We have no value for this parameter.  It's fine though,\u001b[39;00m\n\u001b[1;32m   3010\u001b[0m     \u001b[38;5;66;03m# if it has a default value, or it is an '*args'-like\u001b[39;00m\n\u001b[1;32m   3011\u001b[0m     \u001b[38;5;66;03m# parameter, left alone by the processing of positional\u001b[39;00m\n\u001b[1;32m   3012\u001b[0m     \u001b[38;5;66;03m# arguments.\u001b[39;00m\n\u001b[1;32m   3013\u001b[0m     \u001b[38;5;28;01mif\u001b[39;00m (\u001b[38;5;129;01mnot\u001b[39;00m partial \u001b[38;5;129;01mand\u001b[39;00m param\u001b[38;5;241m.\u001b[39mkind \u001b[38;5;241m!=\u001b[39m _VAR_POSITIONAL \u001b[38;5;129;01mand\u001b[39;00m\n\u001b[1;32m   3014\u001b[0m                                         param\u001b[38;5;241m.\u001b[39mdefault \u001b[38;5;129;01mis\u001b[39;00m _empty):\n\u001b[0;32m-> 3015\u001b[0m         \u001b[38;5;28;01mraise\u001b[39;00m \u001b[38;5;167;01mTypeError\u001b[39;00m(\u001b[38;5;124m'\u001b[39m\u001b[38;5;124mmissing a required argument: \u001b[39m\u001b[38;5;132;01m{arg!r}\u001b[39;00m\u001b[38;5;124m'\u001b[39m\u001b[38;5;241m.\u001b[39m \\\n\u001b[1;32m   3016\u001b[0m                         \u001b[38;5;28mformat\u001b[39m(arg\u001b[38;5;241m=\u001b[39mparam_name)) \u001b[38;5;28;01mfrom\u001b[39;00m \u001b[38;5;28mNone\u001b[39m\n\u001b[1;32m   3018\u001b[0m \u001b[38;5;28;01melse\u001b[39;00m:\n\u001b[1;32m   3019\u001b[0m     \u001b[38;5;28;01mif\u001b[39;00m param\u001b[38;5;241m.\u001b[39mkind \u001b[38;5;241m==\u001b[39m _POSITIONAL_ONLY:\n\u001b[1;32m   3020\u001b[0m         \u001b[38;5;66;03m# This should never happen in case of a properly built\u001b[39;00m\n\u001b[1;32m   3021\u001b[0m         \u001b[38;5;66;03m# Signature object (but let's have this check here\u001b[39;00m\n\u001b[1;32m   3022\u001b[0m         \u001b[38;5;66;03m# to ensure correct behaviour just in case)\u001b[39;00m\n",
      "\u001b[0;31mTypeError\u001b[0m: missing a required argument: 'height'"
     ]
    },
    {
     "data": {
      "image/png": "[encoded data removed]",
      "text/plain": [
       "<Figure size 640x480 with 1 Axes>"
      ]
     },
     "metadata": {},
     "output_type": "display_data"
    }
   ],
   "source": [
    "fig,ax=plt.subplots()\n",
    "ax.bar(df_age_selected.Age,)"
   ]
  },
  {
   "cell_type": "markdown",
   "metadata": {},
   "source": [
    "## Visualizing comparison of data\n"
   ]
  },
  {
   "cell_type": "markdown",
   "metadata": {},
   "source": [
    "### Line Chart\n"
   ]
  },
  {
   "cell_type": "markdown",
   "metadata": {},
   "source": [
    "Plot the median `ConvertedComp` for all ages from 45 to 60.\n"
   ]
  },
  {
   "cell_type": "code",
   "execution_count": 166,
   "metadata": {},
   "outputs": [
    {
     "name": "stdout",
     "output_type": "stream",
     "text": [
      " * sqlite:///m4_survey_data.sqlite\n",
      "Done.\n"
     ]
    },
    {
     "data": {
      "text/plain": [
       "sql.run.ResultSet"
      ]
     },
     "execution_count": 166,
     "metadata": {},
     "output_type": "execute_result"
    }
   ],
   "source": [
    "# your code goes here\n",
    "data_age_selected2= %sql select Age,ConvertedComp from master where Age>= 45 and Age<=60\n",
    "type(data_age_selected2)"
   ]
  },
  {
   "cell_type": "code",
   "execution_count": 117,
   "metadata": {},
   "outputs": [],
   "source": [
    "data_age_selected2=data_age_selected2.DataFrame()"
   ]
  },
  {
   "cell_type": "code",
   "execution_count": 119,
   "metadata": {},
   "outputs": [
    {
     "data": {
      "text/html": [
       "<div>\n",
       "<style scoped>\n",
       "    .dataframe tbody tr th:only-of-type {\n",
       "        vertical-align: middle;\n",
       "    }\n",
       "\n",
       "    .dataframe tbody tr th {\n",
       "        vertical-align: top;\n",
       "    }\n",
       "\n",
       "    .dataframe thead th {\n",
       "        text-align: right;\n",
       "    }\n",
       "</style>\n",
       "<table border=\"1\" class=\"dataframe\">\n",
       "  <thead>\n",
       "    <tr style=\"text-align: right;\">\n",
       "      <th></th>\n",
       "      <th>Age</th>\n",
       "      <th>ConvertedComp</th>\n",
       "    </tr>\n",
       "  </thead>\n",
       "  <tbody>\n",
       "    <tr>\n",
       "      <th>0</th>\n",
       "      <td>45.0</td>\n",
       "      <td>90330.0</td>\n",
       "    </tr>\n",
       "    <tr>\n",
       "      <th>1</th>\n",
       "      <td>46.0</td>\n",
       "      <td>91593.0</td>\n",
       "    </tr>\n",
       "    <tr>\n",
       "      <th>2</th>\n",
       "      <td>47.0</td>\n",
       "      <td>91606.0</td>\n",
       "    </tr>\n",
       "    <tr>\n",
       "      <th>3</th>\n",
       "      <td>48.0</td>\n",
       "      <td>105750.0</td>\n",
       "    </tr>\n",
       "    <tr>\n",
       "      <th>4</th>\n",
       "      <td>49.0</td>\n",
       "      <td>85248.0</td>\n",
       "    </tr>\n",
       "    <tr>\n",
       "      <th>5</th>\n",
       "      <td>50.0</td>\n",
       "      <td>95000.0</td>\n",
       "    </tr>\n",
       "    <tr>\n",
       "      <th>6</th>\n",
       "      <td>51.0</td>\n",
       "      <td>100000.0</td>\n",
       "    </tr>\n",
       "    <tr>\n",
       "      <th>7</th>\n",
       "      <td>52.0</td>\n",
       "      <td>105500.0</td>\n",
       "    </tr>\n",
       "    <tr>\n",
       "      <th>8</th>\n",
       "      <td>53.0</td>\n",
       "      <td>100463.0</td>\n",
       "    </tr>\n",
       "    <tr>\n",
       "      <th>9</th>\n",
       "      <td>54.0</td>\n",
       "      <td>121000.0</td>\n",
       "    </tr>\n",
       "    <tr>\n",
       "      <th>10</th>\n",
       "      <td>55.0</td>\n",
       "      <td>119000.0</td>\n",
       "    </tr>\n",
       "    <tr>\n",
       "      <th>11</th>\n",
       "      <td>56.0</td>\n",
       "      <td>99530.5</td>\n",
       "    </tr>\n",
       "    <tr>\n",
       "      <th>12</th>\n",
       "      <td>57.0</td>\n",
       "      <td>117578.0</td>\n",
       "    </tr>\n",
       "    <tr>\n",
       "      <th>13</th>\n",
       "      <td>58.0</td>\n",
       "      <td>108000.0</td>\n",
       "    </tr>\n",
       "    <tr>\n",
       "      <th>14</th>\n",
       "      <td>59.0</td>\n",
       "      <td>110000.0</td>\n",
       "    </tr>\n",
       "    <tr>\n",
       "      <th>15</th>\n",
       "      <td>60.0</td>\n",
       "      <td>132287.5</td>\n",
       "    </tr>\n",
       "  </tbody>\n",
       "</table>\n",
       "</div>"
      ],
      "text/plain": [
       "     Age  ConvertedComp\n",
       "0   45.0        90330.0\n",
       "1   46.0        91593.0\n",
       "2   47.0        91606.0\n",
       "3   48.0       105750.0\n",
       "4   49.0        85248.0\n",
       "5   50.0        95000.0\n",
       "6   51.0       100000.0\n",
       "7   52.0       105500.0\n",
       "8   53.0       100463.0\n",
       "9   54.0       121000.0\n",
       "10  55.0       119000.0\n",
       "11  56.0        99530.5\n",
       "12  57.0       117578.0\n",
       "13  58.0       108000.0\n",
       "14  59.0       110000.0\n",
       "15  60.0       132287.5"
      ]
     },
     "execution_count": 119,
     "metadata": {},
     "output_type": "execute_result"
    }
   ],
   "source": [
    "data_age_selected2=data_age_selected2.groupby('Age').median()\n",
    "data_age_selected2=data_age_selected2.reset_index()\n",
    "data_age_selected2"
   ]
  },
  {
   "cell_type": "code",
   "execution_count": 130,
   "metadata": {},
   "outputs": [
    {
     "data": {
      "text/plain": [
       "array([ 2107.91176471, -6109.99264706])"
      ]
     },
     "execution_count": 130,
     "metadata": {},
     "output_type": "execute_result"
    }
   ],
   "source": [
    "x=data_age_selected2.Age\n",
    "y=data_age_selected2.ConvertedComp\n",
    "fit=np.polyfit(x,y,deg=1)\n",
    "fit"
   ]
  },
  {
   "cell_type": "code",
   "execution_count": 144,
   "metadata": {},
   "outputs": [
    {
     "data": {
      "image/png": "[encoded data removed]",
      "text/plain": [
       "<Figure size 640x480 with 1 Axes>"
      ]
     },
     "metadata": {},
     "output_type": "display_data"
    }
   ],
   "source": [
    "data_age_selected2.plot(kind='scatter',x='Age',y='ConvertedComp')\n",
    "plt.plot(x,fit[0]*x+fit[1],color='red')\n",
    "plt.annotate('y={0:.0f} x + {1:.0f}'.format(fit[0],fit[1]),(10,2000))\n",
    "plt.show()"
   ]
  },
  {
   "cell_type": "code",
   "execution_count": 137,
   "metadata": {},
   "outputs": [
    {
     "data": {
      "text/plain": [
       "<AxesSubplot:xlabel='Age'>"
      ]
     },
     "execution_count": 137,
     "metadata": {},
     "output_type": "execute_result"
    },
    {
     "data": {
      "image/png": "[encoded data removed]",
      "text/plain": [
       "<Figure size 640x480 with 1 Axes>"
      ]
     },
     "metadata": {},
     "output_type": "display_data"
    }
   ],
   "source": [
    "data_age_selected2.plot(kind='line',x='Age',y='ConvertedComp')"
   ]
  },
  {
   "cell_type": "markdown",
   "metadata": {},
   "source": [
    "### Bar Chart\n"
   ]
  },
  {
   "cell_type": "markdown",
   "metadata": {},
   "source": [
    "Create a horizontal bar chart using column `MainBranch.`\n"
   ]
  },
  {
   "cell_type": "code",
   "execution_count": 168,
   "metadata": {},
   "outputs": [],
   "source": [
    "# your code goes here\n",
    "df_1=df['MainBranch'].value_counts()\n",
    "\n"
   ]
  },
  {
   "cell_type": "markdown",
   "metadata": {},
   "source": [
    "Close the database connection.\n"
   ]
  },
  {
   "cell_type": "code",
   "execution_count": null,
   "metadata": {},
   "outputs": [],
   "source": [
    "conn.close()"
   ]
  },
  {
   "cell_type": "markdown",
   "metadata": {},
   "source": [
    "## Authors\n"
   ]
  },
  {
   "cell_type": "markdown",
   "metadata": {},
   "source": [
    "Ramesh Sannareddy\n"
   ]
  },
  {
   "cell_type": "markdown",
   "metadata": {},
   "source": [
    "### Other Contributors\n"
   ]
  },
  {
   "cell_type": "markdown",
   "metadata": {},
   "source": [
    "Rav Ahuja\n"
   ]
  },
  {
   "cell_type": "markdown",
   "metadata": {},
   "source": [
    "## Change Log\n"
   ]
  },
  {
   "cell_type": "markdown",
   "metadata": {},
   "source": [
    "| Date (YYYY-MM-DD) | Version | Changed By        | Change Description                 |\n",
    "| ----------------- | ------- | ----------------- | ---------------------------------- |\n",
    "| 2020-10-17        | 0.1     | Ramesh Sannareddy | Created initial version of the lab |\n"
   ]
  },
  {
   "cell_type": "markdown",
   "metadata": {},
   "source": [
    "Copyright © 2020 IBM Corporation. This notebook and its source code are released under the terms of the [MIT License](https://cognitiveclass.ai/mit-license?utm_medium=Exinfluencer&utm_source=Exinfluencer&utm_content=000026UJ&utm_term=10006555&utm_id=NA-SkillsNetwork-Channel-SkillsNetworkCoursesIBMDA0321ENSkillsNetwork21426264-2022-01-01&cm_mmc=Email_Newsletter-\\_-Developer_Ed%2BTech-\\_-WW_WW-\\_-SkillsNetwork-Courses-IBM-DA0321EN-SkillsNetwork-21426264&cm_mmca1=000026UJ&cm_mmca2=10006555&cm_mmca3=M12345678&cvosrc=email.Newsletter.M12345678&cvo_campaign=000026UJ).\n"
   ]
  }
 ],
 "metadata": {
  "kernelspec": {
   "display_name": "Python 3 (ipykernel)",
   "language": "python",
   "name": "python3"
  },
  "language_info": {
   "codemirror_mode": {
    "name": "ipython",
    "version": 3
   },
   "file_extension": ".py",
   "mimetype": "text/x-python",
   "name": "python",
   "nbconvert_exporter": "python",
   "pygments_lexer": "ipython3",
   "version": "3.9.12"
  }
 },
 "nbformat": 4,
 "nbformat_minor": 4
}
