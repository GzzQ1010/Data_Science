{
 "cells": [
  {
   "cell_type": "code",
   "execution_count": 2,
   "id": "5f78fa35-f3ef-4db8-a770-484d3fbdfff4",
   "metadata": {},
   "outputs": [
    {
     "name": "stdout",
     "output_type": "stream",
     "text": [
      "Requirement already satisfied: yfinance in /Users/zhenqiangzeng/opt/anaconda3/lib/python3.9/site-packages (0.1.67)\n",
      "Requirement already satisfied: numpy>=1.15 in /Users/zhenqiangzeng/opt/anaconda3/lib/python3.9/site-packages (from yfinance) (1.21.5)\n",
      "Requirement already satisfied: lxml>=4.5.1 in /Users/zhenqiangzeng/opt/anaconda3/lib/python3.9/site-packages (from yfinance) (4.6.4)\n",
      "Requirement already satisfied: multitasking>=0.0.7 in /Users/zhenqiangzeng/opt/anaconda3/lib/python3.9/site-packages (from yfinance) (0.0.11)\n",
      "Requirement already satisfied: pandas>=0.24 in /Users/zhenqiangzeng/opt/anaconda3/lib/python3.9/site-packages (from yfinance) (1.3.3)\n",
      "Requirement already satisfied: requests>=2.20 in /Users/zhenqiangzeng/opt/anaconda3/lib/python3.9/site-packages (from yfinance) (2.27.1)\n",
      "Requirement already satisfied: python-dateutil>=2.7.3 in /Users/zhenqiangzeng/opt/anaconda3/lib/python3.9/site-packages (from pandas>=0.24->yfinance) (2.8.2)\n",
      "Requirement already satisfied: pytz>=2017.3 in /Users/zhenqiangzeng/opt/anaconda3/lib/python3.9/site-packages (from pandas>=0.24->yfinance) (2021.3)\n",
      "Requirement already satisfied: six>=1.5 in /Users/zhenqiangzeng/opt/anaconda3/lib/python3.9/site-packages (from python-dateutil>=2.7.3->pandas>=0.24->yfinance) (1.16.0)\n",
      "Requirement already satisfied: urllib3<1.27,>=1.21.1 in /Users/zhenqiangzeng/opt/anaconda3/lib/python3.9/site-packages (from requests>=2.20->yfinance) (1.26.9)\n",
      "Requirement already satisfied: idna<4,>=2.5 in /Users/zhenqiangzeng/opt/anaconda3/lib/python3.9/site-packages (from requests>=2.20->yfinance) (3.3)\n",
      "Requirement already satisfied: certifi>=2017.4.17 in /Users/zhenqiangzeng/opt/anaconda3/lib/python3.9/site-packages (from requests>=2.20->yfinance) (2021.10.8)\n",
      "Requirement already satisfied: charset-normalizer~=2.0.0 in /Users/zhenqiangzeng/opt/anaconda3/lib/python3.9/site-packages (from requests>=2.20->yfinance) (2.0.4)\n",
      "Requirement already satisfied: pandas in /Users/zhenqiangzeng/opt/anaconda3/lib/python3.9/site-packages (1.3.3)\n",
      "Requirement already satisfied: pytz>=2017.3 in /Users/zhenqiangzeng/opt/anaconda3/lib/python3.9/site-packages (from pandas) (2021.3)\n",
      "Requirement already satisfied: numpy>=1.17.3 in /Users/zhenqiangzeng/opt/anaconda3/lib/python3.9/site-packages (from pandas) (1.21.5)\n",
      "Requirement already satisfied: python-dateutil>=2.7.3 in /Users/zhenqiangzeng/opt/anaconda3/lib/python3.9/site-packages (from pandas) (2.8.2)\n",
      "Requirement already satisfied: six>=1.5 in /Users/zhenqiangzeng/opt/anaconda3/lib/python3.9/site-packages (from python-dateutil>=2.7.3->pandas) (1.16.0)\n"
     ]
    }
   ],
   "source": [
    "!pip install yfinance\n",
    "!pip install pandas"
   ]
  },
  {
   "cell_type": "code",
   "execution_count": 3,
   "id": "6f89d85c-8e56-43ae-9f98-b392db52944e",
   "metadata": {},
   "outputs": [],
   "source": [
    "import yfinance as yf \n",
    "import pandas as ps "
   ]
  },
  {
   "cell_type": "code",
   "execution_count": 4,
   "id": "91853883-c021-44ee-a4ed-9103ed8fcfc6",
   "metadata": {},
   "outputs": [],
   "source": [
    "Tesla=yf.Ticker(\"TSLA\")\n",
    "Tesla_info=Tesla.info "
   ]
  },
  {
   "cell_type": "code",
   "execution_count": 5,
   "id": "19224626-d591-43f0-a838-f7a563ddf4e8",
   "metadata": {},
   "outputs": [
    {
     "data": {
      "text/plain": [
       "'United States'"
      ]
     },
     "execution_count": 5,
     "metadata": {},
     "output_type": "execute_result"
    }
   ],
   "source": [
    "Tesla_info['country']"
   ]
  },
  {
   "cell_type": "code",
   "execution_count": 6,
   "id": "26048053-852d-4dc4-8700-1dae304ca973",
   "metadata": {},
   "outputs": [
    {
     "data": {
      "text/html": [
       "<div>\n",
       "<style scoped>\n",
       "    .dataframe tbody tr th:only-of-type {\n",
       "        vertical-align: middle;\n",
       "    }\n",
       "\n",
       "    .dataframe tbody tr th {\n",
       "        vertical-align: top;\n",
       "    }\n",
       "\n",
       "    .dataframe thead th {\n",
       "        text-align: right;\n",
       "    }\n",
       "</style>\n",
       "<table border=\"1\" class=\"dataframe\">\n",
       "  <thead>\n",
       "    <tr style=\"text-align: right;\">\n",
       "      <th></th>\n",
       "      <th>Open</th>\n",
       "      <th>High</th>\n",
       "      <th>Low</th>\n",
       "      <th>Close</th>\n",
       "      <th>Volume</th>\n",
       "      <th>Dividends</th>\n",
       "      <th>Stock Splits</th>\n",
       "    </tr>\n",
       "    <tr>\n",
       "      <th>Date</th>\n",
       "      <th></th>\n",
       "      <th></th>\n",
       "      <th></th>\n",
       "      <th></th>\n",
       "      <th></th>\n",
       "      <th></th>\n",
       "      <th></th>\n",
       "    </tr>\n",
       "  </thead>\n",
       "  <tbody>\n",
       "    <tr>\n",
       "      <th>2010-06-29</th>\n",
       "      <td>3.800</td>\n",
       "      <td>5.000</td>\n",
       "      <td>3.508</td>\n",
       "      <td>4.778</td>\n",
       "      <td>93831500</td>\n",
       "      <td>0</td>\n",
       "      <td>0.0</td>\n",
       "    </tr>\n",
       "    <tr>\n",
       "      <th>2010-06-30</th>\n",
       "      <td>5.158</td>\n",
       "      <td>6.084</td>\n",
       "      <td>4.660</td>\n",
       "      <td>4.766</td>\n",
       "      <td>85935500</td>\n",
       "      <td>0</td>\n",
       "      <td>0.0</td>\n",
       "    </tr>\n",
       "    <tr>\n",
       "      <th>2010-07-01</th>\n",
       "      <td>5.000</td>\n",
       "      <td>5.184</td>\n",
       "      <td>4.054</td>\n",
       "      <td>4.392</td>\n",
       "      <td>41094000</td>\n",
       "      <td>0</td>\n",
       "      <td>0.0</td>\n",
       "    </tr>\n",
       "    <tr>\n",
       "      <th>2010-07-02</th>\n",
       "      <td>4.600</td>\n",
       "      <td>4.620</td>\n",
       "      <td>3.742</td>\n",
       "      <td>3.840</td>\n",
       "      <td>25699000</td>\n",
       "      <td>0</td>\n",
       "      <td>0.0</td>\n",
       "    </tr>\n",
       "    <tr>\n",
       "      <th>2010-07-06</th>\n",
       "      <td>4.000</td>\n",
       "      <td>4.000</td>\n",
       "      <td>3.166</td>\n",
       "      <td>3.222</td>\n",
       "      <td>34334500</td>\n",
       "      <td>0</td>\n",
       "      <td>0.0</td>\n",
       "    </tr>\n",
       "  </tbody>\n",
       "</table>\n",
       "</div>"
      ],
      "text/plain": [
       "             Open   High    Low  Close    Volume  Dividends  Stock Splits\n",
       "Date                                                                     \n",
       "2010-06-29  3.800  5.000  3.508  4.778  93831500          0           0.0\n",
       "2010-06-30  5.158  6.084  4.660  4.766  85935500          0           0.0\n",
       "2010-07-01  5.000  5.184  4.054  4.392  41094000          0           0.0\n",
       "2010-07-02  4.600  4.620  3.742  3.840  25699000          0           0.0\n",
       "2010-07-06  4.000  4.000  3.166  3.222  34334500          0           0.0"
      ]
     },
     "execution_count": 6,
     "metadata": {},
     "output_type": "execute_result"
    }
   ],
   "source": [
    "Tesla_share_price_data=Tesla.history(period=\"max\")\n",
    "Tesla_share_price_data.head()"
   ]
  },
  {
   "cell_type": "code",
   "execution_count": 8,
   "id": "99b2b5b6-a1c6-48f5-867f-7f6dc320cf3f",
   "metadata": {},
   "outputs": [
    {
     "data": {
      "text/plain": [
       "<AxesSubplot:xlabel='Date'>"
      ]
     },
     "execution_count": 8,
     "metadata": {},
     "output_type": "execute_result"
    },
    {
     "data": {
      "image/png": "[encoded data removed]",
      "text/plain": [
       "<Figure size 432x288 with 1 Axes>"
      ]
     },
     "metadata": {
      "needs_background": "light"
     },
     "output_type": "display_data"
    }
   ],
   "source": [
    "Tesla_share_price_data.reset_index(inplace=True)\n",
    "Tesla_share_price_data.plot(x=\"Date\",y=\"Open\")"
   ]
  },
  {
   "cell_type": "code",
   "execution_count": 10,
   "id": "e0cff890-ec35-41ad-87a5-31f713882777",
   "metadata": {},
   "outputs": [
    {
     "name": "stdout",
     "output_type": "stream",
     "text": [
      "Requirement already satisfied: pandas in /Users/zhenqiangzeng/opt/anaconda3/lib/python3.9/site-packages (1.3.3)\n",
      "Requirement already satisfied: pytz>=2017.3 in /Users/zhenqiangzeng/opt/anaconda3/lib/python3.9/site-packages (from pandas) (2021.3)\n",
      "Requirement already satisfied: python-dateutil>=2.7.3 in /Users/zhenqiangzeng/opt/anaconda3/lib/python3.9/site-packages (from pandas) (2.8.2)\n",
      "Requirement already satisfied: numpy>=1.17.3 in /Users/zhenqiangzeng/opt/anaconda3/lib/python3.9/site-packages (from pandas) (1.21.5)\n",
      "Requirement already satisfied: six>=1.5 in /Users/zhenqiangzeng/opt/anaconda3/lib/python3.9/site-packages (from python-dateutil>=2.7.3->pandas) (1.16.0)\n",
      "Requirement already satisfied: requests in /Users/zhenqiangzeng/opt/anaconda3/lib/python3.9/site-packages (2.26.0)\n",
      "Requirement already satisfied: idna<4,>=2.5 in /Users/zhenqiangzeng/opt/anaconda3/lib/python3.9/site-packages (from requests) (3.3)\n",
      "Requirement already satisfied: urllib3<1.27,>=1.21.1 in /Users/zhenqiangzeng/opt/anaconda3/lib/python3.9/site-packages (from requests) (1.26.9)\n",
      "Requirement already satisfied: certifi>=2017.4.17 in /Users/zhenqiangzeng/opt/anaconda3/lib/python3.9/site-packages (from requests) (2021.10.8)\n",
      "Requirement already satisfied: charset-normalizer~=2.0.0 in /Users/zhenqiangzeng/opt/anaconda3/lib/python3.9/site-packages (from requests) (2.0.4)\n",
      "Requirement already satisfied: bs4 in /Users/zhenqiangzeng/opt/anaconda3/lib/python3.9/site-packages (0.0.1)\n",
      "Requirement already satisfied: beautifulsoup4 in /Users/zhenqiangzeng/opt/anaconda3/lib/python3.9/site-packages (from bs4) (4.11.1)\n",
      "Requirement already satisfied: soupsieve>1.2 in /Users/zhenqiangzeng/opt/anaconda3/lib/python3.9/site-packages (from beautifulsoup4->bs4) (2.3.1)\n",
      "Requirement already satisfied: lxml in /Users/zhenqiangzeng/opt/anaconda3/lib/python3.9/site-packages (4.6.4)\n",
      "Requirement already satisfied: plotly in /Users/zhenqiangzeng/opt/anaconda3/lib/python3.9/site-packages (5.3.1)\n",
      "Requirement already satisfied: tenacity>=6.2.0 in /Users/zhenqiangzeng/opt/anaconda3/lib/python3.9/site-packages (from plotly) (8.0.1)\n",
      "Requirement already satisfied: six in /Users/zhenqiangzeng/opt/anaconda3/lib/python3.9/site-packages (from plotly) (1.16.0)\n"
     ]
    }
   ],
   "source": [
    "!pip install pandas \n",
    "!pip install requests \n",
    "!pip install bs4 \n",
    "!pip install lxml\n",
    "!pip install plotly \n",
    "\n"
   ]
  },
  {
   "cell_type": "code",
   "execution_count": null,
   "id": "06b2771a-9189-4f3a-9e32-1ba99c168657",
   "metadata": {},
   "outputs": [],
   "source": []
  }
 ],
 "metadata": {
  "kernelspec": {
   "display_name": "Python 3 (ipykernel)",
   "language": "python",
   "name": "python3"
  },
  "language_info": {
   "codemirror_mode": {
    "name": "ipython",
    "version": 3
   },
   "file_extension": ".py",
   "mimetype": "text/x-python",
   "name": "python",
   "nbconvert_exporter": "python",
   "pygments_lexer": "ipython3",
   "version": "3.9.12"
  }
 },
 "nbformat": 4,
 "nbformat_minor": 5
}
