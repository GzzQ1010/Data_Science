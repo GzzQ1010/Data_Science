{
 "cells": [
  {
   "cell_type": "code",
   "execution_count": 1,
   "id": "b5cb7610-ea27-4173-b80f-1f7682dc2c27",
   "metadata": {},
   "outputs": [
    {
     "name": "stdout",
     "output_type": "stream",
     "text": [
      "Area of circle with radius 8 is 201.0619264\n",
      "Area of circle with radius 10 is 314.15926\n"
     ]
    }
   ],
   "source": [
    "r=8\n",
    "pi=3.1415926\n",
    "area_r=pi*r**2\n",
    "print('Area of circle with radius {} is {}'.format(r,area_r))\n",
    "R=r+2\n",
    "area_R=pi*R**2\n",
    "print('Area of circle with radius {} is {}'.format(R,area_R))\n"
   ]
  },
  {
   "cell_type": "code",
   "execution_count": null,
   "id": "26dff9c3-b4f3-4168-b6dd-0aa0f0642eb6",
   "metadata": {},
   "outputs": [],
   "source": []
  }
 ],
 "metadata": {
  "kernelspec": {
   "display_name": "Python 3 (ipykernel)",
   "language": "python",
   "name": "python3"
  },
  "language_info": {
   "codemirror_mode": {
    "name": "ipython",
    "version": 3
   },
   "file_extension": ".py",
   "mimetype": "text/x-python",
   "name": "python",
   "nbconvert_exporter": "python",
   "pygments_lexer": "ipython3",
   "version": "3.9.12"
  }
 },
 "nbformat": 4,
 "nbformat_minor": 5
}
