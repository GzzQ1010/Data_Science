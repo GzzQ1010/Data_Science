{
 "cells": [
  {
   "cell_type": "code",
   "execution_count": 3,
   "id": "e1fc930a-1388-490e-aabd-719c2db0380e",
   "metadata": {},
   "outputs": [
    {
     "name": "stdout",
     "output_type": "stream",
     "text": [
      "Requirement already satisfied: bs4 in /Users/zhenqiangzeng/opt/anaconda3/lib/python3.9/site-packages (0.0.1)\n",
      "Requirement already satisfied: beautifulsoup4 in /Users/zhenqiangzeng/opt/anaconda3/lib/python3.9/site-packages (from bs4) (4.11.1)\n",
      "Requirement already satisfied: soupsieve>1.2 in /Users/zhenqiangzeng/opt/anaconda3/lib/python3.9/site-packages (from beautifulsoup4->bs4) (2.3.1)\n",
      "Requirement already satisfied: lxml in /Users/zhenqiangzeng/opt/anaconda3/lib/python3.9/site-packages (4.6.4)\n"
     ]
    }
   ],
   "source": [
    "## install and import packages \n",
    "import requests \n",
    "!pip install bs4\n",
    "from bs4 import BeautifulSoup as bs4 \n",
    "!pip install lxml \n",
    "import pandas as pd \n",
    "import numpy as np \n"
   ]
  },
  {
   "cell_type": "code",
   "execution_count": 17,
   "id": "b3aecee4-3015-44ea-bcb1-63e42167c6de",
   "metadata": {},
   "outputs": [],
   "source": [
    "def get_company_info(url):\n",
    "    respond=requests.get(url)\n",
    "    result_page=bs4(respond.content,'html.parser')\n",
    "    linkedin_url=\"\"\n",
    "    for i in result_page.find_all(\"a\"):\n",
    "        if not i.get(\"href\") is None:\n",
    "            if \"linkedin\" in i.get(\"href\"):\n",
    "                linkedin_url=i.get(\"href\")\n",
    "    try:\n",
    "        company_title=result_page.find(\"head\").find(\"title\").text\n",
    "    except:\n",
    "        company_title=\"\"\n",
    "    try: \n",
    "        company_description=result_page.find(\"meta\",property=\"og.description\").text \n",
    "    except:\n",
    "        company_description=\"\"\n",
    "    return[url,linkedin_url,company_title,company_description]\n",
    "    \n",
    "    "
   ]
  },
  {
   "cell_type": "code",
   "execution_count": 18,
   "id": "0197e11a-b960-4b13-ad77-8d21aba8a6c1",
   "metadata": {},
   "outputs": [
    {
     "data": {
      "text/plain": [
       "['https://www.coursera.org',\n",
       " 'https://www.linkedin.com/company/coursera',\n",
       " 'Coursera | Online Courses & Credentials From Top Educators. Join for Free',\n",
       " '']"
      ]
     },
     "execution_count": 18,
     "metadata": {},
     "output_type": "execute_result"
    }
   ],
   "source": [
    "get_company_info('https://www.coursera.org')"
   ]
  },
  {
   "cell_type": "code",
   "execution_count": null,
   "id": "7a8a872f-84a7-447a-ac6d-606a2e2aaa2f",
   "metadata": {},
   "outputs": [],
   "source": []
  },
  {
   "cell_type": "code",
   "execution_count": null,
   "id": "50ecb611-cb5f-40fa-abfd-a5986f86d23d",
   "metadata": {},
   "outputs": [],
   "source": []
  }
 ],
 "metadata": {
  "kernelspec": {
   "display_name": "Python 3 (ipykernel)",
   "language": "python",
   "name": "python3"
  },
  "language_info": {
   "codemirror_mode": {
    "name": "ipython",
    "version": 3
   },
   "file_extension": ".py",
   "mimetype": "text/x-python",
   "name": "python",
   "nbconvert_exporter": "python",
   "pygments_lexer": "ipython3",
   "version": "3.9.12"
  }
 },
 "nbformat": 4,
 "nbformat_minor": 5
}
