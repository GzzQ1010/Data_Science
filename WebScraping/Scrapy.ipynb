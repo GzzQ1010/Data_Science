{
 "cells": [
  {
   "cell_type": "code",
   "execution_count": 32,
   "id": "866ea008-567d-4e3f-9b77-20f4f4dcc160",
   "metadata": {},
   "outputs": [
    {
     "name": "stdout",
     "output_type": "stream",
     "text": [
      "Requirement already satisfied: scrapy in /Users/zhenqiangzeng/opt/anaconda3/lib/python3.9/site-packages (2.6.1)\n",
      "Requirement already satisfied: itemloaders>=1.0.1 in /Users/zhenqiangzeng/opt/anaconda3/lib/python3.9/site-packages (from scrapy) (1.0.4)\n",
      "Requirement already satisfied: lxml>=3.5.0 in /Users/zhenqiangzeng/opt/anaconda3/lib/python3.9/site-packages (from scrapy) (4.6.4)\n",
      "Requirement already satisfied: parsel>=1.5.0 in /Users/zhenqiangzeng/opt/anaconda3/lib/python3.9/site-packages (from scrapy) (1.6.0)\n",
      "Requirement already satisfied: cssselect>=0.9.1 in /Users/zhenqiangzeng/opt/anaconda3/lib/python3.9/site-packages (from scrapy) (1.1.0)\n",
      "Requirement already satisfied: protego>=0.1.15 in /Users/zhenqiangzeng/opt/anaconda3/lib/python3.9/site-packages (from scrapy) (0.1.16)\n",
      "Requirement already satisfied: setuptools in /Users/zhenqiangzeng/opt/anaconda3/lib/python3.9/site-packages (from scrapy) (61.2.0)\n",
      "Requirement already satisfied: pyOpenSSL>=16.2.0 in /Users/zhenqiangzeng/opt/anaconda3/lib/python3.9/site-packages (from scrapy) (21.0.0)\n",
      "Requirement already satisfied: cryptography>=2.0 in /Users/zhenqiangzeng/opt/anaconda3/lib/python3.9/site-packages (from scrapy) (3.4.8)\n",
      "Requirement already satisfied: PyDispatcher>=2.0.5 in /Users/zhenqiangzeng/opt/anaconda3/lib/python3.9/site-packages (from scrapy) (2.0.5)\n",
      "Requirement already satisfied: service-identity>=16.0.0 in /Users/zhenqiangzeng/opt/anaconda3/lib/python3.9/site-packages (from scrapy) (18.1.0)\n",
      "Requirement already satisfied: tldextract in /Users/zhenqiangzeng/opt/anaconda3/lib/python3.9/site-packages (from scrapy) (3.2.0)\n",
      "Requirement already satisfied: zope.interface>=4.1.3 in /Users/zhenqiangzeng/opt/anaconda3/lib/python3.9/site-packages (from scrapy) (5.4.0)\n",
      "Requirement already satisfied: w3lib>=1.17.0 in /Users/zhenqiangzeng/opt/anaconda3/lib/python3.9/site-packages (from scrapy) (1.21.0)\n",
      "Requirement already satisfied: Twisted>=17.9.0 in /Users/zhenqiangzeng/opt/anaconda3/lib/python3.9/site-packages (from scrapy) (22.2.0)\n",
      "Requirement already satisfied: itemadapter>=0.1.0 in /Users/zhenqiangzeng/opt/anaconda3/lib/python3.9/site-packages (from scrapy) (0.3.0)\n",
      "Requirement already satisfied: queuelib>=1.4.2 in /Users/zhenqiangzeng/opt/anaconda3/lib/python3.9/site-packages (from scrapy) (1.5.0)\n",
      "Requirement already satisfied: cffi>=1.12 in /Users/zhenqiangzeng/opt/anaconda3/lib/python3.9/site-packages (from cryptography>=2.0->scrapy) (1.15.0)\n",
      "Requirement already satisfied: pycparser in /Users/zhenqiangzeng/opt/anaconda3/lib/python3.9/site-packages (from cffi>=1.12->cryptography>=2.0->scrapy) (2.21)\n",
      "Requirement already satisfied: jmespath>=0.9.5 in /Users/zhenqiangzeng/opt/anaconda3/lib/python3.9/site-packages (from itemloaders>=1.0.1->scrapy) (0.10.0)\n",
      "Requirement already satisfied: six>=1.6.0 in /Users/zhenqiangzeng/opt/anaconda3/lib/python3.9/site-packages (from parsel>=1.5.0->scrapy) (1.16.0)\n",
      "Requirement already satisfied: pyasn1-modules in /Users/zhenqiangzeng/opt/anaconda3/lib/python3.9/site-packages (from service-identity>=16.0.0->scrapy) (0.2.8)\n",
      "Requirement already satisfied: pyasn1 in /Users/zhenqiangzeng/opt/anaconda3/lib/python3.9/site-packages (from service-identity>=16.0.0->scrapy) (0.4.8)\n",
      "Requirement already satisfied: attrs>=16.0.0 in /Users/zhenqiangzeng/opt/anaconda3/lib/python3.9/site-packages (from service-identity>=16.0.0->scrapy) (21.4.0)\n",
      "Requirement already satisfied: constantly>=15.1 in /Users/zhenqiangzeng/opt/anaconda3/lib/python3.9/site-packages (from Twisted>=17.9.0->scrapy) (15.1.0)\n",
      "Requirement already satisfied: incremental>=21.3.0 in /Users/zhenqiangzeng/opt/anaconda3/lib/python3.9/site-packages (from Twisted>=17.9.0->scrapy) (21.3.0)\n",
      "Requirement already satisfied: hyperlink>=17.1.1 in /Users/zhenqiangzeng/opt/anaconda3/lib/python3.9/site-packages (from Twisted>=17.9.0->scrapy) (21.0.0)\n",
      "Requirement already satisfied: typing-extensions>=3.6.5 in /Users/zhenqiangzeng/opt/anaconda3/lib/python3.9/site-packages (from Twisted>=17.9.0->scrapy) (4.1.1)\n",
      "Requirement already satisfied: Automat>=0.8.0 in /Users/zhenqiangzeng/opt/anaconda3/lib/python3.9/site-packages (from Twisted>=17.9.0->scrapy) (20.2.0)\n",
      "Requirement already satisfied: idna>=2.5 in /Users/zhenqiangzeng/opt/anaconda3/lib/python3.9/site-packages (from hyperlink>=17.1.1->Twisted>=17.9.0->scrapy) (3.3)\n",
      "Requirement already satisfied: requests>=2.1.0 in /Users/zhenqiangzeng/opt/anaconda3/lib/python3.9/site-packages (from tldextract->scrapy) (2.27.1)\n",
      "Requirement already satisfied: requests-file>=1.4 in /Users/zhenqiangzeng/opt/anaconda3/lib/python3.9/site-packages (from tldextract->scrapy) (1.5.1)\n",
      "Requirement already satisfied: filelock>=3.0.8 in /Users/zhenqiangzeng/opt/anaconda3/lib/python3.9/site-packages (from tldextract->scrapy) (3.6.0)\n",
      "Requirement already satisfied: certifi>=2017.4.17 in /Users/zhenqiangzeng/opt/anaconda3/lib/python3.9/site-packages (from requests>=2.1.0->tldextract->scrapy) (2021.10.8)\n",
      "Requirement already satisfied: urllib3<1.27,>=1.21.1 in /Users/zhenqiangzeng/opt/anaconda3/lib/python3.9/site-packages (from requests>=2.1.0->tldextract->scrapy) (1.26.9)\n",
      "Requirement already satisfied: charset-normalizer~=2.0.0 in /Users/zhenqiangzeng/opt/anaconda3/lib/python3.9/site-packages (from requests>=2.1.0->tldextract->scrapy) (2.0.4)\n",
      "Note: you may need to restart the kernel to use updated packages.\n"
     ]
    }
   ],
   "source": [
    "pip install scrapy "
   ]
  },
  {
   "cell_type": "code",
   "execution_count": 11,
   "id": "a5b6aa7f-1e1c-45ca-a9ce-a88045d77b69",
   "metadata": {},
   "outputs": [],
   "source": [
    "import scrapy \n",
    "import requests as request \n",
    "from scrapy.selector import Selector\n",
    "from scrapy.http import HtmlResponse"
   ]
  },
  {
   "cell_type": "code",
   "execution_count": 29,
   "id": "19f85546-1761-46c2-983d-a006f63a6bee",
   "metadata": {},
   "outputs": [],
   "source": [
    "class PostsSpider(scrapy.Spider):\n",
    "    name= \"posts\"\n",
    "    \n",
    "    start_url=(\"https://www.cognitivescale.com/ai-engineering/?utm_src=AdWords&utm_campaign=AIEngineering&utm_term=Platform&utm_campaign=AIPersonalization&keyword=artificial%20intelligence%20companies&gclid=CjwKCAjwi8iXBhBeEiwAKbUofZ47fj7WfaWMFS-uoPk8kPpgmLBFEmQaimBSKTqvi1T1lpWFCpbuPhoC930QAvD_BwE\")\n",
    "    \n",
    "    def parse(self,response):\n",
    "        page=response.start_url.split('/')\n",
    "        filename='Cognitive.html'%page\n",
    "        with open (filename,'w') as f: \n",
    "            f.write(response.body)\n"
   ]
  },
  {
   "cell_type": "code",
   "execution_count": 33,
   "id": "e373a9e9-6202-44b7-98fc-6be11c2fe854",
   "metadata": {},
   "outputs": [
    {
     "ename": "SyntaxError",
     "evalue": "invalid syntax (2057390077.py, line 1)",
     "output_type": "error",
     "traceback": [
      "\u001b[0;36m  Input \u001b[0;32mIn [33]\u001b[0;36m\u001b[0m\n\u001b[0;31m    scrapy shell https://www.cognitivescale.com/ai-engineering/?utm_src=AdWords&utm_campaign=AIEngineering&utm_term=Platform&utm_campaign=AIPersonalization&keyword=artificial%20intelligence%20companies&gclid=CjwKCAjwi8iXBhBeEiwAKbUofZ47fj7WfaWMFS-uoPk8kPpgmLBFEmQaimBSKTqvi1T1lpWFCpbuPhoC930QAvD_BwE\u001b[0m\n\u001b[0m           ^\u001b[0m\n\u001b[0;31mSyntaxError\u001b[0m\u001b[0;31m:\u001b[0m invalid syntax\n"
     ]
    }
   ],
   "source": [
    "scrapy shell https://www.cognitivescale.com/ai-engineering/?utm_src=AdWords&utm_campaign=AIEngineering&utm_term=Platform&utm_campaign=AIPersonalization&keyword=artificial%20intelligence%20companies&gclid=CjwKCAjwi8iXBhBeEiwAKbUofZ47fj7WfaWMFS-uoPk8kPpgmLBFEmQaimBSKTqvi1T1lpWFCpbuPhoC930QAvD_BwE"
   ]
  },
  {
   "cell_type": "code",
   "execution_count": null,
   "id": "8d7dd05b-a657-4793-8869-a69306fbc494",
   "metadata": {},
   "outputs": [],
   "source": []
  },
  {
   "cell_type": "code",
   "execution_count": null,
   "id": "63d944a6-811b-4a40-b086-a2b7a65b2cea",
   "metadata": {},
   "outputs": [],
   "source": []
  }
 ],
 "metadata": {
  "kernelspec": {
   "display_name": "Python 3 (ipykernel)",
   "language": "python",
   "name": "python3"
  },
  "language_info": {
   "codemirror_mode": {
    "name": "ipython",
    "version": 3
   },
   "file_extension": ".py",
   "mimetype": "text/x-python",
   "name": "python",
   "nbconvert_exporter": "python",
   "pygments_lexer": "ipython3",
   "version": "3.9.12"
  }
 },
 "nbformat": 4,
 "nbformat_minor": 5
}
